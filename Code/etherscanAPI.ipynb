{
 "metadata": {
  "language_info": {
   "codemirror_mode": {
    "name": "ipython",
    "version": 3
   },
   "file_extension": ".py",
   "mimetype": "text/x-python",
   "name": "python",
   "nbconvert_exporter": "python",
   "pygments_lexer": "ipython3",
   "version": "3.7.9-final"
  },
  "orig_nbformat": 2,
  "kernelspec": {
   "name": "python379jvsc74a57bd00f5910e32ecd35e540e8a7f4aeb9b6dc2cbfedc879a75ab82a17b255d9311616",
   "display_name": "Python 3.7.9 64-bit ('pyvizenv': conda)"
  }
 },
 "nbformat": 4,
 "nbformat_minor": 2,
 "cells": [
  {
   "cell_type": "code",
   "execution_count": 1,
   "metadata": {},
   "outputs": [],
   "source": [
    "import os\n",
    "import numpy\n",
    "import pandas as pd\n",
    "\n",
    "import requests\n",
    "\n",
    "from dotenv import load_dotenv\n",
    "\n",
    "import json\n",
    "from pprint import pprint\n",
    "%matplotlib inline"
   ]
  },
  {
   "cell_type": "code",
   "execution_count": 2,
   "metadata": {},
   "outputs": [],
   "source": [
    "# Load .env enviroment variables\n",
    "load_dotenv()\n",
    "\n",
    "etherscan_key = os.getenv(\"ETHERSCAN_API_KEY\")"
   ]
  },
  {
   "cell_type": "code",
   "execution_count": 3,
   "metadata": {},
   "outputs": [],
   "source": [
    "# Set API URL\n",
    "escan_URL = 'https://api.etherscan.io/api?'\n",
    "\n",
    "# Set ethereum address here\n",
    "eth_address = ''"
   ]
  },
  {
   "cell_type": "code",
   "execution_count": 4,
   "metadata": {},
   "outputs": [],
   "source": [
    "# Set URL extension based on desired data\n",
    "\n",
    "bal_query = (f'module=account&action=balance&address={eth_address}&tag=latest&apikey={etherscan_key}')\n",
    "\n",
    "\n",
    "#for internal transactions\n",
    "\n",
    "# Set start block and end block\n",
    "\n",
    "start_block = 0\n",
    "end_block = 99999999 \n",
    "int_trans_q = (f'module=account&action=txlistinternal&address={eth_address}&startblock={start_block}&endblock={end_block}&sort=asc&apikey={etherscan_key}')\n",
    "\n",
    "\n",
    "# For transfer events of ERC721 tokens\n",
    "\n",
    "#set ERC721 address\n",
    "hashmasks = \"0xc2c747e0f7004f9e8817db2ca4997657a7746928\"\n",
    "axie_721 = '0xf5b0a3efb8e8e4c201e2a935f110eaaf3ffecb8d'\n",
    "token_ad = (f'{hashmasks}')\n",
    "\n",
    "erc721_transfers_q = (f'module=contract&action=tokennfttx&contractaddress={token_ad}&startblock=0&endblock=999999999&sort=asc&apikey={etherscan_key}')\n",
    "\n",
    "## two addresses? erc721_xfer_q = (f'module=account&action=tokennfttx&contractaddress={token_ad}address=0x6975be450864c02b4613023c2152ee0743572325&page=1&offset=100&sort=asc&apikey={etherscan_key}')\n",
    "\n",
    "# The above API offers the following parameters for use.\n",
    "\n",
    "# Module = account/contract\n",
    "\n",
    "# Action = balance etc\n",
    "\n",
    "# Address = the address you want to infer information from\n",
    "\n",
    "# Tag = latest, so that you get the latest balance"
   ]
  },
  {
   "cell_type": "code",
   "execution_count": 5,
   "metadata": {},
   "outputs": [
    {
     "output_type": "execute_result",
     "data": {
      "text/plain": [
       "<Response [200]>"
      ]
     },
     "metadata": {},
     "execution_count": 5
    }
   ],
   "source": [
    "# ping API for ETH balance\n",
    "escan_response = requests.get(escan_URL + bal_query)\n",
    "escan_response\n",
    "\n"
   ]
  },
  {
   "cell_type": "code",
   "execution_count": 6,
   "metadata": {},
   "outputs": [
    {
     "output_type": "stream",
     "name": "stdout",
     "text": [
      "{'message': 'OK', 'result': '669797947717463068', 'status': '1'}\n"
     ]
    }
   ],
   "source": [
    "#json format\n",
    "escan_data = escan_response.json()\n",
    "pprint(escan_data)"
   ]
  },
  {
   "cell_type": "code",
   "execution_count": 7,
   "metadata": {},
   "outputs": [
    {
     "output_type": "execute_result",
     "data": {
      "text/plain": [
       "0.67"
      ]
     },
     "metadata": {},
     "execution_count": 7
    }
   ],
   "source": [
    "eth_balance = (int(escan_data['result']) / 1000000000000000000)\n",
    "round(eth_balance, 3)"
   ]
  },
  {
   "cell_type": "code",
   "execution_count": 8,
   "metadata": {},
   "outputs": [
    {
     "output_type": "error",
     "ename": "NameError",
     "evalue": "name 'int_721xns_resp' is not defined",
     "traceback": [
      "\u001b[0;31m---------------------------------------------------------------------------\u001b[0m",
      "\u001b[0;31mNameError\u001b[0m                                 Traceback (most recent call last)",
      "\u001b[0;32m<ipython-input-8-35fa2ca5f11e>\u001b[0m in \u001b[0;36m<module>\u001b[0;34m\u001b[0m\n\u001b[1;32m      6\u001b[0m \u001b[0;31m#pprint(int_x_data)\u001b[0m\u001b[0;34m\u001b[0m\u001b[0;34m\u001b[0m\u001b[0;34m\u001b[0m\u001b[0m\n\u001b[1;32m      7\u001b[0m \u001b[0;34m\u001b[0m\u001b[0m\n\u001b[0;32m----> 8\u001b[0;31m \u001b[0mint_721xns_data\u001b[0m \u001b[0;34m=\u001b[0m \u001b[0mint_721xns_resp\u001b[0m\u001b[0;34m.\u001b[0m\u001b[0mjson\u001b[0m\u001b[0;34m(\u001b[0m\u001b[0;34m)\u001b[0m\u001b[0;34m\u001b[0m\u001b[0;34m\u001b[0m\u001b[0m\n\u001b[0m\u001b[1;32m      9\u001b[0m \u001b[0mint_721xns_resp\u001b[0m \u001b[0;34m=\u001b[0m \u001b[0mrequests\u001b[0m\u001b[0;34m.\u001b[0m\u001b[0mget\u001b[0m\u001b[0;34m(\u001b[0m\u001b[0mescan_URL\u001b[0m \u001b[0;34m+\u001b[0m \u001b[0merc721_transfers_q\u001b[0m\u001b[0;34m)\u001b[0m\u001b[0;34m\u001b[0m\u001b[0;34m\u001b[0m\u001b[0m\n\u001b[1;32m     10\u001b[0m \u001b[0mpprint\u001b[0m\u001b[0;34m(\u001b[0m\u001b[0mint_721xns_data\u001b[0m\u001b[0;34m)\u001b[0m\u001b[0;34m\u001b[0m\u001b[0;34m\u001b[0m\u001b[0m\n",
      "\u001b[0;31mNameError\u001b[0m: name 'int_721xns_resp' is not defined"
     ]
    }
   ],
   "source": [
    "# Getting Internal Transactions List\n",
    "\n",
    "#escan_response = requests.get(escan_URL + int_trans_q)\n",
    "\n",
    "#int_x_data = escan_response.json()\n",
    "#pprint(int_x_data) \n",
    "\n",
    "int_721xns_data = int_721xns_resp.json()\n",
    "int_721xns_resp = requests.get(escan_URL + erc721_transfers_q)\n",
    "pprint(int_721xns_data)\n",
    "\n",
    "#int_xns_df = pd.DataFrame(int_x_data['result'])\n",
    "#int_xns_df = pd.DataFrame(((requests.get(escan_URL + erc721_transfers_q)).json())['result'])\n",
    "#int_xns_df.head()"
   ]
  },
  {
   "cell_type": "code",
   "execution_count": null,
   "metadata": {},
   "outputs": [],
   "source": [
    "# erc721 transfer events qry\n",
    " = \n",
    "\n",
    "erc721_xfers = pd.DataFrame(((requests.get(escan_URL + int_trans_q)).json())['result'])\n",
    "erc721_xfers.head()"
   ]
  },
  {
   "cell_type": "code",
   "execution_count": 69,
   "metadata": {},
   "outputs": [
    {
     "output_type": "execute_result",
     "data": {
      "text/plain": [
       "                                                 Txhash   Blockno  \\\n",
       "4995  0xf1ec6fbb44e35943f591f32be1faea545f90eff135a2...  11754362   \n",
       "4996  0xf1ec6fbb44e35943f591f32be1faea545f90eff135a2...  11754362   \n",
       "4997  0xf1ec6fbb44e35943f591f32be1faea545f90eff135a2...  11754362   \n",
       "4998  0xf1ec6fbb44e35943f591f32be1faea545f90eff135a2...  11754362   \n",
       "4999  0xf1ec6fbb44e35943f591f32be1faea545f90eff135a2...  11754362   \n",
       "\n",
       "      UnixTimestamp             DateTime  \\\n",
       "4995     1611970321  2021-01-30 01:32:01   \n",
       "4996     1611970321  2021-01-30 01:32:01   \n",
       "4997     1611970321  2021-01-30 01:32:01   \n",
       "4998     1611970321  2021-01-30 01:32:01   \n",
       "4999     1611970321  2021-01-30 01:32:01   \n",
       "\n",
       "                                            From  \\\n",
       "4995  0x0000000000000000000000000000000000000000   \n",
       "4996  0x0000000000000000000000000000000000000000   \n",
       "4997  0x0000000000000000000000000000000000000000   \n",
       "4998  0x0000000000000000000000000000000000000000   \n",
       "4999  0x0000000000000000000000000000000000000000   \n",
       "\n",
       "                                              To  Token_ID  \n",
       "4995  0x6d0bbe84eba47434a0004fc65797b87ef1c913b7      4942  \n",
       "4996  0x6d0bbe84eba47434a0004fc65797b87ef1c913b7      4943  \n",
       "4997  0x6d0bbe84eba47434a0004fc65797b87ef1c913b7      4944  \n",
       "4998  0x6d0bbe84eba47434a0004fc65797b87ef1c913b7      4945  \n",
       "4999  0x6d0bbe84eba47434a0004fc65797b87ef1c913b7      4946  "
      ],
      "text/html": "<div>\n<style scoped>\n    .dataframe tbody tr th:only-of-type {\n        vertical-align: middle;\n    }\n\n    .dataframe tbody tr th {\n        vertical-align: top;\n    }\n\n    .dataframe thead th {\n        text-align: right;\n    }\n</style>\n<table border=\"1\" class=\"dataframe\">\n  <thead>\n    <tr style=\"text-align: right;\">\n      <th></th>\n      <th>Txhash</th>\n      <th>Blockno</th>\n      <th>UnixTimestamp</th>\n      <th>DateTime</th>\n      <th>From</th>\n      <th>To</th>\n      <th>Token_ID</th>\n    </tr>\n  </thead>\n  <tbody>\n    <tr>\n      <th>4995</th>\n      <td>0xf1ec6fbb44e35943f591f32be1faea545f90eff135a2...</td>\n      <td>11754362</td>\n      <td>1611970321</td>\n      <td>2021-01-30 01:32:01</td>\n      <td>0x0000000000000000000000000000000000000000</td>\n      <td>0x6d0bbe84eba47434a0004fc65797b87ef1c913b7</td>\n      <td>4942</td>\n    </tr>\n    <tr>\n      <th>4996</th>\n      <td>0xf1ec6fbb44e35943f591f32be1faea545f90eff135a2...</td>\n      <td>11754362</td>\n      <td>1611970321</td>\n      <td>2021-01-30 01:32:01</td>\n      <td>0x0000000000000000000000000000000000000000</td>\n      <td>0x6d0bbe84eba47434a0004fc65797b87ef1c913b7</td>\n      <td>4943</td>\n    </tr>\n    <tr>\n      <th>4997</th>\n      <td>0xf1ec6fbb44e35943f591f32be1faea545f90eff135a2...</td>\n      <td>11754362</td>\n      <td>1611970321</td>\n      <td>2021-01-30 01:32:01</td>\n      <td>0x0000000000000000000000000000000000000000</td>\n      <td>0x6d0bbe84eba47434a0004fc65797b87ef1c913b7</td>\n      <td>4944</td>\n    </tr>\n    <tr>\n      <th>4998</th>\n      <td>0xf1ec6fbb44e35943f591f32be1faea545f90eff135a2...</td>\n      <td>11754362</td>\n      <td>1611970321</td>\n      <td>2021-01-30 01:32:01</td>\n      <td>0x0000000000000000000000000000000000000000</td>\n      <td>0x6d0bbe84eba47434a0004fc65797b87ef1c913b7</td>\n      <td>4945</td>\n    </tr>\n    <tr>\n      <th>4999</th>\n      <td>0xf1ec6fbb44e35943f591f32be1faea545f90eff135a2...</td>\n      <td>11754362</td>\n      <td>1611970321</td>\n      <td>2021-01-30 01:32:01</td>\n      <td>0x0000000000000000000000000000000000000000</td>\n      <td>0x6d0bbe84eba47434a0004fc65797b87ef1c913b7</td>\n      <td>4946</td>\n    </tr>\n  </tbody>\n</table>\n</div>"
     },
     "metadata": {},
     "execution_count": 69
    }
   ],
   "source": [
    "# import Hashmask sales csv\n",
    "hm_df = pd.read_csv(\"/Users/stickybeak/Documents/Monashfintech/Assignments/nfty_tree.io/Resources/HMsalesALL.csv\")\n",
    "hm_df.tail()"
   ]
  },
  {
   "cell_type": "code",
   "execution_count": null,
   "metadata": {},
   "outputs": [],
   "source": []
  }
 ]
}