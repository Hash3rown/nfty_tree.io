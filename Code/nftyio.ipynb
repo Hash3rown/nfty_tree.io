{
 "cells": [
  {
   "cell_type": "markdown",
   "metadata": {},
   "source": [
    "# NFTY Tree group code mash\n",
    "****"
   ]
  },
  {
   "cell_type": "markdown",
   "metadata": {},
   "source": [
    "## 1) \n",
    "### NFT Gaming"
   ]
  },
  {
   "cell_type": "code",
   "execution_count": null,
   "metadata": {},
   "outputs": [],
   "source": []
  },
  {
   "cell_type": "code",
   "execution_count": 1,
   "metadata": {},
   "outputs": [
    {
     "ename": "ModuleNotFoundError",
     "evalue": "No module named 'matplotlib.colors'",
     "output_type": "error",
     "traceback": [
      "\u001b[0;31m---------------------------------------------------------------------------\u001b[0m",
      "\u001b[0;31mModuleNotFoundError\u001b[0m                       Traceback (most recent call last)",
      "\u001b[0;32m<ipython-input-1-de407f8939a5>\u001b[0m in \u001b[0;36m<module>\u001b[0;34m\u001b[0m\n\u001b[1;32m      4\u001b[0m \u001b[0;32mfrom\u001b[0m \u001b[0mpathlib\u001b[0m \u001b[0;32mimport\u001b[0m \u001b[0mPath\u001b[0m\u001b[0;34m\u001b[0m\u001b[0;34m\u001b[0m\u001b[0m\n\u001b[1;32m      5\u001b[0m \u001b[0;32mimport\u001b[0m \u001b[0mnumpy\u001b[0m \u001b[0;32mas\u001b[0m \u001b[0mnp\u001b[0m\u001b[0;34m\u001b[0m\u001b[0;34m\u001b[0m\u001b[0m\n\u001b[0;32m----> 6\u001b[0;31m \u001b[0;32mimport\u001b[0m \u001b[0mseaborn\u001b[0m \u001b[0;32mas\u001b[0m \u001b[0msns\u001b[0m\u001b[0;34m\u001b[0m\u001b[0;34m\u001b[0m\u001b[0m\n\u001b[0m\u001b[1;32m      7\u001b[0m \u001b[0;32mimport\u001b[0m \u001b[0mmatplotlib\u001b[0m\u001b[0;34m.\u001b[0m\u001b[0mpyplot\u001b[0m \u001b[0;32mas\u001b[0m \u001b[0mplt\u001b[0m\u001b[0;34m\u001b[0m\u001b[0;34m\u001b[0m\u001b[0m\n",
      "\u001b[0;32m~/opt/anaconda3/envs/pyvizenv/lib/python3.7/site-packages/seaborn/__init__.py\u001b[0m in \u001b[0;36m<module>\u001b[0;34m\u001b[0m\n\u001b[1;32m      1\u001b[0m \u001b[0;31m# Import seaborn objects\u001b[0m\u001b[0;34m\u001b[0m\u001b[0;34m\u001b[0m\u001b[0;34m\u001b[0m\u001b[0m\n\u001b[0;32m----> 2\u001b[0;31m \u001b[0;32mfrom\u001b[0m \u001b[0;34m.\u001b[0m\u001b[0mrcmod\u001b[0m \u001b[0;32mimport\u001b[0m \u001b[0;34m*\u001b[0m  \u001b[0;31m# noqa: F401,F403\u001b[0m\u001b[0;34m\u001b[0m\u001b[0;34m\u001b[0m\u001b[0m\n\u001b[0m\u001b[1;32m      3\u001b[0m \u001b[0;32mfrom\u001b[0m \u001b[0;34m.\u001b[0m\u001b[0mutils\u001b[0m \u001b[0;32mimport\u001b[0m \u001b[0;34m*\u001b[0m  \u001b[0;31m# noqa: F401,F403\u001b[0m\u001b[0;34m\u001b[0m\u001b[0;34m\u001b[0m\u001b[0m\n\u001b[1;32m      4\u001b[0m \u001b[0;32mfrom\u001b[0m \u001b[0;34m.\u001b[0m\u001b[0mpalettes\u001b[0m \u001b[0;32mimport\u001b[0m \u001b[0;34m*\u001b[0m  \u001b[0;31m# noqa: F401,F403\u001b[0m\u001b[0;34m\u001b[0m\u001b[0;34m\u001b[0m\u001b[0m\n\u001b[1;32m      5\u001b[0m \u001b[0;32mfrom\u001b[0m \u001b[0;34m.\u001b[0m\u001b[0mrelational\u001b[0m \u001b[0;32mimport\u001b[0m \u001b[0;34m*\u001b[0m  \u001b[0;31m# noqa: F401,F403\u001b[0m\u001b[0;34m\u001b[0m\u001b[0;34m\u001b[0m\u001b[0m\n",
      "\u001b[0;32m~/opt/anaconda3/envs/pyvizenv/lib/python3.7/site-packages/seaborn/rcmod.py\u001b[0m in \u001b[0;36m<module>\u001b[0;34m\u001b[0m\n\u001b[1;32m      5\u001b[0m \u001b[0;32mimport\u001b[0m \u001b[0mmatplotlib\u001b[0m \u001b[0;32mas\u001b[0m \u001b[0mmpl\u001b[0m\u001b[0;34m\u001b[0m\u001b[0;34m\u001b[0m\u001b[0m\n\u001b[1;32m      6\u001b[0m \u001b[0;32mfrom\u001b[0m \u001b[0mcycler\u001b[0m \u001b[0;32mimport\u001b[0m \u001b[0mcycler\u001b[0m\u001b[0;34m\u001b[0m\u001b[0;34m\u001b[0m\u001b[0m\n\u001b[0;32m----> 7\u001b[0;31m \u001b[0;32mfrom\u001b[0m \u001b[0;34m.\u001b[0m \u001b[0;32mimport\u001b[0m \u001b[0mpalettes\u001b[0m\u001b[0;34m\u001b[0m\u001b[0;34m\u001b[0m\u001b[0m\n\u001b[0m\u001b[1;32m      8\u001b[0m \u001b[0;34m\u001b[0m\u001b[0m\n\u001b[1;32m      9\u001b[0m \u001b[0;34m\u001b[0m\u001b[0m\n",
      "\u001b[0;32m~/opt/anaconda3/envs/pyvizenv/lib/python3.7/site-packages/seaborn/palettes.py\u001b[0m in \u001b[0;36m<module>\u001b[0;34m\u001b[0m\n\u001b[1;32m      7\u001b[0m \u001b[0;32mfrom\u001b[0m \u001b[0;34m.\u001b[0m\u001b[0mexternal\u001b[0m \u001b[0;32mimport\u001b[0m \u001b[0mhusl\u001b[0m\u001b[0;34m\u001b[0m\u001b[0;34m\u001b[0m\u001b[0m\n\u001b[1;32m      8\u001b[0m \u001b[0;34m\u001b[0m\u001b[0m\n\u001b[0;32m----> 9\u001b[0;31m \u001b[0;32mfrom\u001b[0m \u001b[0;34m.\u001b[0m\u001b[0mutils\u001b[0m \u001b[0;32mimport\u001b[0m \u001b[0mdesaturate\u001b[0m\u001b[0;34m,\u001b[0m \u001b[0mget_color_cycle\u001b[0m\u001b[0;34m\u001b[0m\u001b[0;34m\u001b[0m\u001b[0m\n\u001b[0m\u001b[1;32m     10\u001b[0m \u001b[0;32mfrom\u001b[0m \u001b[0;34m.\u001b[0m\u001b[0mcolors\u001b[0m \u001b[0;32mimport\u001b[0m \u001b[0mxkcd_rgb\u001b[0m\u001b[0;34m,\u001b[0m \u001b[0mcrayons\u001b[0m\u001b[0;34m\u001b[0m\u001b[0;34m\u001b[0m\u001b[0m\n\u001b[1;32m     11\u001b[0m \u001b[0;34m\u001b[0m\u001b[0m\n",
      "\u001b[0;32m~/opt/anaconda3/envs/pyvizenv/lib/python3.7/site-packages/seaborn/utils.py\u001b[0m in \u001b[0;36m<module>\u001b[0;34m\u001b[0m\n\u001b[1;32m     11\u001b[0m \u001b[0;32mimport\u001b[0m \u001b[0mpandas\u001b[0m \u001b[0;32mas\u001b[0m \u001b[0mpd\u001b[0m\u001b[0;34m\u001b[0m\u001b[0;34m\u001b[0m\u001b[0m\n\u001b[1;32m     12\u001b[0m \u001b[0;32mimport\u001b[0m \u001b[0mmatplotlib\u001b[0m \u001b[0;32mas\u001b[0m \u001b[0mmpl\u001b[0m\u001b[0;34m\u001b[0m\u001b[0;34m\u001b[0m\u001b[0m\n\u001b[0;32m---> 13\u001b[0;31m \u001b[0;32mimport\u001b[0m \u001b[0mmatplotlib\u001b[0m\u001b[0;34m.\u001b[0m\u001b[0mcolors\u001b[0m \u001b[0;32mas\u001b[0m \u001b[0mmplcol\u001b[0m\u001b[0;34m\u001b[0m\u001b[0;34m\u001b[0m\u001b[0m\n\u001b[0m\u001b[1;32m     14\u001b[0m \u001b[0;32mimport\u001b[0m \u001b[0mmatplotlib\u001b[0m\u001b[0;34m.\u001b[0m\u001b[0mpyplot\u001b[0m \u001b[0;32mas\u001b[0m \u001b[0mplt\u001b[0m\u001b[0;34m\u001b[0m\u001b[0;34m\u001b[0m\u001b[0m\n\u001b[1;32m     15\u001b[0m \u001b[0;32mfrom\u001b[0m \u001b[0mmatplotlib\u001b[0m\u001b[0;34m.\u001b[0m\u001b[0mcbook\u001b[0m \u001b[0;32mimport\u001b[0m \u001b[0mnormalize_kwargs\u001b[0m\u001b[0;34m\u001b[0m\u001b[0;34m\u001b[0m\u001b[0m\n",
      "\u001b[0;31mModuleNotFoundError\u001b[0m: No module named 'matplotlib.colors'"
     ]
    }
   ],
   "source": [
    "# Initial imports\n",
    "import pandas as pd\n",
    "import datetime as dt\n",
    "from pathlib import Path\n",
    "import numpy as np\n",
    "import seaborn as sns\n",
    "import matplotlib.pyplot as plt\n",
    "\n",
    "from panel.interact import interact\n",
    "import json\n",
    "from pprint import pprint\n",
    "\n",
    "import plotly.express as px\n",
    "%matplotlib inline"
   ]
  },
  {
   "cell_type": "markdown",
   "metadata": {},
   "source": [
    "____________________________________________________________\n",
    "## FILEPATHS BELOW MAY NEED TO BE UPDATED\n",
    "____________________________________________________________"
   ]
  },
  {
   "cell_type": "code",
   "execution_count": null,
   "metadata": {},
   "outputs": [],
   "source": [
    "# Set the path for each CSV file\n",
    "axs_path = Path(\"../Resources/axs-usd-max.csv\")\n",
    "chain_path = Path(\"../Resources/chain-usd-max.csv\")\n",
    "mana_path = Path(\"../Resources/mana-usd-max.csv\")\n",
    "mega_path = Path(\"../Resources/mega-usd-max.csv\")\n",
    "sand_path = Path(\"../Resources/sand-usd-max.csv\")\n",
    "# cgg_path = Path(\"../Resources/cgg-usd-max.csv\")\n",
    "\n",
    "# Read in the data into Pandas DataFrames\n",
    "axs_df = pd.read_csv(axs_path, index_col=\"snapped_at\", infer_datetime_format=True, parse_dates=True)\n",
    "chain_df = pd.read_csv(chain_path, index_col=\"snapped_at\", infer_datetime_format=True, parse_dates=True)\n",
    "mana_df = pd.read_csv(mana_path, index_col=\"snapped_at\", infer_datetime_format=True, parse_dates=True)\n",
    "mega_df = pd.read_csv(mega_path, index_col=\"snapped_at\", infer_datetime_format=True, parse_dates=True)\n",
    "sand_df = pd.read_csv(sand_path, index_col=\"snapped_at\", infer_datetime_format=True, parse_dates=True)\n",
    "# cgg_df = pd.read_csv(cgg_path, index_col=\"snapped_at\", infer_datetime_format=True, parse_dates=True)\n",
    "\n",
    "sand_df\n"
   ]
  },
  {
   "cell_type": "markdown",
   "metadata": {},
   "source": [
    "____________________________________________________________\n",
    "## Making the index time yyyy-mm-dd\n",
    "____________________________________________________________"
   ]
  },
  {
   "cell_type": "code",
   "execution_count": null,
   "metadata": {},
   "outputs": [],
   "source": [
    "#make the date / index simply yyyy-m,m-22 format\n",
    "\n",
    "axs_df.index = axs_df.index.date\n",
    "chain_df.index = chain_df.index.date\n",
    "mana_df.index = mana_df.index.date\n",
    "mega_df.index = mega_df.index.date\n",
    "sand_df.index = sand_df.index.date\n",
    "# cgg_df.index = cgg_df.index.date\n",
    "\n",
    "axs_df"
   ]
  },
  {
   "cell_type": "markdown",
   "metadata": {},
   "source": [
    "________________________________________________________________________________________________________\n",
    "## Make individual price dataframes\n",
    "________________________________________________________________________________________________________"
   ]
  },
  {
   "cell_type": "code",
   "execution_count": null,
   "metadata": {},
   "outputs": [],
   "source": [
    "# 1. Convert dfs into price only\n",
    "\n",
    "axs_price_df = axs_df[['price']]\n",
    "chain_price_df = chain_df[['price']]\n",
    "mana_price_df = mana_df[['price']]\n",
    "mega_price_df = mega_df[['price']]\n",
    "sand_price_df = sand_df[['price']]\n",
    "# cgg_price_df = cgg_df[['price']]\n",
    "\n",
    "\n",
    "axs_price_df = axs_price_df.rename(columns={ \"price\": \"axs_price\" })\n",
    "chain_price_df = chain_price_df.rename(columns={ \"price\": \"chain_price\" })\n",
    "mana_price_df = mana_price_df.rename(columns={ \"price\": \"mana_price\" })\n",
    "mega_price_df = mega_price_df.rename(columns={ \"price\": \"mega_price\" })\n",
    "sand_price_df = sand_price_df.rename(columns={ \"price\": \"sand_price\" })\n",
    "# cgg_price_df = cgg_price_df.rename(columns={ \"price\": \"cgg_price\" })\n",
    "\n",
    "sand_price_df\n"
   ]
  },
  {
   "cell_type": "markdown",
   "metadata": {},
   "source": [
    "________________________________________________________________________________________________________\n",
    "## Combine into one PRICE dataframe\n",
    "________________________________________________________________________________________________________"
   ]
  },
  {
   "cell_type": "code",
   "execution_count": null,
   "metadata": {},
   "outputs": [],
   "source": [
    "gaming_portfolio_prices_df = pd.concat(\n",
    "    [axs_price_df, chain_price_df, mana_price_df, mega_price_df, sand_price_df], axis=\"columns\", join=\"inner\"\n",
    ")\n",
    "gaming_portfolio_prices_df\n"
   ]
  },
  {
   "cell_type": "markdown",
   "metadata": {},
   "source": [
    "________________________________________________________________________________________________________\n",
    "## CREATE HYPOTHETICAL GAMING PORTFOLIO OF FIVE TOKENS, EACH WITH A 20% WEIGHTING. PLOT DAILY RETURNS\n",
    "________________________________________________________________________________________________________"
   ]
  },
  {
   "cell_type": "code",
   "execution_count": null,
   "metadata": {},
   "outputs": [],
   "source": [
    "weights = [0.2, 0.2, 0.2, 0.2, 0.2]\n",
    "gaming_portfolio_prices = gaming_portfolio_prices_df.dot(weights)\n",
    "gaming_portfolio_prices.head()"
   ]
  },
  {
   "cell_type": "markdown",
   "metadata": {},
   "source": [
    "_______________________________________\n",
    "** clean data **\n",
    "______________________________________"
   ]
  },
  {
   "cell_type": "code",
   "execution_count": null,
   "metadata": {},
   "outputs": [],
   "source": [
    "# gaming_portfolio_prices_df.count()"
   ]
  },
  {
   "cell_type": "code",
   "execution_count": null,
   "metadata": {},
   "outputs": [],
   "source": [
    "# gaming_portfolio_prices_df.isnull().sum()"
   ]
  },
  {
   "cell_type": "markdown",
   "metadata": {},
   "source": [
    "____________________________________________________________________________________________\n",
    "## BRING DATASET PARALLEL TO INDEX TIMEFRAME. I.E. START AT 2021-01-27 FOR PROPER ANALYSIS\n",
    "____________________________________________________________________________________________"
   ]
  },
  {
   "cell_type": "code",
   "execution_count": null,
   "metadata": {},
   "outputs": [],
   "source": [
    "gaming_portfolio_prices_df = gaming_portfolio_prices_df.iloc[84:]\n",
    "gaming_portfolio_prices_df\n",
    "\n",
    "# EXPERIMENTED USING LOC FOR GREATER ACCURACY. FELL SHORT\n",
    "# gaming_portfolio_prices_df.index = pd.to_datetime(gaming_portfolio_prices_df.index)  \n",
    "# mask = (gaming_portfolio_prices_df.index > 2021-1-27)\n",
    "# gaming_portfolio_prices_df.loc[mask]\n",
    "\n",
    "# gaming_portfolio_prices_df = gaming_portfolio_prices_df.loc['2021-01-27':]\n",
    "# gaming_portfolio_prices_df"
   ]
  },
  {
   "cell_type": "code",
   "execution_count": null,
   "metadata": {},
   "outputs": [],
   "source": [
    "# gaming_portfolio_prices_df.plot();"
   ]
  },
  {
   "cell_type": "markdown",
   "metadata": {},
   "source": [
    "____________________________________________________________________________________________\n",
    "## Calculate Daily Returns of all assets\n",
    "____________________________________________________________________________________________"
   ]
  },
  {
   "cell_type": "code",
   "execution_count": null,
   "metadata": {},
   "outputs": [],
   "source": [
    "gaming_asset_portfolio_daily_returns = gaming_portfolio_prices_df.pct_change().dropna()\n",
    "columns = ['axs', 'chain', 'mana', 'mega', 'sand']\n",
    "gaming_asset_portfolio_daily_returns.columns = columns\n",
    "gaming_asset_portfolio_daily_returns"
   ]
  },
  {
   "cell_type": "code",
   "execution_count": null,
   "metadata": {},
   "outputs": [],
   "source": [
    "gaming_asset_portfolio_daily_returns.plot();"
   ]
  },
  {
   "cell_type": "markdown",
   "metadata": {},
   "source": [
    "____________________________________________________________________________________________\n",
    "## Calculate cumulative Returns of all individual assets\n",
    "____________________________________________________________________________________________"
   ]
  },
  {
   "cell_type": "code",
   "execution_count": null,
   "metadata": {},
   "outputs": [],
   "source": [
    "gaming_asset_portfolio_cumulative_returns = (1 + gaming_asset_portfolio_daily_returns).cumprod()\n",
    "gaming_asset_portfolio_cumulative_returns"
   ]
  },
  {
   "cell_type": "code",
   "execution_count": null,
   "metadata": {},
   "outputs": [],
   "source": [
    "# gaming_asset_portfolio_cumulative_returns.plot()"
   ]
  },
  {
   "cell_type": "markdown",
   "metadata": {},
   "source": [
    "__________________________________________________________________________________________________________________\n",
    "** Calculate the mean cumulative returns, assuming every asset is given an equal weighting in the portfolio **\n",
    "__________________________________________________________________________________________________________________"
   ]
  },
  {
   "cell_type": "code",
   "execution_count": null,
   "metadata": {},
   "outputs": [],
   "source": [
    "average_gaming_portfolio_return = gaming_asset_portfolio_cumulative_returns.mean(axis=1)\n",
    "average_gaming_portfolio_return"
   ]
  },
  {
   "cell_type": "code",
   "execution_count": null,
   "metadata": {},
   "outputs": [],
   "source": [
    "# average_gaming_portfolio_return.plot(title=\"portfolio return for top gaming tokens\");"
   ]
  },
  {
   "cell_type": "markdown",
   "metadata": {},
   "source": [
    "____________________________________________________________________________________________\n",
    "** Calculate Summary Statistics of everything **\n",
    "____________________________________________________________________________________________"
   ]
  },
  {
   "cell_type": "code",
   "execution_count": null,
   "metadata": {},
   "outputs": [],
   "source": [
    "# gaming_asset_portfolio_daily_returns.describe()"
   ]
  },
  {
   "cell_type": "code",
   "execution_count": null,
   "metadata": {},
   "outputs": [],
   "source": []
  },
  {
   "cell_type": "markdown",
   "metadata": {},
   "source": [
    "____________________________________________________________________________________________\n",
    "** Daily Standard Deviations **\n",
    "____________________________________________________________________________________________"
   ]
  },
  {
   "cell_type": "code",
   "execution_count": null,
   "metadata": {},
   "outputs": [],
   "source": [
    "# gaming_assets_by_daily_volatility = gaming_asset_portfolio_daily_returns.std().sort_values(ascending=False)\n",
    "# gaming_assets_by_daily_volatility"
   ]
  },
  {
   "cell_type": "markdown",
   "metadata": {},
   "source": [
    "____________________________________________________________________________________________\n",
    "** Annualised Standard Deviations **\n",
    "____________________________________________________________________________________________"
   ]
  },
  {
   "cell_type": "code",
   "execution_count": null,
   "metadata": {},
   "outputs": [],
   "source": [
    "# gaming_assets_by_annual_volatility = gaming_assets_by_daily_volatility * np.sqrt(252)\n",
    "# gaming_assets_by_annual_volatility\n"
   ]
  },
  {
   "cell_type": "markdown",
   "metadata": {},
   "source": [
    "____________________________________________________________________________________________\n",
    "** Determine Sharpe Ratios **\n",
    "i.e. the measure of how much excess return the investor can expect for each unit of volatility\n",
    "____________________________________________________________________________________________"
   ]
  },
  {
   "cell_type": "code",
   "execution_count": null,
   "metadata": {},
   "outputs": [],
   "source": [
    "gaming_pfolio_sharpe_ratios = (gaming_asset_portfolio_daily_returns.mean() * 252) / (gaming_asset_portfolio_daily_returns.std() * np.sqrt(252))\n",
    "gaming_pfolio_sharpe_ratios = gaming_pfolio_sharpe_ratios.sort_values()\n",
    "gaming_pfolio_sharpe_ratios\n",
    "\n",
    "\n",
    "## NOTE! THIS IS THE EQUATION GIVEN IN CLASS! The actual formula says that the denominator is Rp - Rf [portfolio return LESS risk-free rate]."
   ]
  },
  {
   "cell_type": "code",
   "execution_count": null,
   "metadata": {},
   "outputs": [],
   "source": [
    "gaming_pfolio_sharpe_ratios.plot(kind=\"bar\", title=\"Sharpe Ratios\");"
   ]
  },
  {
   "cell_type": "code",
   "execution_count": null,
   "metadata": {},
   "outputs": [],
   "source": [
    "# Generally speaking, Sharpe ratios above 1 are good.\n",
    "# Anything above 2 is really good, and anything above 3 is excellent\n",
    "# Therefore, everything rocks!"
   ]
  },
  {
   "cell_type": "code",
   "execution_count": null,
   "metadata": {},
   "outputs": [],
   "source": [
    "# gaming_avg_sharpe = round(gaming_pfolio_sharpe_ratios.mean(), 2)\n",
    "# print (f\"The average sharpe ratio of the gaming portfolio is: {gaming_avg_sharpe}\")\n",
    "\n",
    "# ############### Remember to compare this to the average sharpe ratio of the index portfolio! ########################################################################################"
   ]
  },
  {
   "cell_type": "markdown",
   "metadata": {},
   "source": [
    "____________________________________________________________________________________________\n",
    "** Plot Correlations **\n",
    "____________________________________________________________________________________________"
   ]
  },
  {
   "cell_type": "code",
   "execution_count": null,
   "metadata": {},
   "outputs": [],
   "source": [
    "# game_token_correlations = gaming_asset_portfolio_daily_returns.corr()\n",
    "# plt.figure(figsize=(20, 16))\n",
    "# sns.set(font_scale=1.1)\n",
    "# sns.heatmap(game_token_correlations, annot=True, vmin=-1, vmax=1);\n",
    "\n",
    "# # annot=True, linewidth=.1, vmax=99, fmt='.1f', cmap='YlOrRd', square=True, cbar=False"
   ]
  },
  {
   "cell_type": "markdown",
   "metadata": {},
   "source": [
    "____________________________________________________________________________________________\n",
    "** Compare with Index **\n",
    "____________________________________________________________________________________________"
   ]
  },
  {
   "cell_type": "code",
   "execution_count": null,
   "metadata": {},
   "outputs": [],
   "source": [
    "index_path = Path(\"../Resources/index_exports/2021-04-08-21-20-index.csv\")\n",
    "index_daily_prices_df = pd.read_csv(index_path, infer_datetime_format=True, parse_dates=True)\n",
    "columns = ['date', 'daily_index_prices']\n",
    "index_daily_prices_df.columns = columns\n",
    "index_daily_prices_df['date'] = pd.to_datetime(index_daily_prices_df['date']).dt.date\n",
    "index_daily_prices_df.set_index(index_daily_prices_df['date'], inplace=True)\n",
    "index_daily_prices_df.drop(['date'], axis=1, inplace=True)\n",
    "index_daily_prices_df\n"
   ]
  },
  {
   "cell_type": "code",
   "execution_count": null,
   "metadata": {},
   "outputs": [],
   "source": [
    "# Create a new pivot table where the columns are the closing prices for each ticker\n",
    "games_v_index_prices_df = pd.concat([gaming_portfolio_prices, index_daily_prices_df], axis=\"columns\", join=\"inner\")\n",
    "\n",
    "# Sort datetime index in ascending order (past to present)\n",
    "games_v_index_prices_df.sort_index()\n",
    "\n",
    "# Set column names to 'AMZN' and 'S&P 500'\n",
    "games_v_index_prices_df.columns = [\"Games\", \"Index\"]\n",
    "\n",
    "# Display a few rows\n",
    "games_v_index_prices_df.head()"
   ]
  },
  {
   "cell_type": "code",
   "execution_count": null,
   "metadata": {},
   "outputs": [],
   "source": [
    "# games_v_index_prices_df.plot(figsize=[20,10])"
   ]
  },
  {
   "cell_type": "markdown",
   "metadata": {},
   "source": [
    ">>>>> Correlations"
   ]
  },
  {
   "cell_type": "code",
   "execution_count": null,
   "metadata": {},
   "outputs": [],
   "source": [
    "# games_v_index_prices_df.corr()"
   ]
  },
  {
   "cell_type": "markdown",
   "metadata": {},
   "source": [
    ">>>>> Daily Returns"
   ]
  },
  {
   "cell_type": "code",
   "execution_count": null,
   "metadata": {},
   "outputs": [],
   "source": [
    "index_vs_games_returns = games_v_index_prices_df.pct_change().dropna()\n",
    "index_vs_games_returns"
   ]
  },
  {
   "cell_type": "code",
   "execution_count": null,
   "metadata": {},
   "outputs": [],
   "source": [
    "# index_vs_games_returns.plot(figsize=[20,10], title=\"Daily Returns: Game Portfolio vs Index\");"
   ]
  },
  {
   "cell_type": "code",
   "execution_count": null,
   "metadata": {},
   "outputs": [],
   "source": [
    "recent_cumulative_returns_gamevindex = (1 + index_vs_games_returns).cumprod()\n",
    "recent_cumulative_returns_gamevindex.plot(figsize=[10,5], title=\"Recent Cumulative Returns for Gaming NFTs vs Top 30 Index\");"
   ]
  },
  {
   "cell_type": "markdown",
   "metadata": {},
   "source": [
    "### Calculate Variance of Index"
   ]
  },
  {
   "cell_type": "code",
   "execution_count": null,
   "metadata": {},
   "outputs": [],
   "source": [
    "# Calculate variance of all daily returns of AMZN vs. S&P 500\n",
    "index_variance = index_vs_games_returns['Index'].var()\n",
    "print(f\"the Index Variance is {round(index_variance, 2)}\")"
   ]
  },
  {
   "cell_type": "code",
   "execution_count": null,
   "metadata": {},
   "outputs": [],
   "source": [
    "gamenft_variance = index_vs_games_returns['Games'].var()\n",
    "print(f\"the Gaming NFT Variance is {round(gamenft_variance, 2)}\")"
   ]
  },
  {
   "cell_type": "markdown",
   "metadata": {},
   "source": [
    "### Calculate Covariance of MANA returns vs. Index Returns"
   ]
  },
  {
   "cell_type": "code",
   "execution_count": null,
   "metadata": {},
   "outputs": [],
   "source": [
    "game_index_covariance = index_vs_games_returns['Games'].cov(index_vs_games_returns['Index'])\n",
    "print(f\"the Covariance is {round(game_index_covariance, 4)}\")"
   ]
  },
  {
   "cell_type": "markdown",
   "metadata": {},
   "source": [
    "### Calculate Beta of Games Portfolio"
   ]
  },
  {
   "cell_type": "code",
   "execution_count": null,
   "metadata": {},
   "outputs": [],
   "source": [
    "games_beta = gamenft_variance / game_index_covariance\n",
    "print(f\"the games Beta is is {round(games_beta, 4)}\")\n",
    "print(\"A The games Beta is at nearly at 11, indicating that it is roughly 11 times more volatile than the overall market\")"
   ]
  },
  {
   "cell_type": "markdown",
   "metadata": {},
   "source": [
    "### Calculate Sharpe Ratios of Games Portfolio"
   ]
  },
  {
   "cell_type": "code",
   "execution_count": null,
   "metadata": {},
   "outputs": [],
   "source": [
    "sharpe_ratios = (index_vs_games_returns.mean() * 252 ) / (index_vs_games_returns.std() * np.sqrt(252))\n",
    "sharpe_ratios"
   ]
  },
  {
   "cell_type": "code",
   "execution_count": null,
   "metadata": {},
   "outputs": [],
   "source": [
    "sharpe_ratios.plot(kind=\"bar\", title=\"Sharpe Ratios\");"
   ]
  },
  {
   "cell_type": "code",
   "execution_count": null,
   "metadata": {},
   "outputs": [],
   "source": [
    "\n",
    "\n"
   ]
  },
  {
   "cell_type": "markdown",
   "metadata": {},
   "source": [
    "# ##################\n",
    "\n",
    "## AXIE INFINITY DEEP DIVE\n",
    "****\n",
    "\n",
    "\n"
   ]
  },
  {
   "cell_type": "code",
   "execution_count": null,
   "metadata": {},
   "outputs": [],
   "source": []
  },
  {
   "cell_type": "markdown",
   "metadata": {},
   "source": [
    "## **Data collection**\n",
    "****\n",
    "### Read CSV's into dataframes\n"
   ]
  },
  {
   "cell_type": "markdown",
   "metadata": {},
   "source": [
    "## Unique holders of Axies"
   ]
  },
  {
   "cell_type": "code",
   "execution_count": null,
   "metadata": {},
   "outputs": [],
   "source": [
    "#Create dataframes from all csv files\n",
    "axie_holders_df = pd.read_csv(\"../Resources/Axie_csv/holders.csv\", delimiter = ';', index_col = 'Date Parsed', parse_dates=True)\n",
    "axie_holders_df = axie_holders_df.drop([\"Date Raw\"], axis = 1)"
   ]
  },
  {
   "cell_type": "markdown",
   "metadata": {},
   "source": [
    "## $AXS token daily close since launch in 2020 (remove all columns except date and price)"
   ]
  },
  {
   "cell_type": "code",
   "execution_count": null,
   "metadata": {},
   "outputs": [],
   "source": [
    "#daily AXS token price since token launch\n",
    "\n",
    "AXS_price_df = pd.read_csv(\"../Resources/axs-usd-max.csv\", parse_dates=True)\n",
    "#convert datetime (snapped_at) to date\n",
    "AXS_price_df['Date'] = pd.to_datetime(AXS_price_df['snapped_at']).dt.date\n",
    "AXS_price_df = (\n",
    "    AXS_price_df.drop([\"snapped_at\", \"market_cap\", \"total_volume\"], \n",
    "    axis = 1)).set_index([\"Date\"]\n",
    "    ).rename(columns={\"price\":\"$AXS (USD)\"})\n",
    "#AXS_price_df = AXS_price_df.set_index([\"Date\"])"
   ]
  },
  {
   "cell_type": "markdown",
   "metadata": {},
   "source": [
    "## Total transaction volume accross the site"
   ]
  },
  {
   "cell_type": "code",
   "execution_count": null,
   "metadata": {},
   "outputs": [],
   "source": [
    "#total transaction volume inc land and slp etc\n",
    "total_volume_df = pd.read_csv(\"../Resources/Axie_csv/totalVolume.csv\", delimiter = ';', index_col = 'Date Parsed', parse_dates=True).round(1)\n",
    "total_volume_df = total_volume_df.drop([\"Date Raw\"], axis = 1)"
   ]
  },
  {
   "cell_type": "markdown",
   "metadata": {},
   "source": [
    "## Average price for one Axie"
   ]
  },
  {
   "cell_type": "code",
   "execution_count": null,
   "metadata": {},
   "outputs": [],
   "source": [
    "#Average price for one Axie\n",
    "axieAverage_df = pd.read_csv(\n",
    "    \"../Resources/Axie_csv/axieAverage.csv\", delimiter = ';', index_col = 'Date Parsed', parse_dates=True\n",
    "    ).round(1)\n",
    "\n",
    "axieAverage_df = axieAverage_df.drop(\n",
    "    [\"Meo\", \"Meo USD\", \"Meo2\", \"Meo2 USD\", \"Date Raw\", \"Mystic4\", \"Mystic4 USD\"], axis = 1\n",
    "    )\n"
   ]
  },
  {
   "cell_type": "markdown",
   "metadata": {},
   "source": [
    "## Sales Volume (Axie only)"
   ]
  },
  {
   "cell_type": "code",
   "execution_count": null,
   "metadata": {},
   "outputs": [],
   "source": [
    "#Axie only sales volume\n",
    "axie_volume_df = pd.read_csv(\n",
    "    \"../Resources/Axie_csv/axieVolume.csv\", delimiter = ';', index_col = 'Date Parsed', parse_dates=True\n",
    "    ).round(1)\n",
    "axie_volume_df = axie_volume_df.drop([\"Date Raw\"], axis = 1)"
   ]
  },
  {
   "cell_type": "markdown",
   "metadata": {},
   "source": [
    "## Revenue collected by the platform"
   ]
  },
  {
   "cell_type": "code",
   "execution_count": null,
   "metadata": {},
   "outputs": [],
   "source": [
    "#Revenue to founders/ dev team\n",
    "revenue_df = pd.read_csv(\n",
    "    \"../Resources/Axie_csv/revenue.csv\", delimiter = ';', index_col = 'Date Parsed', parse_dates=True\n",
    "    ).round(1)\n",
    "revenue_df = revenue_df.drop(\n",
    "    [\"Date Raw\", \"Axie Presale ETH\", \"Land Presale ETH\", \"Marketplace Fee ETH\", \"Breeding Fee ETH\"], axis = 1\n",
    "    )"
   ]
  },
  {
   "cell_type": "markdown",
   "metadata": {},
   "source": [
    "## Joining Dataframes"
   ]
  },
  {
   "cell_type": "code",
   "execution_count": null,
   "metadata": {},
   "outputs": [],
   "source": [
    "#Join Axie holders table with sales volume and drop nulls\n",
    "\n",
    "df_holders_and_vol = axie_holders_df.join(total_volume_df, how='left').dropna()"
   ]
  },
  {
   "cell_type": "markdown",
   "metadata": {},
   "source": [
    "# Visualisations\n",
    "****\n",
    "### $AXS Price"
   ]
  },
  {
   "cell_type": "code",
   "execution_count": null,
   "metadata": {},
   "outputs": [],
   "source": [
    "#Visualize AXS price\n",
    "fig_AXS = px.line(AXS_price_df, labels={\"value\":\"$AXS (USD)\"})\n",
    "fig_AXS.show()"
   ]
  },
  {
   "cell_type": "markdown",
   "metadata": {},
   "source": [
    "## Revenue Streams\n",
    "****\n",
    "### Land, Axies, Breeding Fees, Marketplace resale"
   ]
  },
  {
   "cell_type": "code",
   "execution_count": null,
   "metadata": {},
   "outputs": [],
   "source": [
    "#Visualise revenue streams\n",
    "rev_fig = px.line(\n",
    "    revenue_df,\n",
    "    labels={\"Date Parsed\": \"Date\", \"value\": \"USD\"},\n",
    "    title= \"Revenue vs Time\",\n",
    "    )\n",
    "rev_fig"
   ]
  },
  {
   "cell_type": "markdown",
   "metadata": {},
   "source": [
    "### Revenue composition"
   ]
  },
  {
   "cell_type": "code",
   "execution_count": null,
   "metadata": {},
   "outputs": [],
   "source": [
    "#Take final row of revenue df and produce pie chart showing composition of total revenue to founders\n",
    "#Shows that Marketplace fees (percentage of resale of in game pets/items/land) have now surpassed all other streams\n",
    "\n",
    "revenue_pie_data = pd.DataFrame(revenue_df.iloc[-1])\n",
    "\n",
    "fig_pie = px.pie(revenue_pie_data, values=\"2021-04-06\", names=revenue_pie_data.index, title='Revenue Composition (to date)')\n",
    "fig_pie.show()\n"
   ]
  },
  {
   "cell_type": "markdown",
   "metadata": {},
   "source": [
    "### Unique Players/Owners"
   ]
  },
  {
   "cell_type": "code",
   "execution_count": null,
   "metadata": {},
   "outputs": [],
   "source": [
    "#axie holders are increasing exponentially\n",
    "\n",
    "fig_holders = px.line(axie_holders_df,\n",
    "    labels={\"Date Parsed\": \"Date\", \"value\": \"Holders\"},\n",
    "    title= \"Unique Axie holders\",\n",
    "    )\n",
    "fig_holders.show()"
   ]
  },
  {
   "cell_type": "markdown",
   "metadata": {},
   "source": [
    "### Axie price average (Eth or USD?)"
   ]
  },
  {
   "cell_type": "code",
   "execution_count": null,
   "metadata": {},
   "outputs": [],
   "source": [
    "#Visualize Average axie price in ETH and USD - shows that the price is consistant in ETH but tends to ignore the USD value\n",
    "\n",
    "\n",
    "ax = axieAverage_df['Normal'].plot(figsize=[20,10])\n",
    "ax2 = axieAverage_df['Normal USD'].plot(secondary_y=True, figsize=[20,10])\n",
    "ax2.set_ylim(0, 400)\n",
    "ax2.set_ylabel(\"USD\")\n",
    "ax.set_ylabel(\"ETH\")\n",
    "ax.set_xlabel(\"DATE\")\n",
    "\n",
    "ax_av_fig = ax.get_figure()\n",
    "ax_av_fig.savefig('AxieAverage price.png')"
   ]
  },
  {
   "cell_type": "markdown",
   "metadata": {},
   "source": [
    "## Cumulative Sales volume (including secondary marketplace)"
   ]
  },
  {
   "cell_type": "code",
   "execution_count": null,
   "metadata": {},
   "outputs": [],
   "source": [
    "# Visualize how Cumulative Sales Volume is also growing exponentially (Only a small portion of these sales generate revenue through a marketplace fee)\n",
    "# Most of this volume is P2P exchange\n",
    "cum_sales_fig = px.line(df_holders_and_vol, y=\"Cummulative Volume USD\",\n",
    "    labels={\"Date Parsed\": \"Date\"},\n",
    "    title= \"Cumulative Sales Volume (Axies)\"\n",
    "    )\n",
    "cum_sales_fig.show()"
   ]
  },
  {
   "cell_type": "markdown",
   "metadata": {},
   "source": [
    "## Sales Vol vs Holders"
   ]
  },
  {
   "cell_type": "code",
   "execution_count": null,
   "metadata": {},
   "outputs": [],
   "source": [
    "#Holders with cum_vol\n",
    "cum_sales_fig = px.line(df_holders_and_vol, y=[\"Cummulative Volume USD\", \"Holders Count\"],\n",
    "    labels={\"Date Parsed\": \"Date\"},\n",
    "    title= \"Cumulative Tx Volume/Holders\"\n",
    "    )\n",
    "cum_sales_fig.show()"
   ]
  },
  {
   "cell_type": "markdown",
   "metadata": {},
   "source": [
    "## Scaled to show trend\n",
    "### Using Sci-kit Learn - a machine learning library for Python "
   ]
  },
  {
   "cell_type": "code",
   "execution_count": null,
   "metadata": {},
   "outputs": [],
   "source": [
    "#Scale data using preprocessing to see trends concurrenlty\n",
    "\n",
    "from sklearn import preprocessing\n",
    "\n",
    "min_max_scaler = preprocessing.MinMaxScaler(feature_range=(0,100))\n",
    "scaled = min_max_scaler.fit_transform(df_holders_and_vol)\n",
    "\n",
    "scaled\n",
    "\n",
    "#Returns numpy array"
   ]
  },
  {
   "cell_type": "code",
   "execution_count": null,
   "metadata": {},
   "outputs": [],
   "source": [
    "#convert array into df with columns set to solumns in original df\n",
    "\n",
    "df_scaled = pd.DataFrame(scaled, columns=df_holders_and_vol.columns)"
   ]
  },
  {
   "cell_type": "code",
   "execution_count": null,
   "metadata": {},
   "outputs": [],
   "source": [
    "#visualize the scaled data\n",
    "\n",
    "fig_scale = px.line(df_scaled, y=[\"Cummulative Volume USD\", \"Holders Count\"],\n",
    "    labels= {\"value\":\"Scaled Value\", \"index\":\"Days Since Launch\"},\n",
    "    title= \"Scaled Volume/Holder numbers\"\n",
    "    )\n",
    "fig_scale.show()\n",
    "# This shows exponential growth in number of holders is aligned with the exponential increase in  the cumulative volume of revenue."
   ]
  },
  {
   "cell_type": "markdown",
   "metadata": {},
   "source": [
    "### Add in $AXS chart"
   ]
  },
  {
   "cell_type": "code",
   "execution_count": null,
   "metadata": {},
   "outputs": [],
   "source": [
    "#Join AXS price to scaled data (first join dataframes)\n",
    "df_holders_and_vol_AXS = df_holders_and_vol.join(AXS_price_df, how='left').dropna()"
   ]
  },
  {
   "cell_type": "code",
   "execution_count": null,
   "metadata": {},
   "outputs": [],
   "source": [
    "#scaled data with axs price\n",
    "scaledAXS = min_max_scaler.fit_transform(df_holders_and_vol_AXS)\n",
    "df_scaledAXS = pd.DataFrame(scaledAXS, columns=df_holders_and_vol_AXS.columns)"
   ]
  },
  {
   "cell_type": "code",
   "execution_count": null,
   "metadata": {},
   "outputs": [],
   "source": [
    "#Visualize all\n",
    "fig_scaleAXS = px.line(df_scaledAXS, y=[\"Cummulative Volume USD\", \"Holders Count\",\"$AXS (USD)\"],\n",
    "    labels= {\"value\":\"Scaled Value\", \"index\":\"Days Since AXS Launch\"},\n",
    "    title= \"Scaled Volume/Holder numbers/AXS price\"\n",
    "    )\n",
    "fig_scaleAXS.show()"
   ]
  },
  {
   "cell_type": "code",
   "execution_count": null,
   "metadata": {},
   "outputs": [],
   "source": [
    "# Create Panel"
   ]
  },
  {
   "cell_type": "code",
   "execution_count": null,
   "metadata": {},
   "outputs": [],
   "source": [
    "import panel as pn\n",
    "pn.extension(\"plotly\")\n",
    "#PANEL TIME\n",
    "#Figs:\n",
    "#fig_scaleAXS, fig_scale, fig_holders, cum_sales_fig, fig_AXS, fig_pie\n",
    "panelrow = pn.Row(fig_holders, fig_scaleAXS)\n",
    "\n",
    "panelrow2 = pn.Row(rev_fig, fig_pie)\n",
    "\n",
    "column = pn.Column(panelrow, panelrow2)\n",
    "\n",
    "column"
   ]
  },
  {
   "cell_type": "code",
   "execution_count": null,
   "metadata": {},
   "outputs": [],
   "source": []
  },
  {
   "cell_type": "code",
   "execution_count": null,
   "metadata": {},
   "outputs": [],
   "source": []
  },
  {
   "cell_type": "markdown",
   "metadata": {},
   "source": [
    "# ##############\n",
    "****"
   ]
  },
  {
   "cell_type": "code",
   "execution_count": null,
   "metadata": {},
   "outputs": [],
   "source": []
  },
  {
   "cell_type": "markdown",
   "metadata": {},
   "source": [
    "## Why are gaming NFT's so popular?"
   ]
  },
  {
   "cell_type": "markdown",
   "metadata": {},
   "source": [
    "## The Increasing Popularity of Bitcoin"
   ]
  },
  {
   "cell_type": "code",
   "execution_count": 19,
   "metadata": {},
   "outputs": [],
   "source": [
    "# Initial imports\n",
    "\n",
    "import requests"
   ]
  },
  {
   "cell_type": "code",
   "execution_count": 20,
   "metadata": {},
   "outputs": [],
   "source": [
    "import pandas as pd\n",
    "import datetime as pt\n",
    "from pathlib import Path\n",
    "import seaborn as sns\n",
    "import plotly.express as px\n",
    "from dotenv import load_dotenv\n",
    "import numpy as np\n",
    "import hvplot.pandas\n",
    "\n",
    "%matplotlib inline"
   ]
  },
  {
   "cell_type": "markdown",
   "metadata": {},
   "source": [
    "## December Data"
   ]
  },
  {
   "cell_type": "code",
   "execution_count": 21,
   "metadata": {},
   "outputs": [],
   "source": [
    "\n",
    "\n",
    "# import comparison urls\n",
    "\n",
    "\n",
    "url_dec = \"https://api.coingecko.com/api/v3/coins/bitcoin/history?date=01-12-2020&localization=false\"\n",
    "\n",
    "requests.get(url_dec)\n",
    "\n",
    "# Execute GET request and store response\n",
    "\n",
    "response_data_dec = requests.get(url_dec)\n",
    "\n",
    "# Get content \n",
    "\n",
    "response_content_dec = response_data_dec.content\n",
    "\n",
    "# print(response_content_jan)# Format data as a raw json file\n",
    "\n",
    "data_dec = response_data_dec.json()\n",
    "\n",
    "# Format data as a raw json file\n",
    "\n",
    "data_dec = response_data_dec.json()\n",
    "\n",
    "# Add intdents to JSON and output to screen\n",
    "\n",
    "import json\n",
    "# print(json.dumps(data_feb, indent=4))"
   ]
  },
  {
   "cell_type": "markdown",
   "metadata": {},
   "source": [
    "## Social Data"
   ]
  },
  {
   "cell_type": "code",
   "execution_count": 22,
   "metadata": {},
   "outputs": [
    {
     "data": {
      "text/plain": [
       "73011"
      ]
     },
     "execution_count": 22,
     "metadata": {},
     "output_type": "execute_result"
    }
   ],
   "source": [
    "dec_twitter_fol = data_dec[\"community_data\"][\"twitter_followers\"]\n",
    "\n",
    "dec_twitter_fol"
   ]
  },
  {
   "cell_type": "markdown",
   "metadata": {},
   "source": [
    "## January Data"
   ]
  },
  {
   "cell_type": "code",
   "execution_count": 23,
   "metadata": {},
   "outputs": [],
   "source": [
    "# import comparison urls\n",
    "\n",
    "\n",
    "url_jan = \"https://api.coingecko.com/api/v3/coins/bitcoin/history?date=01-01-2021&localization=false\"\n",
    "\n",
    "requests.get(url_jan)\n",
    "\n",
    "# Execute GET request and store response\n",
    "\n",
    "response_data_jan = requests.get(url_jan)\n",
    "\n",
    "# Get content \n",
    "\n",
    "response_content_jan = response_data_jan.content\n",
    "\n",
    "# print(response_content_jan)# Format data as a raw json file\n",
    "\n",
    "data_jan = response_data_jan.json()\n",
    "\n",
    "# Format data as a raw json file\n",
    "\n",
    "data_jan = response_data_jan.json()\n",
    "\n",
    "# Add intdents to JSON and output to screen\n",
    "\n",
    "import json\n",
    "# print(json.dumps(data_feb, indent=4))"
   ]
  },
  {
   "cell_type": "code",
   "execution_count": 24,
   "metadata": {},
   "outputs": [
    {
     "data": {
      "text/plain": [
       "74537"
      ]
     },
     "execution_count": 24,
     "metadata": {},
     "output_type": "execute_result"
    }
   ],
   "source": [
    "jan_twitter_fol = data_jan[\"community_data\"][\"twitter_followers\"]\n",
    "\n",
    "jan_twitter_fol"
   ]
  },
  {
   "cell_type": "markdown",
   "metadata": {},
   "source": [
    "## February Data"
   ]
  },
  {
   "cell_type": "code",
   "execution_count": 25,
   "metadata": {},
   "outputs": [],
   "source": [
    "# import comparison urls\n",
    "\n",
    "\n",
    "url_feb = \"https://api.coingecko.com/api/v3/coins/bitcoin/history?date=01-02-2021&localization=false\"\n",
    "\n",
    "requests.get(url_feb)\n",
    "\n",
    "# Execute GET request and store response\n",
    "\n",
    "response_data_feb = requests.get(url_feb)\n",
    "\n",
    "# Get content \n",
    "\n",
    "response_content_feb = response_data_feb.content\n",
    "\n",
    "# print(response_content_jan)# Format data as a raw json file\n",
    "\n",
    "data_feb = response_data_feb.json()\n",
    "\n",
    "# Format data as a raw json file\n",
    "\n",
    "data_feb = response_data_feb.json()\n",
    "\n",
    "# Add intdents to JSON and output to screen\n",
    "\n",
    "import json\n",
    "# print(json.dumps(data_feb, indent=4))"
   ]
  },
  {
   "cell_type": "code",
   "execution_count": 26,
   "metadata": {},
   "outputs": [
    {
     "data": {
      "text/plain": [
       "78056"
      ]
     },
     "execution_count": 26,
     "metadata": {},
     "output_type": "execute_result"
    }
   ],
   "source": [
    "feb_twitter_fol = data_feb[\"community_data\"][\"twitter_followers\"]\n",
    "\n",
    "feb_twitter_fol"
   ]
  },
  {
   "cell_type": "markdown",
   "metadata": {},
   "source": [
    "## March Data"
   ]
  },
  {
   "cell_type": "code",
   "execution_count": 27,
   "metadata": {},
   "outputs": [],
   "source": [
    "# import comparison urls\n",
    "\n",
    "\n",
    "url_mar = \"https://api.coingecko.com/api/v3/coins/bitcoin/history?date=01-03-2021&localization=false\"\n",
    "\n",
    "requests.get(url_mar)\n",
    "\n",
    "# Execute GET request and store response\n",
    "\n",
    "response_data_mar = requests.get(url_mar)\n",
    "\n",
    "# Get content\n",
    "\n",
    "response_content_mar = response_data_mar.content\n",
    "\n",
    "# print(response_content_jan)# Format data as a raw json file\n",
    "\n",
    "data_mar = response_data_mar.json()\n",
    "\n",
    "# Format data as a raw json file\n",
    "\n",
    "data_mar = response_data_mar.json()\n",
    "\n",
    "# Add intdents to JSON and output to screen\n",
    "\n",
    "import json\n",
    "# print(json.dumps(data_feb, indent=4))"
   ]
  },
  {
   "cell_type": "code",
   "execution_count": 28,
   "metadata": {},
   "outputs": [
    {
     "data": {
      "text/plain": [
       "80941"
      ]
     },
     "execution_count": 28,
     "metadata": {},
     "output_type": "execute_result"
    }
   ],
   "source": [
    "mar_twitter_fol = data_mar[\"community_data\"][\"twitter_followers\"]\n",
    "\n",
    "mar_twitter_fol"
   ]
  },
  {
   "cell_type": "markdown",
   "metadata": {},
   "source": [
    "## April Data"
   ]
  },
  {
   "cell_type": "code",
   "execution_count": 29,
   "metadata": {},
   "outputs": [
    {
     "name": "stdout",
     "output_type": "stream",
     "text": [
      "{\n",
      "    \"id\": \"bitcoin\",\n",
      "    \"symbol\": \"btc\",\n",
      "    \"name\": \"Bitcoin\",\n",
      "    \"image\": {\n",
      "        \"thumb\": \"https://assets.coingecko.com/coins/images/1/thumb/bitcoin.png?1547033579\",\n",
      "        \"small\": \"https://assets.coingecko.com/coins/images/1/small/bitcoin.png?1547033579\"\n",
      "    },\n",
      "    \"market_data\": {\n",
      "        \"current_price\": {\n",
      "            \"aed\": 216047.9777669398,\n",
      "            \"ars\": 5410316.137126201,\n",
      "            \"aud\": 77443.71866877718,\n",
      "            \"bch\": 108.88867356866139,\n",
      "            \"bdt\": 4986355.506661704,\n",
      "            \"bhd\": 22175.855659776604,\n",
      "            \"bmd\": 58817.3738884188,\n",
      "            \"bnb\": 194.4890148850541,\n",
      "            \"brl\": 331306.5036386855,\n",
      "            \"btc\": 1.0,\n",
      "            \"cad\": 73902.559856451,\n",
      "            \"chf\": 55518.5426565129,\n",
      "            \"clp\": 42377917.88660569,\n",
      "            \"cny\": 385412.60587864177,\n",
      "            \"czk\": 1309551.1844134755,\n",
      "            \"dkk\": 373053.9580945811,\n",
      "            \"dot\": 1594.587856814039,\n",
      "            \"eos\": 12269.41966053906,\n",
      "            \"eth\": 30.733975464038206,\n",
      "            \"eur\": 50151.45728919469,\n",
      "            \"gbp\": 42667.71108775401,\n",
      "            \"hkd\": 457287.6132224112,\n",
      "            \"huf\": 18166929.56627026,\n",
      "            \"idr\": 856839739.3317074,\n",
      "            \"ils\": 196144.17844309928,\n",
      "            \"inr\": 4305651.922062717,\n",
      "            \"jpy\": 6514308.696599343,\n",
      "            \"krw\": 66357761.22091409,\n",
      "            \"kwd\": 17784.903429510647,\n",
      "            \"lkr\": 11731566.76407089,\n",
      "            \"ltc\": 299.26808281595885,\n",
      "            \"mmk\": 82914921.02210093,\n",
      "            \"mxn\": 1202021.8496444104,\n",
      "            \"myr\": 243886.24082832862,\n",
      "            \"ngn\": 23259739.637827985,\n",
      "            \"nok\": 502903.54517632176,\n",
      "            \"nzd\": 84241.41902118336,\n",
      "            \"php\": 2854453.6793477093,\n",
      "            \"pkr\": 8977904.948130723,\n",
      "            \"pln\": 232283.69038560346,\n",
      "            \"rub\": 4453392.754385964,\n",
      "            \"sar\": 220610.91199845573,\n",
      "            \"sek\": 513631.3636345784,\n",
      "            \"sgd\": 79113.19100922598,\n",
      "            \"thb\": 1837631.5064827378,\n",
      "            \"try\": 485694.22856768314,\n",
      "            \"twd\": 1669789.954267881,\n",
      "            \"uah\": 1637263.2995164648,\n",
      "            \"usd\": 58817.3738884188,\n",
      "            \"vef\": 5889.383647447377,\n",
      "            \"vnd\": 1358038191.0131512,\n",
      "            \"xag\": 2404.7736228987765,\n",
      "            \"xau\": 34.43227884801922,\n",
      "            \"xdr\": 41476.48281439182,\n",
      "            \"xlm\": 144402.42073839266,\n",
      "            \"xrp\": 103349.20237563681,\n",
      "            \"yfi\": 1.6291747927799918,\n",
      "            \"zar\": 869847.1427497568,\n",
      "            \"bits\": 1000948.6777615082,\n",
      "            \"link\": 2020.3781971342075,\n",
      "            \"sats\": 100094867.77615081\n",
      "        },\n",
      "        \"market_cap\": {\n",
      "            \"aed\": 4033641238570.1426,\n",
      "            \"ars\": 101011240697450.36,\n",
      "            \"aud\": 1445883365904.8728,\n",
      "            \"bch\": 2032964384.3903894,\n",
      "            \"bdt\": 93095845699323.8,\n",
      "            \"bhd\": 414025841918.99695,\n",
      "            \"bmd\": 1098127310946.8978,\n",
      "            \"bnb\": 3631132857.6077166,\n",
      "            \"brl\": 6185531517101.6875,\n",
      "            \"btc\": 18670118.0,\n",
      "            \"cad\": 1379769513022.0032,\n",
      "            \"chf\": 1036537742585.1293,\n",
      "            \"clp\": 791200727537238.9,\n",
      "            \"cny\": 7195698830441.736,\n",
      "            \"czk\": 24449475140039.34,\n",
      "            \"dkk\": 6964961417992.885,\n",
      "            \"dot\": 29771143448.085213,\n",
      "            \"eos\": 229071512853.78418,\n",
      "            \"eth\": 573806948.5226982,\n",
      "            \"eur\": 936333625461.225,\n",
      "            \"gbp\": 796611200798.2758,\n",
      "            \"hkd\": 8537613698800.777,\n",
      "            \"huf\": 339178718699954.56,\n",
      "            \"idr\": 15997299040412218,\n",
      "            \"ils\": 3662034956545.72,\n",
      "            \"inr\": 80387029451837.73,\n",
      "            \"jpy\": 121622912053935.94,\n",
      "            \"krw\": 1238907232210290.2,\n",
      "            \"kwd\": 332046245647.56854,\n",
      "            \"lkr\": 219029735810081.7,\n",
      "            \"ltc\": 5587370419.807723,\n",
      "            \"mmk\": 1548031359443305,\n",
      "            \"mxn\": 22441889771439.395,\n",
      "            \"myr\": 4553384894841.3125,\n",
      "            \"ngn\": 434262083687525.6,\n",
      "            \"nok\": 9389268531060.26,\n",
      "            \"nzd\": 1572797233612.9377,\n",
      "            \"php\": 53292987018955.89,\n",
      "            \"pkr\": 167618544774384.47,\n",
      "            \"pln\": 4336763908974.6826,\n",
      "            \"rub\": 83145368224730.97,\n",
      "            \"sar\": 4118831759098.7837,\n",
      "            \"sek\": 9589558167558.488,\n",
      "            \"sgd\": 1477052611498.788,\n",
      "            \"thb\": 34308797066550.484,\n",
      "            \"try\": 9067968559277.615,\n",
      "            \"twd\": 31175175481395.94,\n",
      "            \"uah\": 30567898999041.746,\n",
      "            \"usd\": 1098127310946.8978,\n",
      "            \"vef\": 109955487645.11293,\n",
      "            \"vnd\": 25354733274722068,\n",
      "            \"xag\": 44897407302.80765,\n",
      "            \"xau\": 642854709.1014229,\n",
      "            \"xdr\": 774370828369.6674,\n",
      "            \"xlm\": 2696010234671.439,\n",
      "            \"xrp\": 1929541803559.0193,\n",
      "            \"yfi\": 30416885.623827998,\n",
      "            \"zar\": 16240148797100.805,\n",
      "            \"bits\": 18687829925751.332,\n",
      "            \"link\": 37720699345.122925,\n",
      "            \"sats\": 1868782992575133\n",
      "        },\n",
      "        \"total_volume\": {\n",
      "            \"aed\": 211193735936.2901,\n",
      "            \"ars\": 5288755254301.331,\n",
      "            \"aud\": 75703686003.03023,\n",
      "            \"bch\": 106442124.61419189,\n",
      "            \"bdt\": 4874320320157.72,\n",
      "            \"bhd\": 21677600747.66509,\n",
      "            \"bmd\": 57495844477.9185,\n",
      "            \"bnb\": 190119167.4029577,\n",
      "            \"brl\": 323862592775.2194,\n",
      "            \"btc\": 978459.0113821039,\n",
      "            \"cad\": 72242091190.39264,\n",
      "            \"chf\": 54271132544.52992,\n",
      "            \"clp\": 41425755946340.23,\n",
      "            \"cny\": 376753020110.4565,\n",
      "            \"czk\": 1280127728547.5095,\n",
      "            \"dkk\": 364672050764.6007,\n",
      "            \"dot\": 1558760096.9007165,\n",
      "            \"eos\": 11993746031.146273,\n",
      "            \"eth\": 30043433.710943747,\n",
      "            \"eur\": 49024636735.91986,\n",
      "            \"gbp\": 41709037972.08301,\n",
      "            \"hkd\": 447013114550.0063,\n",
      "            \"huf\": 17758748613379.387,\n",
      "            \"idr\": 837587963185421.1,\n",
      "            \"ils\": 191737142164.9629,\n",
      "            \"inr\": 4208911022729.512,\n",
      "            \"jpy\": 6367942921276.467,\n",
      "            \"krw\": 64866811739987.65,\n",
      "            \"kwd\": 17385305974.01062,\n",
      "            \"lkr\": 11467977802425.322,\n",
      "            \"ltc\": 292544022.44196784,\n",
      "            \"mmk\": 81051959460643.12,\n",
      "            \"mxn\": 1175014400631.427,\n",
      "            \"myr\": 238406519127.68912,\n",
      "            \"ngn\": 22737131639887.062,\n",
      "            \"nok\": 491604131726.5445,\n",
      "            \"nzd\": 82348653236.87666,\n",
      "            \"php\": 2790318811726.366,\n",
      "            \"pkr\": 8776186227125.959,\n",
      "            \"pln\": 227064658862.59692,\n",
      "            \"rub\": 4353332362152.287,\n",
      "            \"sar\": 215654148559.19824,\n",
      "            \"sek\": 502090913792.5612,\n",
      "            \"sgd\": 77335648052.6914,\n",
      "            \"thb\": 1796342956502.83,\n",
      "            \"try\": 474781480086.5948,\n",
      "            \"twd\": 1632272527221.4238,\n",
      "            \"uah\": 1600476692770.838,\n",
      "            \"usd\": 57495844477.9185,\n",
      "            \"vef\": 5757058907.573982,\n",
      "            \"vnd\": 1327525312056481.5,\n",
      "            \"xag\": 2350742324.6928253,\n",
      "            \"xau\": 33658642.31581824,\n",
      "            \"xdr\": 40544574633.87168,\n",
      "            \"xlm\": 141157936441.70767,\n",
      "            \"xrp\": 101027116205.14148,\n",
      "            \"yfi\": 1592569.9214440342,\n",
      "            \"zar\": 850303111695.8679,\n",
      "            \"bits\": 978459011382.104,\n",
      "            \"link\": 1974983630.3364513,\n",
      "            \"sats\": 97845901138210.39\n",
      "        }\n",
      "    },\n",
      "    \"community_data\": {\n",
      "        \"facebook_likes\": null,\n",
      "        \"twitter_followers\": 83714,\n",
      "        \"reddit_average_posts_48h\": 6.917,\n",
      "        \"reddit_average_comments_48h\": 1072.333,\n",
      "        \"reddit_subscribers\": 2648989,\n",
      "        \"reddit_accounts_active_48h\": \"9113.07692307692\"\n",
      "    },\n",
      "    \"developer_data\": {\n",
      "        \"forks\": 28208,\n",
      "        \"stars\": 51244,\n",
      "        \"subscribers\": 3752,\n",
      "        \"total_issues\": 6109,\n",
      "        \"closed_issues\": 5543,\n",
      "        \"pull_requests_merged\": 8450,\n",
      "        \"pull_request_contributors\": 720,\n",
      "        \"code_additions_deletions_4_weeks\": {\n",
      "            \"additions\": 1942,\n",
      "            \"deletions\": -1331\n",
      "        },\n",
      "        \"commit_count_4_weeks\": 332\n",
      "    },\n",
      "    \"public_interest_stats\": {\n",
      "        \"alexa_rank\": 5018,\n",
      "        \"bing_matches\": null\n",
      "    }\n",
      "}\n"
     ]
    }
   ],
   "source": [
    "# import comparison urls\n",
    "\n",
    "\n",
    "url_apr = \"https://api.coingecko.com/api/v3/coins/bitcoin/history?date=01-04-2021&localization=false\"\n",
    "\n",
    "requests.get(url_apr)\n",
    "\n",
    "# Execute GET request and store response\n",
    "\n",
    "response_data_apr = requests.get(url_apr)\n",
    "\n",
    "# Get content\n",
    "\n",
    "response_content_apr = response_data_apr.content\n",
    "\n",
    "# print(response_content_jan)# Format data as a raw json file\n",
    "\n",
    "data_apr = response_data_apr.json()\n",
    "\n",
    "# Format data as a raw json file\n",
    "\n",
    "data_apr = response_data_apr.json()\n",
    "\n",
    "# Add intdents to JSON and output to screen\n",
    "\n",
    "import json\n",
    "print(json.dumps(data_apr, indent=4))"
   ]
  },
  {
   "cell_type": "code",
   "execution_count": 30,
   "metadata": {},
   "outputs": [],
   "source": [
    "import json\n",
    "# print(json.dumps(data_apr, indent=4))"
   ]
  },
  {
   "cell_type": "code",
   "execution_count": 31,
   "metadata": {},
   "outputs": [
    {
     "data": {
      "text/plain": [
       "83714"
      ]
     },
     "execution_count": 31,
     "metadata": {},
     "output_type": "execute_result"
    }
   ],
   "source": [
    "apr_twitter_fol = data_apr[\"community_data\"][\"twitter_followers\"]\n",
    "\n",
    "apr_twitter_fol"
   ]
  },
  {
   "cell_type": "markdown",
   "metadata": {},
   "source": [
    "## Community Data Visualisation"
   ]
  },
  {
   "cell_type": "code",
   "execution_count": 32,
   "metadata": {},
   "outputs": [
    {
     "data": {
      "text/html": [
       "<div>\n",
       "<style scoped>\n",
       "    .dataframe tbody tr th:only-of-type {\n",
       "        vertical-align: middle;\n",
       "    }\n",
       "\n",
       "    .dataframe tbody tr th {\n",
       "        vertical-align: top;\n",
       "    }\n",
       "\n",
       "    .dataframe thead th {\n",
       "        text-align: right;\n",
       "    }\n",
       "</style>\n",
       "<table border=\"1\" class=\"dataframe\">\n",
       "  <thead>\n",
       "    <tr style=\"text-align: right;\">\n",
       "      <th></th>\n",
       "      <th>twitter_followers</th>\n",
       "    </tr>\n",
       "  </thead>\n",
       "  <tbody>\n",
       "    <tr>\n",
       "      <th>Dec</th>\n",
       "      <td>2884</td>\n",
       "    </tr>\n",
       "    <tr>\n",
       "      <th>Jan</th>\n",
       "      <td>2974</td>\n",
       "    </tr>\n",
       "    <tr>\n",
       "      <th>Mar</th>\n",
       "      <td>18466</td>\n",
       "    </tr>\n",
       "  </tbody>\n",
       "</table>\n",
       "</div>"
      ],
      "text/plain": [
       "     twitter_followers\n",
       "Dec               2884\n",
       "Jan               2974\n",
       "Mar              18466"
      ]
     },
     "execution_count": 32,
     "metadata": {},
     "output_type": "execute_result"
    }
   ],
   "source": [
    " # Set current amount of social data\n",
    "twtr_fol_data = {\n",
    "    \"twitter_followers\": [2884, 2974, 18466]\n",
    "}\n",
    "\n",
    "# Set the tickers\n",
    "years = [\"Dec\", \"Jan\", \"Mar\"]\n",
    "\n",
    "# Create the shares DataFrame\n",
    "df_social_btc = pd.DataFrame(twtr_fol_data, index=years)\n",
    "\n",
    "# Display shares data\n",
    "df_social_btc"
   ]
  },
  {
   "cell_type": "code",
   "execution_count": 33,
   "metadata": {},
   "outputs": [
    {
     "name": "stderr",
     "output_type": "stream",
     "text": [
      "C:\\Users\\alish\\anaconda3\\ANACONDA\\envs\\pyvizenv\\lib\\site-packages\\pandas\\plotting\\_core.py:396: UserWarning: FixedFormatter should only be used together with FixedLocator\n",
      "  ax.set_xticklabels(xticklabels)\n"
     ]
    },
    {
     "data": {
      "text/plain": [
       "<AxesSubplot:>"
      ]
     },
     "execution_count": 33,
     "metadata": {},
     "output_type": "execute_result"
    },
    {
     "data": {
      "image/png": "[encoded data removed]",
      "text/plain": [
       "<Figure size 432x288 with 1 Axes>"
      ]
     },
     "metadata": {
      "needs_background": "light"
     },
     "output_type": "display_data"
    }
   ],
   "source": [
    "df_social_btc.plot()"
   ]
  },
  {
   "cell_type": "markdown",
   "metadata": {},
   "source": [
    "## Market Data Visualisation"
   ]
  },
  {
   "cell_type": "code",
   "execution_count": 34,
   "metadata": {},
   "outputs": [
    {
     "data": {
      "text/plain": [
       "19609.52143957559"
      ]
     },
     "execution_count": 34,
     "metadata": {},
     "output_type": "execute_result"
    }
   ],
   "source": [
    "market_price_dec = data_dec[\"market_data\"][\"current_price\"][\"usd\"]\n",
    "\n",
    "market_price_dec"
   ]
  },
  {
   "cell_type": "code",
   "execution_count": 35,
   "metadata": {},
   "outputs": [
    {
     "data": {
      "text/plain": [
       "{'aed': 72029.69415184899,\n",
       " 'ars': 1594196.441044464,\n",
       " 'aud': 26646.221722474285,\n",
       " 'bch': 61.813635286481265,\n",
       " 'bdt': 1663297.2766836218,\n",
       " 'bhd': 7394.495611085239,\n",
       " 'bmd': 19609.52143957559,\n",
       " 'bnb': 627.9485515749332,\n",
       " 'brl': 104569.73402868114,\n",
       " 'btc': 1.0,\n",
       " 'cad': 25474.39594028812,\n",
       " 'chf': 17812.72059958869,\n",
       " 'clp': 14940518.700619169,\n",
       " 'cny': 129009.08059882348,\n",
       " 'czk': 431653.61021258554,\n",
       " 'dkk': 122261.44427146573,\n",
       " 'dot': 3661.5744262849703,\n",
       " 'eos': 6043.326843048551,\n",
       " 'eth': 32.020044227145895,\n",
       " 'eur': 16425.876414817623,\n",
       " 'gbp': 14701.552366071364,\n",
       " 'hkd': 152000.26401065395,\n",
       " 'huf': 5899328.429881911,\n",
       " 'idr': 276643353.2942809,\n",
       " 'ils': 64812.703928834766,\n",
       " 'inr': 1451115.2737177743,\n",
       " 'jpy': 2045312.3051906107,\n",
       " 'krw': 21766764.893143248,\n",
       " 'kwd': 5989.865590368435,\n",
       " 'lkr': 3644133.1812380785,\n",
       " 'ltc': 223.7873021878963,\n",
       " 'mmk': 25791388.835177336,\n",
       " 'mxn': 395388.7417383066,\n",
       " 'myr': 79889.19034483093,\n",
       " 'ngn': 7515912.434049251,\n",
       " 'nok': 174160.0037134462,\n",
       " 'nzd': 27935.07712861184,\n",
       " 'php': 943090.323259013,\n",
       " 'pkr': 3126893.657826295,\n",
       " 'pln': 73579.84643116886,\n",
       " 'rub': 1499108.695012669,\n",
       " 'sar': 73548.5692444728,\n",
       " 'sek': 168101.77933133932,\n",
       " 'sgd': 26269.620863227236,\n",
       " 'thb': 593357.8616123494,\n",
       " 'try': 153509.21668542983,\n",
       " 'twd': 559479.2561925312,\n",
       " 'uah': 558878.3420175365,\n",
       " 'usd': 19609.52143957559,\n",
       " 'vef': 4872723747.9944725,\n",
       " 'vnd': 455706121.1455662,\n",
       " 'xag': 865.0559975471521,\n",
       " 'xau': 11.02192371554226,\n",
       " 'xdr': 13736.665863637065,\n",
       " 'xlm': 97435.95105563167,\n",
       " 'xrp': 29483.412564242914,\n",
       " 'yfi': 0.746353661020331,\n",
       " 'zar': 302835.74205731874,\n",
       " 'bits': 1000000.0,\n",
       " 'link': 1378.5063055750345,\n",
       " 'sats': 100000000.0}"
      ]
     },
     "execution_count": 35,
     "metadata": {},
     "output_type": "execute_result"
    }
   ],
   "source": [
    "market_prices = data_dec[\"market_data\"][\"current_price\"]\n",
    "\n",
    "market_prices"
   ]
  },
  {
   "cell_type": "code",
   "execution_count": 37,
   "metadata": {},
   "outputs": [
    {
     "data": {
      "text/plain": [
       "29022.41839530417"
      ]
     },
     "execution_count": 37,
     "metadata": {},
     "output_type": "execute_result"
    }
   ],
   "source": [
    "market_price_jan = data_jan[\"market_data\"][\"current_price\"][\"usd\"]\n",
    "\n",
    "market_price_jan"
   ]
  },
  {
   "cell_type": "code",
   "execution_count": 38,
   "metadata": {},
   "outputs": [
    {
     "data": {
      "text/plain": [
       "33064.78676701507"
      ]
     },
     "execution_count": 38,
     "metadata": {},
     "output_type": "execute_result"
    }
   ],
   "source": [
    "market_price_feb = data_feb[\"market_data\"][\"current_price\"][\"usd\"]\n",
    "\n",
    "market_price_feb"
   ]
  },
  {
   "cell_type": "code",
   "execution_count": 39,
   "metadata": {},
   "outputs": [
    {
     "data": {
      "text/plain": [
       "44970.163459946736"
      ]
     },
     "execution_count": 39,
     "metadata": {},
     "output_type": "execute_result"
    }
   ],
   "source": [
    "market_price_mar = data_mar[\"market_data\"][\"current_price\"][\"usd\"]\n",
    "\n",
    "market_price_mar"
   ]
  },
  {
   "cell_type": "code",
   "execution_count": 40,
   "metadata": {},
   "outputs": [
    {
     "data": {
      "text/plain": [
       "58817.3738884188"
      ]
     },
     "execution_count": 40,
     "metadata": {},
     "output_type": "execute_result"
    }
   ],
   "source": [
    "market_price_apr = data_apr[\"market_data\"][\"current_price\"][\"usd\"]\n",
    "\n",
    "market_price_apr"
   ]
  },
  {
   "cell_type": "code",
   "execution_count": 41,
   "metadata": {},
   "outputs": [
    {
     "data": {
      "text/html": [
       "<div>\n",
       "<style scoped>\n",
       "    .dataframe tbody tr th:only-of-type {\n",
       "        vertical-align: middle;\n",
       "    }\n",
       "\n",
       "    .dataframe tbody tr th {\n",
       "        vertical-align: top;\n",
       "    }\n",
       "\n",
       "    .dataframe thead th {\n",
       "        text-align: right;\n",
       "    }\n",
       "</style>\n",
       "<table border=\"1\" class=\"dataframe\">\n",
       "  <thead>\n",
       "    <tr style=\"text-align: right;\">\n",
       "      <th></th>\n",
       "      <th>market_data</th>\n",
       "    </tr>\n",
       "  </thead>\n",
       "  <tbody>\n",
       "    <tr>\n",
       "      <th>Dec</th>\n",
       "      <td>19609.521440</td>\n",
       "    </tr>\n",
       "    <tr>\n",
       "      <th>Jan</th>\n",
       "      <td>29022.418395</td>\n",
       "    </tr>\n",
       "    <tr>\n",
       "      <th>Feb</th>\n",
       "      <td>33064.786767</td>\n",
       "    </tr>\n",
       "    <tr>\n",
       "      <th>Mar</th>\n",
       "      <td>44970.163460</td>\n",
       "    </tr>\n",
       "    <tr>\n",
       "      <th>Apr</th>\n",
       "      <td>58817.373888</td>\n",
       "    </tr>\n",
       "  </tbody>\n",
       "</table>\n",
       "</div>"
      ],
      "text/plain": [
       "      market_data\n",
       "Dec  19609.521440\n",
       "Jan  29022.418395\n",
       "Feb  33064.786767\n",
       "Mar  44970.163460\n",
       "Apr  58817.373888"
      ]
     },
     "execution_count": 41,
     "metadata": {},
     "output_type": "execute_result"
    }
   ],
   "source": [
    " # Set current amount of market price data\n",
    "    \n",
    "market_data = {\n",
    "    \"market_data\": [market_price_dec, market_price_jan, market_price_feb, market_price_mar, market_price_apr]\n",
    "}\n",
    "\n",
    "# Set the tickers\n",
    "years = [\"Dec\", \"Jan\", \"Feb\", \"Mar\", \"Apr\"]\n",
    "\n",
    "# Create the shares DataFrame\n",
    "df_price_btc = pd.DataFrame(market_data, index=years)\n",
    "\n",
    "# Display shares data\n",
    "df_price_btc"
   ]
  },
  {
   "cell_type": "code",
   "execution_count": 42,
   "metadata": {},
   "outputs": [
    {
     "name": "stderr",
     "output_type": "stream",
     "text": [
      "C:\\Users\\alish\\anaconda3\\ANACONDA\\envs\\pyvizenv\\lib\\site-packages\\pandas\\plotting\\_core.py:396: UserWarning: FixedFormatter should only be used together with FixedLocator\n",
      "  ax.set_xticklabels(xticklabels)\n"
     ]
    },
    {
     "data": {
      "text/plain": [
       "<AxesSubplot:>"
      ]
     },
     "execution_count": 42,
     "metadata": {},
     "output_type": "execute_result"
    },
    {
     "data": {
      "image/png": "[encoded data removed]",
      "text/plain": [
       "<Figure size 432x288 with 1 Axes>"
      ]
     },
     "metadata": {
      "needs_background": "light"
     },
     "output_type": "display_data"
    }
   ],
   "source": [
    "df_price_btc.plot()"
   ]
  },
  {
   "cell_type": "code",
   "execution_count": 43,
   "metadata": {},
   "outputs": [
    {
     "data": {
      "text/html": [
       "<div>\n",
       "<style scoped>\n",
       "    .dataframe tbody tr th:only-of-type {\n",
       "        vertical-align: middle;\n",
       "    }\n",
       "\n",
       "    .dataframe tbody tr th {\n",
       "        vertical-align: top;\n",
       "    }\n",
       "\n",
       "    .dataframe thead th {\n",
       "        text-align: right;\n",
       "    }\n",
       "</style>\n",
       "<table border=\"1\" class=\"dataframe\">\n",
       "  <thead>\n",
       "    <tr style=\"text-align: right;\">\n",
       "      <th></th>\n",
       "      <th>twitter_followers</th>\n",
       "      <th>market_data</th>\n",
       "    </tr>\n",
       "  </thead>\n",
       "  <tbody>\n",
       "    <tr>\n",
       "      <th>Dec</th>\n",
       "      <td>2884</td>\n",
       "      <td>19609.521440</td>\n",
       "    </tr>\n",
       "    <tr>\n",
       "      <th>Jan</th>\n",
       "      <td>2974</td>\n",
       "      <td>29022.418395</td>\n",
       "    </tr>\n",
       "    <tr>\n",
       "      <th>Mar</th>\n",
       "      <td>18466</td>\n",
       "      <td>44970.163460</td>\n",
       "    </tr>\n",
       "  </tbody>\n",
       "</table>\n",
       "</div>"
      ],
      "text/plain": [
       "     twitter_followers   market_data\n",
       "Dec               2884  19609.521440\n",
       "Jan               2974  29022.418395\n",
       "Mar              18466  44970.163460"
      ]
     },
     "execution_count": 43,
     "metadata": {},
     "output_type": "execute_result"
    }
   ],
   "source": [
    "combined_df = pd.concat(\n",
    "[df_social_btc, df_price_btc], axis=\"columns\", join=\"inner\"\n",
    ")\n",
    "\n",
    "combined_df"
   ]
  },
  {
   "cell_type": "code",
   "execution_count": 45,
   "metadata": {},
   "outputs": [
    {
     "name": "stderr",
     "output_type": "stream",
     "text": [
      "C:\\Users\\alish\\anaconda3\\ANACONDA\\envs\\pyvizenv\\lib\\site-packages\\pandas\\plotting\\_core.py:396: UserWarning: FixedFormatter should only be used together with FixedLocator\n",
      "  ax.set_xticklabels(xticklabels)\n"
     ]
    },
    {
     "data": {
      "text/plain": [
       "<AxesSubplot:>"
      ]
     },
     "execution_count": 45,
     "metadata": {},
     "output_type": "execute_result"
    },
    {
     "data": {
      "image/png": "[encoded data removed]",
      "text/plain": [
       "<Figure size 432x288 with 1 Axes>"
      ]
     },
     "metadata": {
      "needs_background": "light"
     },
     "output_type": "display_data"
    }
   ],
   "source": [
    "combined_df.plot(ylim=(2500,45000))"
   ]
  },
  {
   "cell_type": "markdown",
   "metadata": {},
   "source": [
    "## SOCIAL LINE CHART PLAY "
   ]
  },
  {
   "cell_type": "markdown",
   "metadata": {},
   "source": [
    "## Market Cap Data Visualisation"
   ]
  },
  {
   "cell_type": "code",
   "execution_count": 46,
   "metadata": {},
   "outputs": [],
   "source": [
    "market_cap_dec = data_dec[\"market_data\"][\"market_cap\"][\"usd\"]\n",
    "\n",
    "market_cap_jan = data_jan[\"market_data\"][\"market_cap\"][\"usd\"]\n",
    "\n",
    "market_cap_feb = data_feb[\"market_data\"][\"market_cap\"][\"usd\"]\n",
    "\n",
    "market_cap_mar = data_mar[\"market_data\"][\"market_cap\"][\"usd\"]\n",
    "\n",
    "market_cap_apr = data_apr[\"market_data\"][\"market_cap\"][\"usd\"]\n"
   ]
  },
  {
   "cell_type": "code",
   "execution_count": 47,
   "metadata": {},
   "outputs": [
    {
     "data": {
      "text/html": [
       "<div>\n",
       "<style scoped>\n",
       "    .dataframe tbody tr th:only-of-type {\n",
       "        vertical-align: middle;\n",
       "    }\n",
       "\n",
       "    .dataframe tbody tr th {\n",
       "        vertical-align: top;\n",
       "    }\n",
       "\n",
       "    .dataframe thead th {\n",
       "        text-align: right;\n",
       "    }\n",
       "</style>\n",
       "<table border=\"1\" class=\"dataframe\">\n",
       "  <thead>\n",
       "    <tr style=\"text-align: right;\">\n",
       "      <th></th>\n",
       "      <th>market_cap</th>\n",
       "    </tr>\n",
       "  </thead>\n",
       "  <tbody>\n",
       "    <tr>\n",
       "      <th>Dec</th>\n",
       "      <td>3.639277e+11</td>\n",
       "    </tr>\n",
       "    <tr>\n",
       "      <th>Jan</th>\n",
       "      <td>5.394380e+11</td>\n",
       "    </tr>\n",
       "    <tr>\n",
       "      <th>Feb</th>\n",
       "      <td>6.150138e+11</td>\n",
       "    </tr>\n",
       "    <tr>\n",
       "      <th>Mar</th>\n",
       "      <td>8.383076e+11</td>\n",
       "    </tr>\n",
       "    <tr>\n",
       "      <th>Apr</th>\n",
       "      <td>1.098127e+12</td>\n",
       "    </tr>\n",
       "  </tbody>\n",
       "</table>\n",
       "</div>"
      ],
      "text/plain": [
       "       market_cap\n",
       "Dec  3.639277e+11\n",
       "Jan  5.394380e+11\n",
       "Feb  6.150138e+11\n",
       "Mar  8.383076e+11\n",
       "Apr  1.098127e+12"
      ]
     },
     "execution_count": 47,
     "metadata": {},
     "output_type": "execute_result"
    }
   ],
   "source": [
    " # Set current amount of market cap data\n",
    "    \n",
    "market_cap_data = {\n",
    "    \"market_cap\": [market_cap_dec, market_cap_jan, market_cap_feb, market_cap_mar, market_cap_apr]\n",
    "}\n",
    "\n",
    "# Set the tickers\n",
    "years = [\"Dec\", \"Jan\", \"Feb\", \"Mar\", \"Apr\"]\n",
    "\n",
    "# Create the shares DataFrame\n",
    "df_market_cap = pd.DataFrame(market_cap_data, index=years)\n",
    "\n",
    "# Display shares data\n",
    "df_market_cap"
   ]
  },
  {
   "cell_type": "code",
   "execution_count": 48,
   "metadata": {},
   "outputs": [
    {
     "name": "stderr",
     "output_type": "stream",
     "text": [
      "C:\\Users\\alish\\anaconda3\\ANACONDA\\envs\\pyvizenv\\lib\\site-packages\\pandas\\plotting\\_core.py:396: UserWarning: FixedFormatter should only be used together with FixedLocator\n",
      "  ax.set_xticklabels(xticklabels)\n"
     ]
    },
    {
     "data": {
      "text/plain": [
       "<AxesSubplot:>"
      ]
     },
     "execution_count": 48,
     "metadata": {},
     "output_type": "execute_result"
    },
    {
     "data": {
      "image/png": "[encoded data removed]",
      "text/plain": [
       "<Figure size 432x288 with 1 Axes>"
      ]
     },
     "metadata": {
      "needs_background": "light"
     },
     "output_type": "display_data"
    }
   ],
   "source": [
    "df_market_cap.plot()"
   ]
  },
  {
   "cell_type": "markdown",
   "metadata": {},
   "source": [
    "## Total Volume Data Visualisation"
   ]
  },
  {
   "cell_type": "code",
   "execution_count": 49,
   "metadata": {},
   "outputs": [],
   "source": [
    "total_volume_dec = data_dec[\"market_data\"][\"total_volume\"][\"usd\"]\n",
    "\n",
    "total_volume_jan = data_jan[\"market_data\"][\"total_volume\"][\"usd\"]\n",
    "\n",
    "total_volume_feb = data_feb[\"market_data\"][\"total_volume\"][\"usd\"]\n",
    "\n",
    "total_volume_mar = data_mar[\"market_data\"][\"total_volume\"][\"usd\"]\n",
    "\n",
    "total_volume_apr = data_apr[\"market_data\"][\"total_volume\"][\"usd\"]\n"
   ]
  },
  {
   "cell_type": "code",
   "execution_count": 50,
   "metadata": {},
   "outputs": [
    {
     "data": {
      "text/html": [
       "<div>\n",
       "<style scoped>\n",
       "    .dataframe tbody tr th:only-of-type {\n",
       "        vertical-align: middle;\n",
       "    }\n",
       "\n",
       "    .dataframe tbody tr th {\n",
       "        vertical-align: top;\n",
       "    }\n",
       "\n",
       "    .dataframe thead th {\n",
       "        text-align: right;\n",
       "    }\n",
       "</style>\n",
       "<table border=\"1\" class=\"dataframe\">\n",
       "  <thead>\n",
       "    <tr style=\"text-align: right;\">\n",
       "      <th></th>\n",
       "      <th>total_volume</th>\n",
       "    </tr>\n",
       "  </thead>\n",
       "  <tbody>\n",
       "    <tr>\n",
       "      <th>Dec</th>\n",
       "      <td>3.616083e+10</td>\n",
       "    </tr>\n",
       "    <tr>\n",
       "      <th>Jan</th>\n",
       "      <td>4.350352e+10</td>\n",
       "    </tr>\n",
       "    <tr>\n",
       "      <th>Feb</th>\n",
       "      <td>4.248865e+10</td>\n",
       "    </tr>\n",
       "    <tr>\n",
       "      <th>Mar</th>\n",
       "      <td>5.967959e+10</td>\n",
       "    </tr>\n",
       "    <tr>\n",
       "      <th>Apr</th>\n",
       "      <td>5.749584e+10</td>\n",
       "    </tr>\n",
       "  </tbody>\n",
       "</table>\n",
       "</div>"
      ],
      "text/plain": [
       "     total_volume\n",
       "Dec  3.616083e+10\n",
       "Jan  4.350352e+10\n",
       "Feb  4.248865e+10\n",
       "Mar  5.967959e+10\n",
       "Apr  5.749584e+10"
      ]
     },
     "execution_count": 50,
     "metadata": {},
     "output_type": "execute_result"
    }
   ],
   "source": [
    " # Set current amount of total volume data\n",
    "    \n",
    "total_volume_data = {\n",
    "    \"total_volume\": [total_volume_dec, total_volume_jan, total_volume_feb, total_volume_mar, total_volume_apr]\n",
    "}\n",
    "\n",
    "# Set the tickers\n",
    "years = [\"Dec\", \"Jan\", \"Feb\", \"Mar\", \"Apr\"]\n",
    "\n",
    "# Create the shares DataFrame\n",
    "df_total_volume = pd.DataFrame(total_volume_data, index=years)\n",
    "\n",
    "# Display shares data\n",
    "df_total_volume"
   ]
  },
  {
   "cell_type": "code",
   "execution_count": 51,
   "metadata": {},
   "outputs": [
    {
     "name": "stderr",
     "output_type": "stream",
     "text": [
      "C:\\Users\\alish\\anaconda3\\ANACONDA\\envs\\pyvizenv\\lib\\site-packages\\pandas\\plotting\\_core.py:396: UserWarning: FixedFormatter should only be used together with FixedLocator\n",
      "  ax.set_xticklabels(xticklabels)\n"
     ]
    },
    {
     "data": {
      "text/plain": [
       "<AxesSubplot:>"
      ]
     },
     "execution_count": 51,
     "metadata": {},
     "output_type": "execute_result"
    },
    {
     "data": {
      "image/png": "[encoded data removed]",
      "text/plain": [
       "<Figure size 432x288 with 1 Axes>"
      ]
     },
     "metadata": {
      "needs_background": "light"
     },
     "output_type": "display_data"
    }
   ],
   "source": [
    "df_total_volume.plot()"
   ]
  },
  {
   "cell_type": "code",
   "execution_count": 52,
   "metadata": {},
   "outputs": [
    {
     "data": {
      "text/plain": [
       "<AxesSubplot:title={'center':'Monthly Volume Composition'}, ylabel='total_volume'>"
      ]
     },
     "execution_count": 52,
     "metadata": {},
     "output_type": "execute_result"
    },
    {
     "data": {
      "image/png": "[encoded data removed]",
      "text/plain": [
       "<Figure size 432x288 with 1 Axes>"
      ]
     },
     "metadata": {},
     "output_type": "display_data"
    }
   ],
   "source": [
    "df_total_volume.plot.pie(y=\"total_volume\", title=\"Monthly Volume Composition\")"
   ]
  },
  {
   "cell_type": "code",
   "execution_count": 107,
   "metadata": {},
   "outputs": [
    {
     "data": {
      "text/plain": [
       "<AxesSubplot:title={'center':'Price'}, ylabel='market_data'>"
      ]
     },
     "execution_count": 107,
     "metadata": {},
     "output_type": "execute_result"
    },
    {
     "data": {
      "image/png": "[encoded data removed]",
      "text/plain": [
       "<Figure size 432x288 with 1 Axes>"
      ]
     },
     "metadata": {},
     "output_type": "display_data"
    }
   ],
   "source": [
    "df_price_btc.plot.pie(y=\"market_data\", title=\"Price\")"
   ]
  },
  {
   "cell_type": "code",
   "execution_count": 108,
   "metadata": {},
   "outputs": [
    {
     "data": {
      "text/plain": [
       "<AxesSubplot:title={'center':'Monthly Total Volume'}>"
      ]
     },
     "execution_count": 108,
     "metadata": {},
     "output_type": "execute_result"
    },
    {
     "data": {
      "image/png": "[encoded data removed]",
      "text/plain": [
       "<Figure size 432x288 with 1 Axes>"
      ]
     },
     "metadata": {
      "needs_background": "light"
     },
     "output_type": "display_data"
    }
   ],
   "source": [
    "df_price_btc.plot.bar(title=\"Monthly Price Increases\")"
   ]
  },
  {
   "cell_type": "code",
   "execution_count": 54,
   "metadata": {},
   "outputs": [
    {
     "data": {
      "text/plain": [
       "<AxesSubplot:ylabel='Frequency'>"
      ]
     },
     "execution_count": 54,
     "metadata": {},
     "output_type": "execute_result"
    },
    {
     "data": {
      "image/png": "[encoded data removed]",
      "text/plain": [
       "<Figure size 432x288 with 1 Axes>"
      ]
     },
     "metadata": {
      "needs_background": "light"
     },
     "output_type": "display_data"
    }
   ],
   "source": [
    "df_total_volume.plot.hist(alpha=0.5)"
   ]
  },
  {
   "cell_type": "code",
   "execution_count": 55,
   "metadata": {},
   "outputs": [
    {
     "data": {
      "text/plain": [
       "<AxesSubplot:ylabel='Density'>"
      ]
     },
     "execution_count": 55,
     "metadata": {},
     "output_type": "execute_result"
    },
    {
     "data": {
      "image/png": "[encoded data removed]",
      "text/plain": [
       "<Figure size 432x288 with 1 Axes>"
      ]
     },
     "metadata": {
      "needs_background": "light"
     },
     "output_type": "display_data"
    }
   ],
   "source": [
    "df_total_volume.plot.density()"
   ]
  },
  {
   "cell_type": "code",
   "execution_count": 56,
   "metadata": {},
   "outputs": [
    {
     "data": {
      "text/plain": [
       "<AxesSubplot:title={'center':'Total Volume'}>"
      ]
     },
     "execution_count": 56,
     "metadata": {},
     "output_type": "execute_result"
    },
    {
     "data": {
      "image/png": "[encoded data removed]",
      "text/plain": [
       "<Figure size 432x288 with 1 Axes>"
      ]
     },
     "metadata": {
      "needs_background": "light"
     },
     "output_type": "display_data"
    }
   ],
   "source": [
    "# Bar Chart \n",
    "\n",
    "df_total_volume.plot(kind=\"bar\", title=\"Total Volume\")"
   ]
  },
  {
   "cell_type": "code",
   "execution_count": 57,
   "metadata": {},
   "outputs": [
    {
     "data": {},
     "metadata": {},
     "output_type": "display_data"
    },
    {
     "data": {
      "application/vnd.holoviews_exec.v0+json": "",
      "text/html": [
       "<div id='1002'>\n",
       "\n",
       "\n",
       "\n",
       "\n",
       "\n",
       "  <div class=\"bk-root\" id=\"4f029ff7-6ddf-4b25-acd7-838169e1a9b6\" data-root-id=\"1002\"></div>\n",
       "</div>\n",
       "<script type=\"application/javascript\">(function(root) {\n",
       "  function embed_document(root) {\n",
       "    var docs_json = {\"b97513a2-ce5d-4338-a722-5c305d948b75\":{\"defs\":[{\"extends\":null,\"module\":null,\"name\":\"DataModel\",\"overrides\":[],\"properties\":[]}],\"roots\":{\"references\":[{\"attributes\":{\"margin\":[5,5,5,5],\"name\":\"HSpacer01536\",\"sizing_mode\":\"stretch_width\"},\"id\":\"1003\",\"type\":\"Spacer\"},{\"attributes\":{\"below\":[{\"id\":\"1016\"}],\"center\":[{\"id\":\"1018\"},{\"id\":\"1022\"}],\"height\":300,\"left\":[{\"id\":\"1019\"}],\"margin\":[5,5,5,5],\"min_border_bottom\":10,\"min_border_left\":10,\"min_border_right\":10,\"min_border_top\":10,\"renderers\":[{\"id\":\"1042\"}],\"sizing_mode\":\"fixed\",\"title\":{\"id\":\"1008\"},\"toolbar\":{\"id\":\"1029\"},\"width\":700,\"x_range\":{\"id\":\"1004\"},\"x_scale\":{\"id\":\"1012\"},\"y_range\":{\"id\":\"1005\"},\"y_scale\":{\"id\":\"1014\"}},\"id\":\"1007\",\"subtype\":\"Figure\",\"type\":\"Plot\"},{\"attributes\":{},\"id\":\"1023\",\"type\":\"SaveTool\"},{\"attributes\":{},\"id\":\"1024\",\"type\":\"PanTool\"},{\"attributes\":{\"line_alpha\":0.1,\"line_color\":\"#30a2da\",\"line_width\":2,\"x\":{\"field\":\"index\"},\"y\":{\"field\":\"total_volume\"}},\"id\":\"1040\",\"type\":\"Line\"},{\"attributes\":{\"axis\":{\"id\":\"1016\"},\"grid_line_color\":null,\"ticker\":null},\"id\":\"1018\",\"type\":\"Grid\"},{\"attributes\":{},\"id\":\"1027\",\"type\":\"ResetTool\"},{\"attributes\":{\"line_color\":\"#30a2da\",\"line_width\":2,\"x\":{\"field\":\"index\"},\"y\":{\"field\":\"total_volume\"}},\"id\":\"1044\",\"type\":\"Line\"},{\"attributes\":{},\"id\":\"1025\",\"type\":\"WheelZoomTool\"},{\"attributes\":{\"source\":{\"id\":\"1036\"}},\"id\":\"1043\",\"type\":\"CDSView\"},{\"attributes\":{\"overlay\":{\"id\":\"1028\"}},\"id\":\"1026\",\"type\":\"BoxZoomTool\"},{\"attributes\":{\"axis_label\":\"Months\",\"formatter\":{\"id\":\"1047\"},\"major_label_policy\":{\"id\":\"1045\"},\"ticker\":{\"id\":\"1017\"}},\"id\":\"1016\",\"type\":\"CategoricalAxis\"},{\"attributes\":{},\"id\":\"1012\",\"type\":\"CategoricalScale\"},{\"attributes\":{\"end\":62031465095.64444,\"reset_end\":62031465095.64444,\"reset_start\":33808951072.877853,\"start\":33808951072.877853,\"tags\":[[[\"total_volume\",\"total_volume\",null]]]},\"id\":\"1005\",\"type\":\"Range1d\"},{\"attributes\":{\"callback\":null,\"renderers\":[{\"id\":\"1042\"}],\"tags\":[\"hv_created\"],\"tooltips\":[[\"index\",\"@{index}\"],[\"total_volume\",\"@{total_volume}\"]]},\"id\":\"1006\",\"type\":\"HoverTool\"},{\"attributes\":{},\"id\":\"1014\",\"type\":\"LinearScale\"},{\"attributes\":{\"text_color\":\"black\",\"text_font_size\":\"12pt\"},\"id\":\"1008\",\"type\":\"Title\"},{\"attributes\":{},\"id\":\"1017\",\"type\":\"CategoricalTicker\"},{\"attributes\":{\"factors\":[\"Dec\",\"Jan\",\"Feb\",\"Mar\",\"Apr\"],\"tags\":[[[\"index\",\"index\",null]]]},\"id\":\"1004\",\"type\":\"FactorRange\"},{\"attributes\":{\"axis\":{\"id\":\"1019\"},\"dimension\":1,\"grid_line_color\":null,\"ticker\":null},\"id\":\"1022\",\"type\":\"Grid\"},{\"attributes\":{},\"id\":\"1050\",\"type\":\"AllLabels\"},{\"attributes\":{},\"id\":\"1020\",\"type\":\"BasicTicker\"},{\"attributes\":{\"active_multi\":null,\"tools\":[{\"id\":\"1006\"},{\"id\":\"1023\"},{\"id\":\"1024\"},{\"id\":\"1025\"},{\"id\":\"1026\"},{\"id\":\"1027\"}]},\"id\":\"1029\",\"type\":\"Toolbar\"},{\"attributes\":{\"axis_label\":\"Total Volume\",\"formatter\":{\"id\":\"1049\"},\"major_label_policy\":{\"id\":\"1050\"},\"ticker\":{\"id\":\"1020\"}},\"id\":\"1019\",\"type\":\"LinearAxis\"},{\"attributes\":{\"line_color\":\"#30a2da\",\"line_width\":2,\"x\":{\"field\":\"index\"},\"y\":{\"field\":\"total_volume\"}},\"id\":\"1039\",\"type\":\"Line\"},{\"attributes\":{\"data\":{\"index\":[\"Dec\",\"Jan\",\"Feb\",\"Mar\",\"Apr\"],\"total_volume\":{\"__ndarray__\":\"K+LS3rTWIEL6lib3BUIkQrJ2Vq8KySNCPyl+hFzKK0JG1vvsCcYqQg==\",\"dtype\":\"float64\",\"order\":\"little\",\"shape\":[5]}},\"selected\":{\"id\":\"1037\"},\"selection_policy\":{\"id\":\"1059\"}},\"id\":\"1036\",\"type\":\"ColumnDataSource\"},{\"attributes\":{\"bottom_units\":\"screen\",\"fill_alpha\":0.5,\"fill_color\":\"lightgrey\",\"left_units\":\"screen\",\"level\":\"overlay\",\"line_alpha\":1.0,\"line_color\":\"black\",\"line_dash\":[4,4],\"line_width\":2,\"right_units\":\"screen\",\"syncable\":false,\"top_units\":\"screen\"},\"id\":\"1028\",\"type\":\"BoxAnnotation\"},{\"attributes\":{},\"id\":\"1045\",\"type\":\"AllLabels\"},{\"attributes\":{},\"id\":\"1049\",\"type\":\"BasicTickFormatter\"},{\"attributes\":{},\"id\":\"1059\",\"type\":\"UnionRenderers\"},{\"attributes\":{\"data_source\":{\"id\":\"1036\"},\"glyph\":{\"id\":\"1039\"},\"hover_glyph\":null,\"muted_glyph\":{\"id\":\"1041\"},\"nonselection_glyph\":{\"id\":\"1040\"},\"selection_glyph\":{\"id\":\"1044\"},\"view\":{\"id\":\"1043\"}},\"id\":\"1042\",\"type\":\"GlyphRenderer\"},{\"attributes\":{\"margin\":[5,5,5,5],\"name\":\"HSpacer01537\",\"sizing_mode\":\"stretch_width\"},\"id\":\"1071\",\"type\":\"Spacer\"},{\"attributes\":{},\"id\":\"1047\",\"type\":\"CategoricalTickFormatter\"},{\"attributes\":{},\"id\":\"1037\",\"type\":\"Selection\"},{\"attributes\":{\"line_alpha\":0.2,\"line_color\":\"#30a2da\",\"line_width\":2,\"x\":{\"field\":\"index\"},\"y\":{\"field\":\"total_volume\"}},\"id\":\"1041\",\"type\":\"Line\"},{\"attributes\":{\"children\":[{\"id\":\"1003\"},{\"id\":\"1007\"},{\"id\":\"1071\"}],\"margin\":[0,0,0,0],\"name\":\"Row01532\",\"tags\":[\"embedded\"]},\"id\":\"1002\",\"type\":\"Row\"}],\"root_ids\":[\"1002\"]},\"title\":\"Bokeh Application\",\"version\":\"2.3.0\"}};\n",
       "    var render_items = [{\"docid\":\"b97513a2-ce5d-4338-a722-5c305d948b75\",\"root_ids\":[\"1002\"],\"roots\":{\"1002\":\"4f029ff7-6ddf-4b25-acd7-838169e1a9b6\"}}];\n",
       "    root.Bokeh.embed.embed_items_notebook(docs_json, render_items);\n",
       "  }\n",
       "  if (root.Bokeh !== undefined && root.Bokeh.Panel !== undefined) {\n",
       "    embed_document(root);\n",
       "  } else {\n",
       "    var attempts = 0;\n",
       "    var timer = setInterval(function(root) {\n",
       "      if (root.Bokeh !== undefined && root.Bokeh.Panel !== undefined) {\n",
       "        clearInterval(timer);\n",
       "        embed_document(root);\n",
       "      } else if (document.readyState == \"complete\") {\n",
       "        attempts++;\n",
       "        if (attempts > 100) {\n",
       "          clearInterval(timer);\n",
       "          console.log(\"Bokeh: ERROR: Unable to run BokehJS code because BokehJS library is missing\");\n",
       "        }\n",
       "      }\n",
       "    }, 10, root)\n",
       "  }\n",
       "})(window);</script>"
      ],
      "text/plain": [
       ":Curve   [index]   (total_volume)"
      ]
     },
     "execution_count": 57,
     "metadata": {
      "application/vnd.holoviews_exec.v0+json": {
       "id": "1002"
      }
     },
     "output_type": "execute_result"
    }
   ],
   "source": [
    " # Use hplot.line to create line plot\n",
    "df_total_volume.hvplot.line(xlabel=\"Months\", ylabel=\"Total Volume\")"
   ]
  },
  {
   "cell_type": "code",
   "execution_count": 58,
   "metadata": {},
   "outputs": [
    {
     "data": {},
     "metadata": {},
     "output_type": "display_data"
    },
    {
     "data": {
      "application/vnd.holoviews_exec.v0+json": "",
      "text/html": [
       "<div id='1123'>\n",
       "\n",
       "\n",
       "\n",
       "\n",
       "\n",
       "  <div class=\"bk-root\" id=\"b40dda41-aeaa-4883-951d-109eb60f98f8\" data-root-id=\"1123\"></div>\n",
       "</div>\n",
       "<script type=\"application/javascript\">(function(root) {\n",
       "  function embed_document(root) {\n",
       "    var docs_json = {\"96a72064-0e56-40d1-9a80-cd87315e09b4\":{\"defs\":[{\"extends\":null,\"module\":null,\"name\":\"DataModel\",\"overrides\":[],\"properties\":[]}],\"roots\":{\"references\":[{\"attributes\":{},\"id\":\"1141\",\"type\":\"BasicTicker\"},{\"attributes\":{\"axis_label\":\"Total Volume\",\"formatter\":{\"id\":\"1170\"},\"major_label_policy\":{\"id\":\"1171\"},\"ticker\":{\"id\":\"1141\"}},\"id\":\"1140\",\"type\":\"LinearAxis\"},{\"attributes\":{\"fill_color\":{\"value\":\"#30a2da\"},\"top\":{\"field\":\"total_volume\"},\"width\":{\"value\":0.8},\"x\":{\"field\":\"Months\"}},\"id\":\"1160\",\"type\":\"VBar\"},{\"attributes\":{\"text_color\":\"black\",\"text_font_size\":\"12pt\"},\"id\":\"1129\",\"type\":\"Title\"},{\"attributes\":{},\"id\":\"1180\",\"type\":\"UnionRenderers\"},{\"attributes\":{},\"id\":\"1158\",\"type\":\"Selection\"},{\"attributes\":{\"callback\":null,\"renderers\":[{\"id\":\"1163\"}],\"tags\":[\"hv_created\"],\"tooltips\":[[\"Months\",\"@{Months}\"],[\"total_volume\",\"@{total_volume}\"]]},\"id\":\"1127\",\"type\":\"HoverTool\"},{\"attributes\":{\"children\":[{\"id\":\"1124\"},{\"id\":\"1128\"},{\"id\":\"1192\"}],\"margin\":[0,0,0,0],\"name\":\"Row01711\",\"tags\":[\"embedded\"]},\"id\":\"1123\",\"type\":\"Row\"},{\"attributes\":{\"margin\":[5,5,5,5],\"name\":\"HSpacer01716\",\"sizing_mode\":\"stretch_width\"},\"id\":\"1192\",\"type\":\"Spacer\"},{\"attributes\":{},\"id\":\"1166\",\"type\":\"AllLabels\"},{\"attributes\":{\"bottom_units\":\"screen\",\"fill_alpha\":0.5,\"fill_color\":\"lightgrey\",\"left_units\":\"screen\",\"level\":\"overlay\",\"line_alpha\":1.0,\"line_color\":\"black\",\"line_dash\":[4,4],\"line_width\":2,\"right_units\":\"screen\",\"syncable\":false,\"top_units\":\"screen\"},\"id\":\"1149\",\"type\":\"BoxAnnotation\"},{\"attributes\":{\"margin\":[5,5,5,5],\"name\":\"HSpacer01715\",\"sizing_mode\":\"stretch_width\"},\"id\":\"1124\",\"type\":\"Spacer\"},{\"attributes\":{\"fill_alpha\":{\"value\":0.1},\"fill_color\":{\"value\":\"#30a2da\"},\"line_alpha\":{\"value\":0.1},\"top\":{\"field\":\"total_volume\"},\"width\":{\"value\":0.8},\"x\":{\"field\":\"Months\"}},\"id\":\"1161\",\"type\":\"VBar\"},{\"attributes\":{\"axis\":{\"id\":\"1137\"},\"grid_line_color\":null,\"ticker\":null},\"id\":\"1139\",\"type\":\"Grid\"},{\"attributes\":{\"factors\":[\"0\",\"1\",\"2\",\"3\",\"4\"],\"tags\":[[[\"Months\",\"Months\",null]]]},\"id\":\"1125\",\"type\":\"FactorRange\"},{\"attributes\":{\"bottom\":{\"value\":0},\"fill_alpha\":{\"value\":1.0},\"fill_color\":{\"value\":\"#30a2da\"},\"hatch_alpha\":{\"value\":1.0},\"hatch_color\":{\"value\":\"black\"},\"hatch_scale\":{\"value\":12.0},\"hatch_weight\":{\"value\":1.0},\"line_alpha\":{\"value\":1.0},\"line_cap\":{\"value\":\"butt\"},\"line_color\":{\"value\":\"black\"},\"line_dash\":{\"value\":[]},\"line_dash_offset\":{\"value\":0},\"line_join\":{\"value\":\"bevel\"},\"line_width\":{\"value\":1},\"top\":{\"field\":\"total_volume\"},\"width\":{\"value\":0.8},\"x\":{\"field\":\"Months\"}},\"id\":\"1165\",\"type\":\"VBar\"},{\"attributes\":{\"data\":{\"Months\":[\"0\",\"1\",\"2\",\"3\",\"4\"],\"total_volume\":{\"__ndarray__\":\"K+LS3rTWIEL6lib3BUIkQrJ2Vq8KySNCPyl+hFzKK0JG1vvsCcYqQg==\",\"dtype\":\"float64\",\"order\":\"little\",\"shape\":[5]}},\"selected\":{\"id\":\"1158\"},\"selection_policy\":{\"id\":\"1180\"}},\"id\":\"1157\",\"type\":\"ColumnDataSource\"},{\"attributes\":{\"below\":[{\"id\":\"1137\"}],\"center\":[{\"id\":\"1139\"},{\"id\":\"1143\"}],\"height\":300,\"left\":[{\"id\":\"1140\"}],\"margin\":[5,5,5,5],\"min_border_bottom\":10,\"min_border_left\":10,\"min_border_right\":10,\"min_border_top\":10,\"renderers\":[{\"id\":\"1163\"}],\"sizing_mode\":\"fixed\",\"title\":{\"id\":\"1129\"},\"toolbar\":{\"id\":\"1150\"},\"width\":700,\"x_range\":{\"id\":\"1125\"},\"x_scale\":{\"id\":\"1133\"},\"y_range\":{\"id\":\"1126\"},\"y_scale\":{\"id\":\"1135\"}},\"id\":\"1128\",\"subtype\":\"Figure\",\"type\":\"Plot\"},{\"attributes\":{},\"id\":\"1144\",\"type\":\"SaveTool\"},{\"attributes\":{},\"id\":\"1145\",\"type\":\"PanTool\"},{\"attributes\":{\"active_multi\":null,\"tools\":[{\"id\":\"1127\"},{\"id\":\"1144\"},{\"id\":\"1145\"},{\"id\":\"1146\"},{\"id\":\"1147\"},{\"id\":\"1148\"}]},\"id\":\"1150\",\"type\":\"Toolbar\"},{\"attributes\":{},\"id\":\"1148\",\"type\":\"ResetTool\"},{\"attributes\":{},\"id\":\"1146\",\"type\":\"WheelZoomTool\"},{\"attributes\":{\"overlay\":{\"id\":\"1149\"}},\"id\":\"1147\",\"type\":\"BoxZoomTool\"},{\"attributes\":{},\"id\":\"1168\",\"type\":\"CategoricalTickFormatter\"},{\"attributes\":{\"fill_alpha\":{\"value\":0.2},\"fill_color\":{\"value\":\"#30a2da\"},\"line_alpha\":{\"value\":0.2},\"top\":{\"field\":\"total_volume\"},\"width\":{\"value\":0.8},\"x\":{\"field\":\"Months\"}},\"id\":\"1162\",\"type\":\"VBar\"},{\"attributes\":{\"axis_label\":\"Months\",\"formatter\":{\"id\":\"1168\"},\"major_label_orientation\":1.5707963267948966,\"major_label_policy\":{\"id\":\"1166\"},\"ticker\":{\"id\":\"1138\"}},\"id\":\"1137\",\"type\":\"CategoricalAxis\"},{\"attributes\":{},\"id\":\"1133\",\"type\":\"CategoricalScale\"},{\"attributes\":{},\"id\":\"1170\",\"type\":\"BasicTickFormatter\"},{\"attributes\":{},\"id\":\"1171\",\"type\":\"AllLabels\"},{\"attributes\":{},\"id\":\"1135\",\"type\":\"LinearScale\"},{\"attributes\":{\"data_source\":{\"id\":\"1157\"},\"glyph\":{\"id\":\"1160\"},\"hover_glyph\":null,\"muted_glyph\":{\"id\":\"1162\"},\"nonselection_glyph\":{\"id\":\"1161\"},\"selection_glyph\":{\"id\":\"1165\"},\"view\":{\"id\":\"1164\"}},\"id\":\"1163\",\"type\":\"GlyphRenderer\"},{\"attributes\":{},\"id\":\"1138\",\"type\":\"CategoricalTicker\"},{\"attributes\":{\"end\":62031465095.64444,\"reset_end\":62031465095.64444,\"reset_start\":0.0,\"tags\":[[[\"total_volume\",\"total_volume\",null]]]},\"id\":\"1126\",\"type\":\"Range1d\"},{\"attributes\":{\"source\":{\"id\":\"1157\"}},\"id\":\"1164\",\"type\":\"CDSView\"},{\"attributes\":{\"axis\":{\"id\":\"1140\"},\"dimension\":1,\"grid_line_color\":null,\"ticker\":null},\"id\":\"1143\",\"type\":\"Grid\"}],\"root_ids\":[\"1123\"]},\"title\":\"Bokeh Application\",\"version\":\"2.3.0\"}};\n",
       "    var render_items = [{\"docid\":\"96a72064-0e56-40d1-9a80-cd87315e09b4\",\"root_ids\":[\"1123\"],\"roots\":{\"1123\":\"b40dda41-aeaa-4883-951d-109eb60f98f8\"}}];\n",
       "    root.Bokeh.embed.embed_items_notebook(docs_json, render_items);\n",
       "  }\n",
       "  if (root.Bokeh !== undefined && root.Bokeh.Panel !== undefined) {\n",
       "    embed_document(root);\n",
       "  } else {\n",
       "    var attempts = 0;\n",
       "    var timer = setInterval(function(root) {\n",
       "      if (root.Bokeh !== undefined && root.Bokeh.Panel !== undefined) {\n",
       "        clearInterval(timer);\n",
       "        embed_document(root);\n",
       "      } else if (document.readyState == \"complete\") {\n",
       "        attempts++;\n",
       "        if (attempts > 100) {\n",
       "          clearInterval(timer);\n",
       "          console.log(\"Bokeh: ERROR: Unable to run BokehJS code because BokehJS library is missing\");\n",
       "        }\n",
       "      }\n",
       "    }, 10, root)\n",
       "  }\n",
       "})(window);</script>"
      ],
      "text/plain": [
       ":Bars   [Months]   (total_volume)"
      ]
     },
     "execution_count": 58,
     "metadata": {
      "application/vnd.holoviews_exec.v0+json": {
       "id": "1123"
      }
     },
     "output_type": "execute_result"
    }
   ],
   "source": [
    "# Use hvplot.bar() to create bar plot with categorical data\n",
    "df_total_volume.hvplot.bar(\n",
    "    x=\"Months\", y=\"total_volume\", xlabel=\"Months\", ylabel=\"Total Volume\", rot=90\n",
    ")"
   ]
  },
  {
   "cell_type": "markdown",
   "metadata": {},
   "source": [
    "## Past 5 Months Performance of Chain Games"
   ]
  },
  {
   "cell_type": "markdown",
   "metadata": {},
   "source": [
    "## December Data"
   ]
  },
  {
   "cell_type": "code",
   "execution_count": 59,
   "metadata": {},
   "outputs": [],
   "source": [
    "\n",
    "\n",
    "# import comparison urls\n",
    "\n",
    "\n",
    "url_dec = \"https://api.coingecko.com/api/v3/coins/chain-games/history?date=01-12-2020&localization=false\"\n",
    "\n",
    "requests.get(url_dec)\n",
    "\n",
    "# Execute GET request and store response\n",
    "\n",
    "response_data_dec = requests.get(url_dec)\n",
    "\n",
    "# Get content \n",
    "\n",
    "response_content_dec = response_data_dec.content\n",
    "\n",
    "# print(response_content_jan)# Format data as a raw json file\n",
    "\n",
    "data_dec = response_data_dec.json()\n",
    "\n",
    "# Format data as a raw json file\n",
    "\n",
    "data_dec = response_data_dec.json()\n",
    "\n",
    "# Add intdents to JSON and output to screen\n",
    "\n",
    "import json\n",
    "# print(json.dumps(data_feb, indent=4))"
   ]
  },
  {
   "cell_type": "code",
   "execution_count": 60,
   "metadata": {},
   "outputs": [
    {
     "data": {
      "text/plain": [
       "2884"
      ]
     },
     "execution_count": 60,
     "metadata": {},
     "output_type": "execute_result"
    }
   ],
   "source": [
    "dec_twitter_fol = data_dec[\"community_data\"][\"twitter_followers\"]\n",
    "\n",
    "dec_twitter_fol"
   ]
  },
  {
   "cell_type": "markdown",
   "metadata": {},
   "source": [
    "## January Data"
   ]
  },
  {
   "cell_type": "code",
   "execution_count": 61,
   "metadata": {},
   "outputs": [],
   "source": [
    "# import comparison urls\n",
    "\n",
    "\n",
    "url_jan = \"https://api.coingecko.com/api/v3/coins/chain-games/history?date=01-01-2021&localization=false\"\n",
    "\n",
    "requests.get(url_jan)\n",
    "\n",
    "# Execute GET request and store response\n",
    "\n",
    "response_data_jan = requests.get(url_jan)\n",
    "\n",
    "# Get content \n",
    "\n",
    "response_content_jan = response_data_jan.content\n",
    "\n",
    "# print(response_content_jan)# Format data as a raw json file\n",
    "\n",
    "data_jan = response_data_jan.json()\n",
    "\n",
    "# Format data as a raw json file\n",
    "\n",
    "data_jan = response_data_jan.json()\n",
    "\n",
    "# Add intdents to JSON and output to screen\n",
    "\n",
    "import json\n",
    "# print(json.dumps(data_feb, indent=4))"
   ]
  },
  {
   "cell_type": "code",
   "execution_count": 62,
   "metadata": {},
   "outputs": [
    {
     "data": {
      "text/plain": [
       "2974"
      ]
     },
     "execution_count": 62,
     "metadata": {},
     "output_type": "execute_result"
    }
   ],
   "source": [
    "jan_twitter_fol = data_jan[\"community_data\"][\"twitter_followers\"]\n",
    "\n",
    "jan_twitter_fol"
   ]
  },
  {
   "cell_type": "markdown",
   "metadata": {},
   "source": [
    "## February Data"
   ]
  },
  {
   "cell_type": "code",
   "execution_count": 63,
   "metadata": {},
   "outputs": [],
   "source": [
    "# import comparison urls\n",
    "\n",
    "\n",
    "url_feb = \"https://api.coingecko.com/api/v3/coins/chain-games/history?date=01-02-2021&localization=false\"\n",
    "\n",
    "requests.get(url_feb)\n",
    "\n",
    "# Execute GET request and store response\n",
    "\n",
    "response_data_feb = requests.get(url_feb)\n",
    "\n",
    "# Get content \n",
    "\n",
    "response_content_feb = response_data_feb.content\n",
    "\n",
    "# print(response_content_jan)# Format data as a raw json file\n",
    "\n",
    "data_feb = response_data_feb.json()\n",
    "\n",
    "# Format data as a raw json file\n",
    "\n",
    "data_feb = response_data_feb.json()\n",
    "\n",
    "# Add intdents to JSON and output to screen\n",
    "\n",
    "import json\n",
    "# print(json.dumps(data_feb, indent=4))"
   ]
  },
  {
   "cell_type": "code",
   "execution_count": 64,
   "metadata": {},
   "outputs": [],
   "source": [
    "feb_twitter_fol = data_feb[\"community_data\"][\"twitter_followers\"]\n",
    "\n",
    "feb_twitter_fol"
   ]
  },
  {
   "cell_type": "markdown",
   "metadata": {},
   "source": [
    "## March Data"
   ]
  },
  {
   "cell_type": "code",
   "execution_count": 65,
   "metadata": {},
   "outputs": [],
   "source": [
    "# import comparison urls\n",
    "\n",
    "\n",
    "url_mar = \"https://api.coingecko.com/api/v3/coins/chain-games/history?date=01-03-2021&localization=false\"\n",
    "\n",
    "requests.get(url_mar)\n",
    "\n",
    "# Execute GET request and store response\n",
    "\n",
    "response_data_mar = requests.get(url_mar)\n",
    "\n",
    "# Get content\n",
    "\n",
    "response_content_mar = response_data_mar.content\n",
    "\n",
    "# print(response_content_jan)# Format data as a raw json file\n",
    "\n",
    "data_mar = response_data_mar.json()\n",
    "\n",
    "# Format data as a raw json file\n",
    "\n",
    "data_mar = response_data_mar.json()\n",
    "\n",
    "# Add intdents to JSON and output to screen\n",
    "\n",
    "import json\n",
    "# print(json.dumps(data_feb, indent=4))"
   ]
  },
  {
   "cell_type": "code",
   "execution_count": 66,
   "metadata": {},
   "outputs": [],
   "source": [
    "mar_twitter_fol = data_mar[\"community_data\"][\"twitter_followers\"]\n",
    "\n",
    "mar_twitter_fol"
   ]
  },
  {
   "cell_type": "markdown",
   "metadata": {},
   "source": [
    "## April Data "
   ]
  },
  {
   "cell_type": "code",
   "execution_count": 67,
   "metadata": {},
   "outputs": [
    {
     "name": "stdout",
     "output_type": "stream",
     "text": [
      "{\n",
      "    \"id\": \"chain-games\",\n",
      "    \"symbol\": \"chain\",\n",
      "    \"name\": \"Chain Games\",\n",
      "    \"image\": {\n",
      "        \"thumb\": \"https://assets.coingecko.com/coins/images/12257/thumb/chain-logo-centered-500x500.png?1599617244\",\n",
      "        \"small\": \"https://assets.coingecko.com/coins/images/12257/small/chain-logo-centered-500x500.png?1599617244\"\n",
      "    },\n",
      "    \"market_data\": {\n",
      "        \"current_price\": {\n",
      "            \"aed\": 2.9698454629149778,\n",
      "            \"ars\": 74.37145674241378,\n",
      "            \"aud\": 1.0645592654786995,\n",
      "            \"bch\": 0.0014968088870962063,\n",
      "            \"bdt\": 68.54359587626023,\n",
      "            \"bhd\": 0.30483444000799564,\n",
      "            \"bmd\": 0.8085172228343078,\n",
      "            \"bnb\": 0.0026734909736867143,\n",
      "            \"brl\": 4.5542158127810906,\n",
      "            \"btc\": 1.3759271991277325e-05,\n",
      "            \"cad\": 1.0158816775607369,\n",
      "            \"chf\": 0.7631707258744224,\n",
      "            \"clp\": 582.536659052118,\n",
      "            \"cny\": 5.297970806066368,\n",
      "            \"czk\": 18.00139341123898,\n",
      "            \"dkk\": 5.128085975721646,\n",
      "            \"dot\": 0.021919573424043208,\n",
      "            \"eos\": 0.16865827992502336,\n",
      "            \"eth\": 0.00042247633388022975,\n",
      "            \"eur\": 0.6893935292907918,\n",
      "            \"gbp\": 0.5865202234090238,\n",
      "            \"hkd\": 6.28598127792156,\n",
      "            \"huf\": 249.72681487296808,\n",
      "            \"idr\": 11778.31719880563,\n",
      "            \"ils\": 2.6962432347078535,\n",
      "            \"inr\": 59.18648699143636,\n",
      "            \"jpy\": 89.54719376032776,\n",
      "            \"krw\": 912.169130801666,\n",
      "            \"kwd\": 0.244475395254524,\n",
      "            \"lkr\": 161.26482963309425,\n",
      "            \"ltc\": 0.004113808271350747,\n",
      "            \"mmk\": 1139.7676782287433,\n",
      "            \"mxn\": 16.523270309625573,\n",
      "            \"myr\": 3.3525166644824584,\n",
      "            \"ngn\": 319.7337598156291,\n",
      "            \"nok\": 6.913028427125147,\n",
      "            \"nzd\": 1.1580020264733286,\n",
      "            \"php\": 39.23798036127221,\n",
      "            \"pkr\": 123.4123575340773,\n",
      "            \"pln\": 3.1930253230372703,\n",
      "            \"rub\": 61.21736663723334,\n",
      "            \"sar\": 3.03256861202802,\n",
      "            \"sek\": 7.060495500432345,\n",
      "            \"sgd\": 1.0875082183316276,\n",
      "            \"thb\": 25.26050763559839,\n",
      "            \"try\": 6.67646518141328,\n",
      "            \"twd\": 22.953318845932362,\n",
      "            \"uah\": 22.50619992801543,\n",
      "            \"usd\": 0.8085172228343078,\n",
      "            \"vef\": 0.08095682952239928,\n",
      "            \"vnd\": 18667.907016451765,\n",
      "            \"xag\": 0.03305657431798652,\n",
      "            \"xau\": 0.0004733140674194318,\n",
      "            \"xdr\": 0.5701453240949599,\n",
      "            \"xlm\": 1.9849890681526168,\n",
      "            \"xrp\": 1.420662035088644,\n",
      "            \"yfi\": 2.2395013443969813e-05,\n",
      "            \"zar\": 11.957119974118207,\n",
      "            \"bits\": 13.759271991277325,\n",
      "            \"link\": 0.02777258590498844,\n",
      "            \"sats\": 1375.9271991277326\n",
      "        },\n",
      "        \"market_cap\": {\n",
      "            \"aed\": 870832957.218249,\n",
      "            \"ars\": 21809443850.071472,\n",
      "            \"aud\": 312232448.4520784,\n",
      "            \"bch\": 437251.5177359158,\n",
      "            \"bdt\": 20098696393.68671,\n",
      "            \"bhd\": 89385080.86329062,\n",
      "            \"bmd\": 237077468.47932237,\n",
      "            \"bnb\": 782164.7402488712,\n",
      "            \"brl\": 1335528503.184567,\n",
      "            \"btc\": 4030.7575620336993,\n",
      "            \"cad\": 297854648.2986814,\n",
      "            \"chf\": 223777422.49763244,\n",
      "            \"clp\": 170814328130.30267,\n",
      "            \"cny\": 1553497527.7044551,\n",
      "            \"czk\": 5278316465.970464,\n",
      "            \"dkk\": 1503683047.1050475,\n",
      "            \"dot\": 6387598.757136088,\n",
      "            \"eos\": 49523541.13060196,\n",
      "            \"eth\": 123555.90294380188,\n",
      "            \"eur\": 202157142.75966075,\n",
      "            \"gbp\": 171993539.3675681,\n",
      "            \"hkd\": 1843181301.0519958,\n",
      "            \"huf\": 73225468571.09973,\n",
      "            \"idr\": 3453697145313.0713,\n",
      "            \"ils\": 790605941.8848455,\n",
      "            \"inr\": 17354958073.650917,\n",
      "            \"jpy\": 26264544181.076572,\n",
      "            \"krw\": 267470799938.37173,\n",
      "            \"kwd\": 71686299.5314353,\n",
      "            \"lkr\": 47286880828.75667,\n",
      "            \"ltc\": 1202671.6073281083,\n",
      "            \"mmk\": 334208385644.2487,\n",
      "            \"mxn\": 4845768624.729942,\n",
      "            \"myr\": 983041723.0495107,\n",
      "            \"ngn\": 93753934021.0187,\n",
      "            \"nok\": 2027044835.1113875,\n",
      "            \"nzd\": 339550410.99001384,\n",
      "            \"php\": 11505456789.809902,\n",
      "            \"pkr\": 36187589425.34002,\n",
      "            \"pln\": 936432292.7464749,\n",
      "            \"rub\": 17948281659.682983,\n",
      "            \"sar\": 889224953.0679342,\n",
      "            \"sek\": 2070227073.5300844,\n",
      "            \"sgd\": 318879863.59077,\n",
      "            \"thb\": 7408956805.405793,\n",
      "            \"try\": 1958117643.158114,\n",
      "            \"twd\": 6730747868.862188,\n",
      "            \"uah\": 6599380635.72564,\n",
      "            \"usd\": 237077468.47932237,\n",
      "            \"vef\": 23738566.918834534,\n",
      "            \"vnd\": 5473897169132.731,\n",
      "            \"xag\": 9694225.707952486,\n",
      "            \"xau\": 138756.7007515779,\n",
      "            \"xdr\": 167180866.75743768,\n",
      "            \"xlm\": 581973771.226223,\n",
      "            \"xrp\": 412896409.5526674,\n",
      "            \"yfi\": 6556.7620229241475,\n",
      "            \"zar\": 3505023231.8515024,\n",
      "            \"bits\": 4030757562.0336995,\n",
      "            \"link\": 8167042.416484543,\n",
      "            \"sats\": 403075756203.36993\n",
      "        },\n",
      "        \"total_volume\": {\n",
      "            \"aed\": 21221845.019074216,\n",
      "            \"ars\": 531441635.10822785,\n",
      "            \"aud\": 7607100.109321487,\n",
      "            \"bch\": 10695.858293566043,\n",
      "            \"bdt\": 489797057.42274606,\n",
      "            \"bhd\": 2178278.069720277,\n",
      "            \"bmd\": 5777481.492724119,\n",
      "            \"bnb\": 19104.162762659398,\n",
      "            \"brl\": 32543397.75221642,\n",
      "            \"btc\": 98.32065049188573,\n",
      "            \"cad\": 7259261.058570536,\n",
      "            \"chf\": 5453445.66572319,\n",
      "            \"clp\": 4162675415.507722,\n",
      "            \"cny\": 37858102.977373324,\n",
      "            \"czk\": 128633892.19105443,\n",
      "            \"dkk\": 36644144.34360362,\n",
      "            \"dot\": 156632.32174804248,\n",
      "            \"eos\": 1205193.9814536236,\n",
      "            \"eth\": 3018.9204771055006,\n",
      "            \"eur\": 4926250.479512114,\n",
      "            \"gbp\": 4191141.0668223817,\n",
      "            \"hkd\": 44918202.69392667,\n",
      "            \"huf\": 1784491425.065402,\n",
      "            \"idr\": 84165194889.70642,\n",
      "            \"ils\": 19266745.28193642,\n",
      "            \"inr\": 422933270.38063246,\n",
      "            \"jpy\": 639884024.8103138,\n",
      "            \"krw\": 6518154620.091351,\n",
      "            \"kwd\": 1746965.9663624566,\n",
      "            \"lkr\": 1152362055.2773895,\n",
      "            \"ltc\": 29396.344915233894,\n",
      "            \"mmk\": 8144522443.056462,\n",
      "            \"mxn\": 118071558.30087145,\n",
      "            \"myr\": 23956327.009580564,\n",
      "            \"ngn\": 2284745244.4590163,\n",
      "            \"nok\": 49398940.020571806,\n",
      "            \"nzd\": 8274820.977880088,\n",
      "            \"php\": 280385746.8297621,\n",
      "            \"pkr\": 881876837.6103023,\n",
      "            \"pln\": 22816637.900399823,\n",
      "            \"rub\": 437445477.7105024,\n",
      "            \"sar\": 21670050.478316788,\n",
      "            \"sek\": 50452706.424992755,\n",
      "            \"sgd\": 7771088.144010962,\n",
      "            \"thb\": 180505883.16458708,\n",
      "            \"try\": 47708512.488097146,\n",
      "            \"twd\": 164019233.08954254,\n",
      "            \"uah\": 160824222.2717689,\n",
      "            \"usd\": 5777481.492724119,\n",
      "            \"vef\": 578499.2218664662,\n",
      "            \"vnd\": 133396647899.9144,\n",
      "            \"xag\": 236214.81514706762,\n",
      "            \"xau\": 3382.1954406556233,\n",
      "            \"xdr\": 4074129.7341502355,\n",
      "            \"xlm\": 14184283.625163618,\n",
      "            \"xrp\": 10151730.084817855,\n",
      "            \"yfi\": 160.02970876522573,\n",
      "            \"zar\": 85442879.14434081,\n",
      "            \"bits\": 98320650.49188574,\n",
      "            \"link\": 198456.6271930167,\n",
      "            \"sats\": 9832065049.188574\n",
      "        }\n",
      "    },\n",
      "    \"community_data\": {\n",
      "        \"facebook_likes\": null,\n",
      "        \"twitter_followers\": 18466,\n",
      "        \"reddit_average_posts_48h\": 0.0,\n",
      "        \"reddit_average_comments_48h\": 0.0,\n",
      "        \"reddit_subscribers\": null,\n",
      "        \"reddit_accounts_active_48h\": null\n",
      "    },\n",
      "    \"developer_data\": {\n",
      "        \"forks\": null,\n",
      "        \"stars\": null,\n",
      "        \"subscribers\": null,\n",
      "        \"total_issues\": null,\n",
      "        \"closed_issues\": null,\n",
      "        \"pull_requests_merged\": null,\n",
      "        \"pull_request_contributors\": null,\n",
      "        \"code_additions_deletions_4_weeks\": {\n",
      "            \"additions\": null,\n",
      "            \"deletions\": null\n",
      "        },\n",
      "        \"commit_count_4_weeks\": null\n",
      "    },\n",
      "    \"public_interest_stats\": {\n",
      "        \"alexa_rank\": 62143,\n",
      "        \"bing_matches\": null\n",
      "    }\n",
      "}\n"
     ]
    }
   ],
   "source": [
    "# import comparison urls\n",
    "\n",
    "\n",
    "url_apr = \"https://api.coingecko.com/api/v3/coins/chain-games/history?date=01-04-2021&localization=false\"\n",
    "\n",
    "requests.get(url_apr)\n",
    "\n",
    "# Execute GET request and store response\n",
    "\n",
    "response_data_apr = requests.get(url_apr)\n",
    "\n",
    "# Get content\n",
    "\n",
    "response_content_apr = response_data_apr.content\n",
    "\n",
    "# print(response_content_jan)# Format data as a raw json file\n",
    "\n",
    "data_apr = response_data_apr.json()\n",
    "\n",
    "# Format data as a raw json file\n",
    "\n",
    "data_apr = response_data_apr.json()\n",
    "\n",
    "# Add intdents to JSON and output to screen\n",
    "\n",
    "import json\n",
    "print(json.dumps(data_apr, indent=4))"
   ]
  },
  {
   "cell_type": "code",
   "execution_count": 68,
   "metadata": {},
   "outputs": [],
   "source": [
    "import json\n",
    "# print(json.dumps(data_apr, indent=4))"
   ]
  },
  {
   "cell_type": "code",
   "execution_count": 69,
   "metadata": {},
   "outputs": [
    {
     "data": {
      "text/plain": [
       "18466"
      ]
     },
     "execution_count": 69,
     "metadata": {},
     "output_type": "execute_result"
    }
   ],
   "source": [
    "apr_twitter_fol = data_apr[\"community_data\"][\"twitter_followers\"]\n",
    "\n",
    "apr_twitter_fol"
   ]
  },
  {
   "cell_type": "markdown",
   "metadata": {},
   "source": [
    "## Community Data Visualisation"
   ]
  },
  {
   "cell_type": "code",
   "execution_count": 70,
   "metadata": {},
   "outputs": [
    {
     "data": {
      "text/html": [
       "<div>\n",
       "<style scoped>\n",
       "    .dataframe tbody tr th:only-of-type {\n",
       "        vertical-align: middle;\n",
       "    }\n",
       "\n",
       "    .dataframe tbody tr th {\n",
       "        vertical-align: top;\n",
       "    }\n",
       "\n",
       "    .dataframe thead th {\n",
       "        text-align: right;\n",
       "    }\n",
       "</style>\n",
       "<table border=\"1\" class=\"dataframe\">\n",
       "  <thead>\n",
       "    <tr style=\"text-align: right;\">\n",
       "      <th></th>\n",
       "      <th>twitter_followers</th>\n",
       "    </tr>\n",
       "  </thead>\n",
       "  <tbody>\n",
       "    <tr>\n",
       "      <th>Dec</th>\n",
       "      <td>2884</td>\n",
       "    </tr>\n",
       "    <tr>\n",
       "      <th>Jan</th>\n",
       "      <td>2974</td>\n",
       "    </tr>\n",
       "    <tr>\n",
       "      <th>Mar</th>\n",
       "      <td>18466</td>\n",
       "    </tr>\n",
       "  </tbody>\n",
       "</table>\n",
       "</div>"
      ],
      "text/plain": [
       "     twitter_followers\n",
       "Dec               2884\n",
       "Jan               2974\n",
       "Mar              18466"
      ]
     },
     "execution_count": 70,
     "metadata": {},
     "output_type": "execute_result"
    }
   ],
   "source": [
    " # Set current amount of social data\n",
    "twtr_fol_data = {\n",
    "    \"twitter_followers\": [2884, 2974, 18466]\n",
    "}\n",
    "\n",
    "# Set the tickers\n",
    "years = [\"Dec\", \"Jan\", \"Mar\"]\n",
    "\n",
    "# Create the shares DataFrame\n",
    "df_social_cg = pd.DataFrame(twtr_fol_data, index=years)\n",
    "\n",
    "# Display shares data\n",
    "df_social_cg"
   ]
  },
  {
   "cell_type": "code",
   "execution_count": 71,
   "metadata": {},
   "outputs": [
    {
     "name": "stderr",
     "output_type": "stream",
     "text": [
      "C:\\Users\\alish\\anaconda3\\ANACONDA\\envs\\pyvizenv\\lib\\site-packages\\pandas\\plotting\\_core.py:396: UserWarning: FixedFormatter should only be used together with FixedLocator\n",
      "  ax.set_xticklabels(xticklabels)\n"
     ]
    },
    {
     "data": {
      "text/plain": [
       "<AxesSubplot:>"
      ]
     },
     "execution_count": 71,
     "metadata": {},
     "output_type": "execute_result"
    },
    {
     "data": {
      "image/png": "[encoded data removed]",
      "text/plain": [
       "<Figure size 432x288 with 1 Axes>"
      ]
     },
     "metadata": {
      "needs_background": "light"
     },
     "output_type": "display_data"
    }
   ],
   "source": [
    "df_social_cg.plot()"
   ]
  },
  {
   "cell_type": "markdown",
   "metadata": {},
   "source": [
    "## Market Data Visualisation"
   ]
  },
  {
   "cell_type": "code",
   "execution_count": 72,
   "metadata": {},
   "outputs": [
    {
     "data": {
      "text/plain": [
       "0.012611353500840458"
      ]
     },
     "execution_count": 72,
     "metadata": {},
     "output_type": "execute_result"
    }
   ],
   "source": [
    "market_price_dec = data_dec[\"market_data\"][\"current_price\"][\"usd\"]\n",
    "\n",
    "market_price_dec"
   ]
  },
  {
   "cell_type": "code",
   "execution_count": 73,
   "metadata": {},
   "outputs": [
    {
     "data": {
      "text/plain": [
       "{'aed': 0.04632402367928704,\n",
       " 'ars': 1.0252659622390363,\n",
       " 'aud': 0.017136824202435518,\n",
       " 'bch': 3.9647914510009246e-05,\n",
       " 'bdt': 1.0697063667707907,\n",
       " 'bhd': 0.004755577457571417,\n",
       " 'bmd': 0.012611353500840458,\n",
       " 'bnb': 0.0004027727923481643,\n",
       " 'brl': 0.0672513036785816,\n",
       " 'btc': 6.402920698126965e-07,\n",
       " 'cad': 0.016383194939932257,\n",
       " 'chf': 0.011455787790911923,\n",
       " 'clp': 9.608605870368649,\n",
       " 'cny': 0.08296883354667886,\n",
       " 'czk': 0.2776067883695748,\n",
       " 'dkk': 0.07862926680704012,\n",
       " 'dot': 0.002349031179764825,\n",
       " 'eos': 0.0038740139380243625,\n",
       " 'eth': 2.0537992471092265e-05,\n",
       " 'eur': 0.010563875037271986,\n",
       " 'gbp': 0.00945492088988255,\n",
       " 'hkd': 0.09775501495873937,\n",
       " 'huf': 3.7939995871928316,\n",
       " 'idr': 177.91597478819344,\n",
       " 'ils': 0.04168260419360526,\n",
       " 'inr': 0.9332470322498528,\n",
       " 'jpy': 1.3153893928446578,\n",
       " 'krw': 13.998728499467907,\n",
       " 'kwd': 0.0038522262063062154,\n",
       " 'lkr': 2.3436294401343796,\n",
       " 'ltc': 0.00014353952464452111,\n",
       " 'mmk': 16.587060672557143,\n",
       " 'mxn': 0.2542839817727954,\n",
       " 'myr': 0.0513786541624239,\n",
       " 'ngn': 4.833663528160467,\n",
       " 'nok': 0.11200647498236403,\n",
       " 'nzd': 0.017965718022631735,\n",
       " 'php': 0.6065240034791338,\n",
       " 'pkr': 2.01098029851956,\n",
       " 'pln': 0.047320963784881986,\n",
       " 'rub': 0.9641127524322465,\n",
       " 'sar': 0.04730084867604817,\n",
       " 'sek': 0.10811028559775379,\n",
       " 'sgd': 0.01689462315845184,\n",
       " 'thb': 0.3816026703330938,\n",
       " 'try': 0.09872545861062941,\n",
       " 'twd': 0.3598145267324785,\n",
       " 'uah': 0.3594280644157985,\n",
       " 'usd': 0.012611353500840458,\n",
       " 'vef': 3133.7654968916163,\n",
       " 'vnd': 293.07553496256725,\n",
       " 'xag': 0.0005563382572443546,\n",
       " 'xau': 7.088463462217364e-06,\n",
       " 'xdr': 0.00883437924087371,\n",
       " 'xlm': 0.06258750050150114,\n",
       " 'xrp': 0.01891097029632373,\n",
       " 'yfi': 4.777531216570119e-07,\n",
       " 'zar': 0.19476092813088278,\n",
       " 'bits': 0.6402920698126965,\n",
       " 'link': 0.0008841884141200276,\n",
       " 'sats': 64.02920698126965}"
      ]
     },
     "execution_count": 73,
     "metadata": {},
     "output_type": "execute_result"
    }
   ],
   "source": [
    "market_prices = data_dec[\"market_data\"][\"current_price\"]\n",
    "\n",
    "market_prices"
   ]
  },
  {
   "cell_type": "code",
   "execution_count": 74,
   "metadata": {},
   "outputs": [
    {
     "data": {
      "text/plain": [
       "0.010610760251921427"
      ]
     },
     "execution_count": 74,
     "metadata": {},
     "output_type": "execute_result"
    }
   ],
   "source": [
    "market_price_jan = data_jan[\"market_data\"][\"current_price\"][\"usd\"]\n",
    "\n",
    "market_price_jan"
   ]
  },
  {
   "cell_type": "code",
   "execution_count": 75,
   "metadata": {},
   "outputs": [
    {
     "data": {
      "text/plain": [
       "0.015237939817265669"
      ]
     },
     "execution_count": 75,
     "metadata": {},
     "output_type": "execute_result"
    }
   ],
   "source": [
    "market_price_feb = data_feb[\"market_data\"][\"current_price\"][\"usd\"]\n",
    "\n",
    "market_price_feb"
   ]
  },
  {
   "cell_type": "code",
   "execution_count": 76,
   "metadata": {},
   "outputs": [
    {
     "data": {
      "text/plain": [
       "0.10499402207372088"
      ]
     },
     "execution_count": 76,
     "metadata": {},
     "output_type": "execute_result"
    }
   ],
   "source": [
    "market_price_mar = data_mar[\"market_data\"][\"current_price\"][\"usd\"]\n",
    "\n",
    "market_price_mar"
   ]
  },
  {
   "cell_type": "code",
   "execution_count": 77,
   "metadata": {},
   "outputs": [
    {
     "data": {
      "text/plain": [
       "0.8085172228343078"
      ]
     },
     "execution_count": 77,
     "metadata": {},
     "output_type": "execute_result"
    }
   ],
   "source": [
    "market_price_apr = data_apr[\"market_data\"][\"current_price\"][\"usd\"]\n",
    "\n",
    "market_price_apr"
   ]
  },
  {
   "cell_type": "code",
   "execution_count": 78,
   "metadata": {},
   "outputs": [
    {
     "data": {
      "text/html": [
       "<div>\n",
       "<style scoped>\n",
       "    .dataframe tbody tr th:only-of-type {\n",
       "        vertical-align: middle;\n",
       "    }\n",
       "\n",
       "    .dataframe tbody tr th {\n",
       "        vertical-align: top;\n",
       "    }\n",
       "\n",
       "    .dataframe thead th {\n",
       "        text-align: right;\n",
       "    }\n",
       "</style>\n",
       "<table border=\"1\" class=\"dataframe\">\n",
       "  <thead>\n",
       "    <tr style=\"text-align: right;\">\n",
       "      <th></th>\n",
       "      <th>market_data</th>\n",
       "    </tr>\n",
       "  </thead>\n",
       "  <tbody>\n",
       "    <tr>\n",
       "      <th>Dec</th>\n",
       "      <td>0.012611</td>\n",
       "    </tr>\n",
       "    <tr>\n",
       "      <th>Jan</th>\n",
       "      <td>0.010611</td>\n",
       "    </tr>\n",
       "    <tr>\n",
       "      <th>Feb</th>\n",
       "      <td>0.015238</td>\n",
       "    </tr>\n",
       "    <tr>\n",
       "      <th>Mar</th>\n",
       "      <td>0.104994</td>\n",
       "    </tr>\n",
       "    <tr>\n",
       "      <th>Apr</th>\n",
       "      <td>0.808517</td>\n",
       "    </tr>\n",
       "  </tbody>\n",
       "</table>\n",
       "</div>"
      ],
      "text/plain": [
       "     market_data\n",
       "Dec     0.012611\n",
       "Jan     0.010611\n",
       "Feb     0.015238\n",
       "Mar     0.104994\n",
       "Apr     0.808517"
      ]
     },
     "execution_count": 78,
     "metadata": {},
     "output_type": "execute_result"
    }
   ],
   "source": [
    " # Set current amount of market price data\n",
    "    \n",
    "market_data = {\n",
    "    \"market_data\": [market_price_dec, market_price_jan, market_price_feb, market_price_mar, market_price_apr]\n",
    "}\n",
    "\n",
    "# Set the tickers\n",
    "years = [\"Dec\", \"Jan\", \"Feb\", \"Mar\", \"Apr\"]\n",
    "\n",
    "# Create the shares DataFrame\n",
    "df_price_cg = pd.DataFrame(market_data, index=years)\n",
    "\n",
    "# Display shares data\n",
    "df_price_cg"
   ]
  },
  {
   "cell_type": "code",
   "execution_count": 79,
   "metadata": {},
   "outputs": [
    {
     "name": "stderr",
     "output_type": "stream",
     "text": [
      "C:\\Users\\alish\\anaconda3\\ANACONDA\\envs\\pyvizenv\\lib\\site-packages\\pandas\\plotting\\_core.py:396: UserWarning: FixedFormatter should only be used together with FixedLocator\n",
      "  ax.set_xticklabels(xticklabels)\n"
     ]
    },
    {
     "data": {
      "text/plain": [
       "<AxesSubplot:>"
      ]
     },
     "execution_count": 79,
     "metadata": {},
     "output_type": "execute_result"
    },
    {
     "data": {
      "image/png": "[encoded data removed]",
      "text/plain": [
       "<Figure size 432x288 with 1 Axes>"
      ]
     },
     "metadata": {
      "needs_background": "light"
     },
     "output_type": "display_data"
    }
   ],
   "source": [
    "df_price_cg.plot()"
   ]
  },
  {
   "cell_type": "code",
   "execution_count": null,
   "metadata": {},
   "outputs": [],
   "source": [
    "df_price_cg.plot()"
   ]
  },
  {
   "cell_type": "code",
   "execution_count": 80,
   "metadata": {},
   "outputs": [
    {
     "data": {
      "text/html": [
       "<div>\n",
       "<style scoped>\n",
       "    .dataframe tbody tr th:only-of-type {\n",
       "        vertical-align: middle;\n",
       "    }\n",
       "\n",
       "    .dataframe tbody tr th {\n",
       "        vertical-align: top;\n",
       "    }\n",
       "\n",
       "    .dataframe thead th {\n",
       "        text-align: right;\n",
       "    }\n",
       "</style>\n",
       "<table border=\"1\" class=\"dataframe\">\n",
       "  <thead>\n",
       "    <tr style=\"text-align: right;\">\n",
       "      <th></th>\n",
       "      <th>twitter_followers</th>\n",
       "      <th>market_data</th>\n",
       "    </tr>\n",
       "  </thead>\n",
       "  <tbody>\n",
       "    <tr>\n",
       "      <th>Dec</th>\n",
       "      <td>2884</td>\n",
       "      <td>0.012611</td>\n",
       "    </tr>\n",
       "    <tr>\n",
       "      <th>Jan</th>\n",
       "      <td>2974</td>\n",
       "      <td>0.010611</td>\n",
       "    </tr>\n",
       "    <tr>\n",
       "      <th>Mar</th>\n",
       "      <td>18466</td>\n",
       "      <td>0.104994</td>\n",
       "    </tr>\n",
       "  </tbody>\n",
       "</table>\n",
       "</div>"
      ],
      "text/plain": [
       "     twitter_followers  market_data\n",
       "Dec               2884     0.012611\n",
       "Jan               2974     0.010611\n",
       "Mar              18466     0.104994"
      ]
     },
     "execution_count": 80,
     "metadata": {},
     "output_type": "execute_result"
    }
   ],
   "source": [
    "combined_df = pd.concat(\n",
    "[df_social_cg, df_price_cg], axis=\"columns\", join=\"inner\"\n",
    ")\n",
    "\n",
    "combined_df"
   ]
  },
  {
   "cell_type": "code",
   "execution_count": 82,
   "metadata": {},
   "outputs": [
    {
     "name": "stderr",
     "output_type": "stream",
     "text": [
      "C:\\Users\\alish\\anaconda3\\ANACONDA\\envs\\pyvizenv\\lib\\site-packages\\pandas\\plotting\\_core.py:396: UserWarning: FixedFormatter should only be used together with FixedLocator\n",
      "  ax.set_xticklabels(xticklabels)\n"
     ]
    },
    {
     "data": {
      "text/plain": [
       "<AxesSubplot:>"
      ]
     },
     "execution_count": 82,
     "metadata": {},
     "output_type": "execute_result"
    },
    {
     "data": {
      "image/png": "[encoded data removed]",
      "text/plain": [
       "<Figure size 432x288 with 1 Axes>"
      ]
     },
     "metadata": {
      "needs_background": "light"
     },
     "output_type": "display_data"
    }
   ],
   "source": [
    "combined_df.plot(ylim=(0.0001,2000))"
   ]
  },
  {
   "cell_type": "markdown",
   "metadata": {},
   "source": [
    "## SOCIAL LINE CHART PLOT"
   ]
  },
  {
   "cell_type": "markdown",
   "metadata": {},
   "source": [
    "## Market Cap Chart Visualisation "
   ]
  },
  {
   "cell_type": "code",
   "execution_count": 83,
   "metadata": {},
   "outputs": [],
   "source": [
    "market_cap_dec = data_dec[\"market_data\"][\"market_cap\"][\"usd\"]\n",
    "\n",
    "market_cap_jan = data_jan[\"market_data\"][\"market_cap\"][\"usd\"]\n",
    "\n",
    "market_cap_feb = data_feb[\"market_data\"][\"market_cap\"][\"usd\"]\n",
    "\n",
    "market_cap_mar = data_mar[\"market_data\"][\"market_cap\"][\"usd\"]\n",
    "\n",
    "market_cap_apr = data_apr[\"market_data\"][\"market_cap\"][\"usd\"]"
   ]
  },
  {
   "cell_type": "code",
   "execution_count": 84,
   "metadata": {},
   "outputs": [
    {
     "data": {
      "text/html": [
       "<div>\n",
       "<style scoped>\n",
       "    .dataframe tbody tr th:only-of-type {\n",
       "        vertical-align: middle;\n",
       "    }\n",
       "\n",
       "    .dataframe tbody tr th {\n",
       "        vertical-align: top;\n",
       "    }\n",
       "\n",
       "    .dataframe thead th {\n",
       "        text-align: right;\n",
       "    }\n",
       "</style>\n",
       "<table border=\"1\" class=\"dataframe\">\n",
       "  <thead>\n",
       "    <tr style=\"text-align: right;\">\n",
       "      <th></th>\n",
       "      <th>market_cap</th>\n",
       "    </tr>\n",
       "  </thead>\n",
       "  <tbody>\n",
       "    <tr>\n",
       "      <th>Dec</th>\n",
       "      <td>3.674625e+06</td>\n",
       "    </tr>\n",
       "    <tr>\n",
       "      <th>Jan</th>\n",
       "      <td>3.109322e+06</td>\n",
       "    </tr>\n",
       "    <tr>\n",
       "      <th>Feb</th>\n",
       "      <td>4.443692e+06</td>\n",
       "    </tr>\n",
       "    <tr>\n",
       "      <th>Mar</th>\n",
       "      <td>3.097169e+07</td>\n",
       "    </tr>\n",
       "    <tr>\n",
       "      <th>Apr</th>\n",
       "      <td>2.370775e+08</td>\n",
       "    </tr>\n",
       "  </tbody>\n",
       "</table>\n",
       "</div>"
      ],
      "text/plain": [
       "       market_cap\n",
       "Dec  3.674625e+06\n",
       "Jan  3.109322e+06\n",
       "Feb  4.443692e+06\n",
       "Mar  3.097169e+07\n",
       "Apr  2.370775e+08"
      ]
     },
     "execution_count": 84,
     "metadata": {},
     "output_type": "execute_result"
    }
   ],
   "source": [
    " # Set current amount of market cap data\n",
    "    \n",
    "market_cap_data = {\n",
    "    \"market_cap\": [market_cap_dec, market_cap_jan, market_cap_feb, market_cap_mar, market_cap_apr]\n",
    "}\n",
    "\n",
    "# Set the tickers\n",
    "years = [\"Dec\", \"Jan\", \"Feb\", \"Mar\", \"Apr\"]\n",
    "\n",
    "# Create the shares DataFrame\n",
    "df_market_cap = pd.DataFrame(market_cap_data, index=years)\n",
    "\n",
    "# Display shares data\n",
    "df_market_cap"
   ]
  },
  {
   "cell_type": "code",
   "execution_count": 85,
   "metadata": {},
   "outputs": [
    {
     "name": "stderr",
     "output_type": "stream",
     "text": [
      "C:\\Users\\alish\\anaconda3\\ANACONDA\\envs\\pyvizenv\\lib\\site-packages\\pandas\\plotting\\_core.py:396: UserWarning: FixedFormatter should only be used together with FixedLocator\n",
      "  ax.set_xticklabels(xticklabels)\n"
     ]
    },
    {
     "data": {
      "text/plain": [
       "<AxesSubplot:>"
      ]
     },
     "execution_count": 85,
     "metadata": {},
     "output_type": "execute_result"
    },
    {
     "data": {
      "image/png": "[encoded data removed]",
      "text/plain": [
       "<Figure size 432x288 with 1 Axes>"
      ]
     },
     "metadata": {
      "needs_background": "light"
     },
     "output_type": "display_data"
    }
   ],
   "source": [
    "df_market_cap.plot()"
   ]
  },
  {
   "cell_type": "markdown",
   "metadata": {},
   "source": [
    "## Total Volume Data Visualisation "
   ]
  },
  {
   "cell_type": "code",
   "execution_count": 86,
   "metadata": {},
   "outputs": [],
   "source": [
    "total_volume_dec = data_dec[\"market_data\"][\"total_volume\"][\"usd\"]\n",
    "\n",
    "total_volume_jan = data_jan[\"market_data\"][\"total_volume\"][\"usd\"]\n",
    "\n",
    "total_volume_feb = data_feb[\"market_data\"][\"total_volume\"][\"usd\"]\n",
    "\n",
    "total_volume_mar = data_mar[\"market_data\"][\"total_volume\"][\"usd\"]\n",
    "\n",
    "total_volume_apr = data_apr[\"market_data\"][\"total_volume\"][\"usd\"]"
   ]
  },
  {
   "cell_type": "code",
   "execution_count": 87,
   "metadata": {},
   "outputs": [
    {
     "data": {
      "text/html": [
       "<div>\n",
       "<style scoped>\n",
       "    .dataframe tbody tr th:only-of-type {\n",
       "        vertical-align: middle;\n",
       "    }\n",
       "\n",
       "    .dataframe tbody tr th {\n",
       "        vertical-align: top;\n",
       "    }\n",
       "\n",
       "    .dataframe thead th {\n",
       "        text-align: right;\n",
       "    }\n",
       "</style>\n",
       "<table border=\"1\" class=\"dataframe\">\n",
       "  <thead>\n",
       "    <tr style=\"text-align: right;\">\n",
       "      <th></th>\n",
       "      <th>total_volume</th>\n",
       "    </tr>\n",
       "  </thead>\n",
       "  <tbody>\n",
       "    <tr>\n",
       "      <th>Dec</th>\n",
       "      <td>3.971151e+04</td>\n",
       "    </tr>\n",
       "    <tr>\n",
       "      <th>Jan</th>\n",
       "      <td>4.211279e+04</td>\n",
       "    </tr>\n",
       "    <tr>\n",
       "      <th>Feb</th>\n",
       "      <td>2.568159e+04</td>\n",
       "    </tr>\n",
       "    <tr>\n",
       "      <th>Mar</th>\n",
       "      <td>3.719740e+05</td>\n",
       "    </tr>\n",
       "    <tr>\n",
       "      <th>Apr</th>\n",
       "      <td>5.777481e+06</td>\n",
       "    </tr>\n",
       "  </tbody>\n",
       "</table>\n",
       "</div>"
      ],
      "text/plain": [
       "     total_volume\n",
       "Dec  3.971151e+04\n",
       "Jan  4.211279e+04\n",
       "Feb  2.568159e+04\n",
       "Mar  3.719740e+05\n",
       "Apr  5.777481e+06"
      ]
     },
     "execution_count": 87,
     "metadata": {},
     "output_type": "execute_result"
    }
   ],
   "source": [
    " # Set current amount of total volume data\n",
    "    \n",
    "total_volume_data = {\n",
    "    \"total_volume\": [total_volume_dec, total_volume_jan, total_volume_feb, total_volume_mar, total_volume_apr]\n",
    "}\n",
    "\n",
    "# Set the tickers\n",
    "years = [\"Dec\", \"Jan\", \"Feb\", \"Mar\", \"Apr\"]\n",
    "\n",
    "# Create the shares DataFrame\n",
    "df_total_volume = pd.DataFrame(total_volume_data, index=years)\n",
    "\n",
    "# Display shares data\n",
    "df_total_volume"
   ]
  },
  {
   "cell_type": "code",
   "execution_count": 88,
   "metadata": {},
   "outputs": [
    {
     "name": "stderr",
     "output_type": "stream",
     "text": [
      "C:\\Users\\alish\\anaconda3\\ANACONDA\\envs\\pyvizenv\\lib\\site-packages\\pandas\\plotting\\_core.py:396: UserWarning: FixedFormatter should only be used together with FixedLocator\n",
      "  ax.set_xticklabels(xticklabels)\n"
     ]
    },
    {
     "data": {
      "text/plain": [
       "<AxesSubplot:>"
      ]
     },
     "execution_count": 88,
     "metadata": {},
     "output_type": "execute_result"
    },
    {
     "data": {
      "image/png": "[encoded data removed]",
      "text/plain": [
       "<Figure size 432x288 with 1 Axes>"
      ]
     },
     "metadata": {
      "needs_background": "light"
     },
     "output_type": "display_data"
    }
   ],
   "source": [
    "df_total_volume.plot()"
   ]
  },
  {
   "cell_type": "code",
   "execution_count": 89,
   "metadata": {},
   "outputs": [
    {
     "data": {
      "text/plain": [
       "<AxesSubplot:title={'center':'Monthly Volume Composition'}, ylabel='total_volume'>"
      ]
     },
     "execution_count": 89,
     "metadata": {},
     "output_type": "execute_result"
    },
    {
     "data": {
      "image/png": "[encoded data removed]",
      "text/plain": [
       "<Figure size 432x288 with 1 Axes>"
      ]
     },
     "metadata": {},
     "output_type": "display_data"
    }
   ],
   "source": [
    "df_total_volume.plot.pie(y=\"total_volume\", title=\"Monthly Volume Composition\")"
   ]
  },
  {
   "cell_type": "code",
   "execution_count": 90,
   "metadata": {},
   "outputs": [
    {
     "data": {
      "text/plain": [
       "<AxesSubplot:title={'center':'Monthly Total Volume'}>"
      ]
     },
     "execution_count": 90,
     "metadata": {},
     "output_type": "execute_result"
    },
    {
     "data": {
      "image/png": "[encoded data removed]",
      "text/plain": [
       "<Figure size 432x288 with 1 Axes>"
      ]
     },
     "metadata": {
      "needs_background": "light"
     },
     "output_type": "display_data"
    }
   ],
   "source": [
    "df_total_volume.plot.bar(title=\"Monthly Total Volume\")"
   ]
  },
  {
   "cell_type": "code",
   "execution_count": 91,
   "metadata": {},
   "outputs": [
    {
     "data": {
      "text/plain": [
       "<AxesSubplot:ylabel='Frequency'>"
      ]
     },
     "execution_count": 91,
     "metadata": {},
     "output_type": "execute_result"
    },
    {
     "data": {
      "image/png": "[encoded data removed]",
      "text/plain": [
       "<Figure size 432x288 with 1 Axes>"
      ]
     },
     "metadata": {
      "needs_background": "light"
     },
     "output_type": "display_data"
    }
   ],
   "source": [
    "df_total_volume.plot.hist(alpha=0.5)"
   ]
  },
  {
   "cell_type": "code",
   "execution_count": 92,
   "metadata": {},
   "outputs": [
    {
     "data": {
      "text/plain": [
       "<AxesSubplot:ylabel='Density'>"
      ]
     },
     "execution_count": 92,
     "metadata": {},
     "output_type": "execute_result"
    },
    {
     "data": {
      "image/png": "[encoded data removed]",
      "text/plain": [
       "<Figure size 432x288 with 1 Axes>"
      ]
     },
     "metadata": {
      "needs_background": "light"
     },
     "output_type": "display_data"
    }
   ],
   "source": [
    "df_total_volume.plot.density()"
   ]
  },
  {
   "cell_type": "code",
   "execution_count": 93,
   "metadata": {},
   "outputs": [
    {
     "data": {
      "text/plain": [
       "<AxesSubplot:title={'center':'Total Volume'}>"
      ]
     },
     "execution_count": 93,
     "metadata": {},
     "output_type": "execute_result"
    },
    {
     "data": {
      "image/png": "[encoded data removed]",
      "text/plain": [
       "<Figure size 432x288 with 1 Axes>"
      ]
     },
     "metadata": {
      "needs_background": "light"
     },
     "output_type": "display_data"
    }
   ],
   "source": [
    "# Bar Chart \n",
    "\n",
    "df_total_volume.plot(kind=\"bar\", title=\"Total Volume\")"
   ]
  },
  {
   "cell_type": "code",
   "execution_count": 94,
   "metadata": {},
   "outputs": [
    {
     "data": {},
     "metadata": {},
     "output_type": "display_data"
    },
    {
     "data": {
      "application/vnd.holoviews_exec.v0+json": "",
      "text/html": [
       "<div id='1244'>\n",
       "\n",
       "\n",
       "\n",
       "\n",
       "\n",
       "  <div class=\"bk-root\" id=\"f3de5c9e-1b11-4dc2-b5c0-9553d0cb4b50\" data-root-id=\"1244\"></div>\n",
       "</div>\n",
       "<script type=\"application/javascript\">(function(root) {\n",
       "  function embed_document(root) {\n",
       "    var docs_json = {\"3faa4bdb-3aab-4910-a212-5562c04194fb\":{\"defs\":[{\"extends\":null,\"module\":null,\"name\":\"DataModel\",\"overrides\":[],\"properties\":[]}],\"roots\":{\"references\":[{\"attributes\":{\"end\":6352661.482881135,\"reset_end\":6352661.482881135,\"reset_start\":-549498.399003063,\"start\":-549498.399003063,\"tags\":[[[\"total_volume\",\"total_volume\",null]]]},\"id\":\"1247\",\"type\":\"Range1d\"},{\"attributes\":{},\"id\":\"1259\",\"type\":\"CategoricalTicker\"},{\"attributes\":{\"axis_label\":\"Total Volume\",\"formatter\":{\"id\":\"1291\"},\"major_label_policy\":{\"id\":\"1292\"},\"ticker\":{\"id\":\"1262\"}},\"id\":\"1261\",\"type\":\"LinearAxis\"},{\"attributes\":{\"callback\":null,\"renderers\":[{\"id\":\"1284\"}],\"tags\":[\"hv_created\"],\"tooltips\":[[\"index\",\"@{index}\"],[\"total_volume\",\"@{total_volume}\"]]},\"id\":\"1248\",\"type\":\"HoverTool\"},{\"attributes\":{},\"id\":\"1289\",\"type\":\"CategoricalTickFormatter\"},{\"attributes\":{\"axis\":{\"id\":\"1261\"},\"dimension\":1,\"grid_line_color\":null,\"ticker\":null},\"id\":\"1264\",\"type\":\"Grid\"},{\"attributes\":{\"source\":{\"id\":\"1278\"}},\"id\":\"1285\",\"type\":\"CDSView\"},{\"attributes\":{\"data_source\":{\"id\":\"1278\"},\"glyph\":{\"id\":\"1281\"},\"hover_glyph\":null,\"muted_glyph\":{\"id\":\"1283\"},\"nonselection_glyph\":{\"id\":\"1282\"},\"selection_glyph\":{\"id\":\"1286\"},\"view\":{\"id\":\"1285\"}},\"id\":\"1284\",\"type\":\"GlyphRenderer\"},{\"attributes\":{\"data\":{\"index\":[\"Dec\",\"Jan\",\"Feb\",\"Mar\",\"Apr\"],\"total_volume\":{\"__ndarray__\":\"GuqwSvBj40Cu9ogfGZDkQGBkd9VlFNlAbo0b4Be0FkG+yohfEgpWQQ==\",\"dtype\":\"float64\",\"order\":\"little\",\"shape\":[5]}},\"selected\":{\"id\":\"1279\"},\"selection_policy\":{\"id\":\"1301\"}},\"id\":\"1278\",\"type\":\"ColumnDataSource\"},{\"attributes\":{\"bottom_units\":\"screen\",\"fill_alpha\":0.5,\"fill_color\":\"lightgrey\",\"left_units\":\"screen\",\"level\":\"overlay\",\"line_alpha\":1.0,\"line_color\":\"black\",\"line_dash\":[4,4],\"line_width\":2,\"right_units\":\"screen\",\"syncable\":false,\"top_units\":\"screen\"},\"id\":\"1270\",\"type\":\"BoxAnnotation\"},{\"attributes\":{},\"id\":\"1279\",\"type\":\"Selection\"},{\"attributes\":{\"active_multi\":null,\"tools\":[{\"id\":\"1248\"},{\"id\":\"1265\"},{\"id\":\"1266\"},{\"id\":\"1267\"},{\"id\":\"1268\"},{\"id\":\"1269\"}]},\"id\":\"1271\",\"type\":\"Toolbar\"},{\"attributes\":{},\"id\":\"1287\",\"type\":\"AllLabels\"},{\"attributes\":{\"line_color\":\"#30a2da\",\"line_width\":2,\"x\":{\"field\":\"index\"},\"y\":{\"field\":\"total_volume\"}},\"id\":\"1286\",\"type\":\"Line\"},{\"attributes\":{\"line_alpha\":0.1,\"line_color\":\"#30a2da\",\"line_width\":2,\"x\":{\"field\":\"index\"},\"y\":{\"field\":\"total_volume\"}},\"id\":\"1282\",\"type\":\"Line\"},{\"attributes\":{\"below\":[{\"id\":\"1258\"}],\"center\":[{\"id\":\"1260\"},{\"id\":\"1264\"}],\"height\":300,\"left\":[{\"id\":\"1261\"}],\"margin\":[5,5,5,5],\"min_border_bottom\":10,\"min_border_left\":10,\"min_border_right\":10,\"min_border_top\":10,\"renderers\":[{\"id\":\"1284\"}],\"sizing_mode\":\"fixed\",\"title\":{\"id\":\"1250\"},\"toolbar\":{\"id\":\"1271\"},\"width\":700,\"x_range\":{\"id\":\"1246\"},\"x_scale\":{\"id\":\"1254\"},\"y_range\":{\"id\":\"1247\"},\"y_scale\":{\"id\":\"1256\"}},\"id\":\"1249\",\"subtype\":\"Figure\",\"type\":\"Plot\"},{\"attributes\":{\"line_alpha\":0.2,\"line_color\":\"#30a2da\",\"line_width\":2,\"x\":{\"field\":\"index\"},\"y\":{\"field\":\"total_volume\"}},\"id\":\"1283\",\"type\":\"Line\"},{\"attributes\":{\"text_color\":\"black\",\"text_font_size\":\"12pt\"},\"id\":\"1250\",\"type\":\"Title\"},{\"attributes\":{\"children\":[{\"id\":\"1245\"},{\"id\":\"1249\"},{\"id\":\"1313\"}],\"margin\":[0,0,0,0],\"name\":\"Row01860\",\"tags\":[\"embedded\"]},\"id\":\"1244\",\"type\":\"Row\"},{\"attributes\":{\"margin\":[5,5,5,5],\"name\":\"HSpacer01865\",\"sizing_mode\":\"stretch_width\"},\"id\":\"1313\",\"type\":\"Spacer\"},{\"attributes\":{},\"id\":\"1265\",\"type\":\"SaveTool\"},{\"attributes\":{},\"id\":\"1301\",\"type\":\"UnionRenderers\"},{\"attributes\":{},\"id\":\"1266\",\"type\":\"PanTool\"},{\"attributes\":{},\"id\":\"1291\",\"type\":\"BasicTickFormatter\"},{\"attributes\":{\"margin\":[5,5,5,5],\"name\":\"HSpacer01864\",\"sizing_mode\":\"stretch_width\"},\"id\":\"1245\",\"type\":\"Spacer\"},{\"attributes\":{\"axis\":{\"id\":\"1258\"},\"grid_line_color\":null,\"ticker\":null},\"id\":\"1260\",\"type\":\"Grid\"},{\"attributes\":{},\"id\":\"1269\",\"type\":\"ResetTool\"},{\"attributes\":{},\"id\":\"1267\",\"type\":\"WheelZoomTool\"},{\"attributes\":{\"overlay\":{\"id\":\"1270\"}},\"id\":\"1268\",\"type\":\"BoxZoomTool\"},{\"attributes\":{},\"id\":\"1292\",\"type\":\"AllLabels\"},{\"attributes\":{\"line_color\":\"#30a2da\",\"line_width\":2,\"x\":{\"field\":\"index\"},\"y\":{\"field\":\"total_volume\"}},\"id\":\"1281\",\"type\":\"Line\"},{\"attributes\":{},\"id\":\"1262\",\"type\":\"BasicTicker\"},{\"attributes\":{\"axis_label\":\"Months\",\"formatter\":{\"id\":\"1289\"},\"major_label_policy\":{\"id\":\"1287\"},\"ticker\":{\"id\":\"1259\"}},\"id\":\"1258\",\"type\":\"CategoricalAxis\"},{\"attributes\":{},\"id\":\"1254\",\"type\":\"CategoricalScale\"},{\"attributes\":{\"factors\":[\"Dec\",\"Jan\",\"Feb\",\"Mar\",\"Apr\"],\"tags\":[[[\"index\",\"index\",null]]]},\"id\":\"1246\",\"type\":\"FactorRange\"},{\"attributes\":{},\"id\":\"1256\",\"type\":\"LinearScale\"}],\"root_ids\":[\"1244\"]},\"title\":\"Bokeh Application\",\"version\":\"2.3.0\"}};\n",
       "    var render_items = [{\"docid\":\"3faa4bdb-3aab-4910-a212-5562c04194fb\",\"root_ids\":[\"1244\"],\"roots\":{\"1244\":\"f3de5c9e-1b11-4dc2-b5c0-9553d0cb4b50\"}}];\n",
       "    root.Bokeh.embed.embed_items_notebook(docs_json, render_items);\n",
       "  }\n",
       "  if (root.Bokeh !== undefined && root.Bokeh.Panel !== undefined) {\n",
       "    embed_document(root);\n",
       "  } else {\n",
       "    var attempts = 0;\n",
       "    var timer = setInterval(function(root) {\n",
       "      if (root.Bokeh !== undefined && root.Bokeh.Panel !== undefined) {\n",
       "        clearInterval(timer);\n",
       "        embed_document(root);\n",
       "      } else if (document.readyState == \"complete\") {\n",
       "        attempts++;\n",
       "        if (attempts > 100) {\n",
       "          clearInterval(timer);\n",
       "          console.log(\"Bokeh: ERROR: Unable to run BokehJS code because BokehJS library is missing\");\n",
       "        }\n",
       "      }\n",
       "    }, 10, root)\n",
       "  }\n",
       "})(window);</script>"
      ],
      "text/plain": [
       ":Curve   [index]   (total_volume)"
      ]
     },
     "execution_count": 94,
     "metadata": {
      "application/vnd.holoviews_exec.v0+json": {
       "id": "1244"
      }
     },
     "output_type": "execute_result"
    }
   ],
   "source": [
    " # Use hplot.line to create line plot\n",
    "df_total_volume.hvplot.line(xlabel=\"Months\", ylabel=\"Total Volume\")"
   ]
  },
  {
   "cell_type": "code",
   "execution_count": 95,
   "metadata": {},
   "outputs": [
    {
     "data": {},
     "metadata": {},
     "output_type": "display_data"
    },
    {
     "data": {
      "application/vnd.holoviews_exec.v0+json": "",
      "text/html": [
       "<div id='1365'>\n",
       "\n",
       "\n",
       "\n",
       "\n",
       "\n",
       "  <div class=\"bk-root\" id=\"82093ed2-66ba-4d1f-b6c2-6e4ad50d5082\" data-root-id=\"1365\"></div>\n",
       "</div>\n",
       "<script type=\"application/javascript\">(function(root) {\n",
       "  function embed_document(root) {\n",
       "    var docs_json = {\"7a6ed266-9de6-43c8-8412-4229eb8b2d2b\":{\"defs\":[{\"extends\":null,\"module\":null,\"name\":\"DataModel\",\"overrides\":[],\"properties\":[]}],\"roots\":{\"references\":[{\"attributes\":{\"source\":{\"id\":\"1399\"}},\"id\":\"1406\",\"type\":\"CDSView\"},{\"attributes\":{},\"id\":\"1377\",\"type\":\"LinearScale\"},{\"attributes\":{\"callback\":null,\"renderers\":[{\"id\":\"1405\"}],\"tags\":[\"hv_created\"],\"tooltips\":[[\"Months\",\"@{Months}\"],[\"total_volume\",\"@{total_volume}\"]]},\"id\":\"1369\",\"type\":\"HoverTool\"},{\"attributes\":{},\"id\":\"1380\",\"type\":\"CategoricalTicker\"},{\"attributes\":{\"axis\":{\"id\":\"1382\"},\"dimension\":1,\"grid_line_color\":null,\"ticker\":null},\"id\":\"1385\",\"type\":\"Grid\"},{\"attributes\":{\"data\":{\"Months\":[\"0\",\"1\",\"2\",\"3\",\"4\"],\"total_volume\":{\"__ndarray__\":\"GuqwSvBj40Cu9ogfGZDkQGBkd9VlFNlAbo0b4Be0FkG+yohfEgpWQQ==\",\"dtype\":\"float64\",\"order\":\"little\",\"shape\":[5]}},\"selected\":{\"id\":\"1400\"},\"selection_policy\":{\"id\":\"1422\"}},\"id\":\"1399\",\"type\":\"ColumnDataSource\"},{\"attributes\":{},\"id\":\"1413\",\"type\":\"AllLabels\"},{\"attributes\":{\"children\":[{\"id\":\"1366\"},{\"id\":\"1370\"},{\"id\":\"1434\"}],\"margin\":[0,0,0,0],\"name\":\"Row02039\",\"tags\":[\"embedded\"]},\"id\":\"1365\",\"type\":\"Row\"},{\"attributes\":{\"fill_alpha\":{\"value\":0.2},\"fill_color\":{\"value\":\"#30a2da\"},\"line_alpha\":{\"value\":0.2},\"top\":{\"field\":\"total_volume\"},\"width\":{\"value\":0.8},\"x\":{\"field\":\"Months\"}},\"id\":\"1404\",\"type\":\"VBar\"},{\"attributes\":{\"text_color\":\"black\",\"text_font_size\":\"12pt\"},\"id\":\"1371\",\"type\":\"Title\"},{\"attributes\":{},\"id\":\"1383\",\"type\":\"BasicTicker\"},{\"attributes\":{\"axis_label\":\"Total Volume\",\"formatter\":{\"id\":\"1412\"},\"major_label_policy\":{\"id\":\"1413\"},\"ticker\":{\"id\":\"1383\"}},\"id\":\"1382\",\"type\":\"LinearAxis\"},{\"attributes\":{\"bottom\":{\"value\":0},\"fill_alpha\":{\"value\":1.0},\"fill_color\":{\"value\":\"#30a2da\"},\"hatch_alpha\":{\"value\":1.0},\"hatch_color\":{\"value\":\"black\"},\"hatch_scale\":{\"value\":12.0},\"hatch_weight\":{\"value\":1.0},\"line_alpha\":{\"value\":1.0},\"line_cap\":{\"value\":\"butt\"},\"line_color\":{\"value\":\"black\"},\"line_dash\":{\"value\":[]},\"line_dash_offset\":{\"value\":0},\"line_join\":{\"value\":\"bevel\"},\"line_width\":{\"value\":1},\"top\":{\"field\":\"total_volume\"},\"width\":{\"value\":0.8},\"x\":{\"field\":\"Months\"}},\"id\":\"1407\",\"type\":\"VBar\"},{\"attributes\":{\"margin\":[5,5,5,5],\"name\":\"HSpacer02043\",\"sizing_mode\":\"stretch_width\"},\"id\":\"1366\",\"type\":\"Spacer\"},{\"attributes\":{\"end\":6352661.482881135,\"reset_end\":6352661.482881135,\"reset_start\":0.0,\"tags\":[[[\"total_volume\",\"total_volume\",null]]]},\"id\":\"1368\",\"type\":\"Range1d\"},{\"attributes\":{\"bottom_units\":\"screen\",\"fill_alpha\":0.5,\"fill_color\":\"lightgrey\",\"left_units\":\"screen\",\"level\":\"overlay\",\"line_alpha\":1.0,\"line_color\":\"black\",\"line_dash\":[4,4],\"line_width\":2,\"right_units\":\"screen\",\"syncable\":false,\"top_units\":\"screen\"},\"id\":\"1391\",\"type\":\"BoxAnnotation\"},{\"attributes\":{\"fill_alpha\":{\"value\":0.1},\"fill_color\":{\"value\":\"#30a2da\"},\"line_alpha\":{\"value\":0.1},\"top\":{\"field\":\"total_volume\"},\"width\":{\"value\":0.8},\"x\":{\"field\":\"Months\"}},\"id\":\"1403\",\"type\":\"VBar\"},{\"attributes\":{\"axis\":{\"id\":\"1379\"},\"grid_line_color\":null,\"ticker\":null},\"id\":\"1381\",\"type\":\"Grid\"},{\"attributes\":{},\"id\":\"1408\",\"type\":\"AllLabels\"},{\"attributes\":{\"margin\":[5,5,5,5],\"name\":\"HSpacer02044\",\"sizing_mode\":\"stretch_width\"},\"id\":\"1434\",\"type\":\"Spacer\"},{\"attributes\":{},\"id\":\"1400\",\"type\":\"Selection\"},{\"attributes\":{},\"id\":\"1410\",\"type\":\"CategoricalTickFormatter\"},{\"attributes\":{\"fill_color\":{\"value\":\"#30a2da\"},\"top\":{\"field\":\"total_volume\"},\"width\":{\"value\":0.8},\"x\":{\"field\":\"Months\"}},\"id\":\"1402\",\"type\":\"VBar\"},{\"attributes\":{\"active_multi\":null,\"tools\":[{\"id\":\"1369\"},{\"id\":\"1386\"},{\"id\":\"1387\"},{\"id\":\"1388\"},{\"id\":\"1389\"},{\"id\":\"1390\"}]},\"id\":\"1392\",\"type\":\"Toolbar\"},{\"attributes\":{},\"id\":\"1412\",\"type\":\"BasicTickFormatter\"},{\"attributes\":{\"below\":[{\"id\":\"1379\"}],\"center\":[{\"id\":\"1381\"},{\"id\":\"1385\"}],\"height\":300,\"left\":[{\"id\":\"1382\"}],\"margin\":[5,5,5,5],\"min_border_bottom\":10,\"min_border_left\":10,\"min_border_right\":10,\"min_border_top\":10,\"renderers\":[{\"id\":\"1405\"}],\"sizing_mode\":\"fixed\",\"title\":{\"id\":\"1371\"},\"toolbar\":{\"id\":\"1392\"},\"width\":700,\"x_range\":{\"id\":\"1367\"},\"x_scale\":{\"id\":\"1375\"},\"y_range\":{\"id\":\"1368\"},\"y_scale\":{\"id\":\"1377\"}},\"id\":\"1370\",\"subtype\":\"Figure\",\"type\":\"Plot\"},{\"attributes\":{},\"id\":\"1386\",\"type\":\"SaveTool\"},{\"attributes\":{},\"id\":\"1422\",\"type\":\"UnionRenderers\"},{\"attributes\":{},\"id\":\"1387\",\"type\":\"PanTool\"},{\"attributes\":{},\"id\":\"1390\",\"type\":\"ResetTool\"},{\"attributes\":{},\"id\":\"1388\",\"type\":\"WheelZoomTool\"},{\"attributes\":{\"data_source\":{\"id\":\"1399\"},\"glyph\":{\"id\":\"1402\"},\"hover_glyph\":null,\"muted_glyph\":{\"id\":\"1404\"},\"nonselection_glyph\":{\"id\":\"1403\"},\"selection_glyph\":{\"id\":\"1407\"},\"view\":{\"id\":\"1406\"}},\"id\":\"1405\",\"type\":\"GlyphRenderer\"},{\"attributes\":{\"overlay\":{\"id\":\"1391\"}},\"id\":\"1389\",\"type\":\"BoxZoomTool\"},{\"attributes\":{\"axis_label\":\"Months\",\"formatter\":{\"id\":\"1410\"},\"major_label_orientation\":1.5707963267948966,\"major_label_policy\":{\"id\":\"1408\"},\"ticker\":{\"id\":\"1380\"}},\"id\":\"1379\",\"type\":\"CategoricalAxis\"},{\"attributes\":{},\"id\":\"1375\",\"type\":\"CategoricalScale\"},{\"attributes\":{\"factors\":[\"0\",\"1\",\"2\",\"3\",\"4\"],\"tags\":[[[\"Months\",\"Months\",null]]]},\"id\":\"1367\",\"type\":\"FactorRange\"}],\"root_ids\":[\"1365\"]},\"title\":\"Bokeh Application\",\"version\":\"2.3.0\"}};\n",
       "    var render_items = [{\"docid\":\"7a6ed266-9de6-43c8-8412-4229eb8b2d2b\",\"root_ids\":[\"1365\"],\"roots\":{\"1365\":\"82093ed2-66ba-4d1f-b6c2-6e4ad50d5082\"}}];\n",
       "    root.Bokeh.embed.embed_items_notebook(docs_json, render_items);\n",
       "  }\n",
       "  if (root.Bokeh !== undefined && root.Bokeh.Panel !== undefined) {\n",
       "    embed_document(root);\n",
       "  } else {\n",
       "    var attempts = 0;\n",
       "    var timer = setInterval(function(root) {\n",
       "      if (root.Bokeh !== undefined && root.Bokeh.Panel !== undefined) {\n",
       "        clearInterval(timer);\n",
       "        embed_document(root);\n",
       "      } else if (document.readyState == \"complete\") {\n",
       "        attempts++;\n",
       "        if (attempts > 100) {\n",
       "          clearInterval(timer);\n",
       "          console.log(\"Bokeh: ERROR: Unable to run BokehJS code because BokehJS library is missing\");\n",
       "        }\n",
       "      }\n",
       "    }, 10, root)\n",
       "  }\n",
       "})(window);</script>"
      ],
      "text/plain": [
       ":Bars   [Months]   (total_volume)"
      ]
     },
     "execution_count": 95,
     "metadata": {
      "application/vnd.holoviews_exec.v0+json": {
       "id": "1365"
      }
     },
     "output_type": "execute_result"
    }
   ],
   "source": [
    "# Use hvplot.bar() to create bar plot with categorical data\n",
    "df_total_volume.hvplot.bar(\n",
    "    x=\"Months\", y=\"total_volume\", xlabel=\"Months\", ylabel=\"Total Volume\", rot=90\n",
    ")"
   ]
  },
  {
   "cell_type": "markdown",
   "metadata": {},
   "source": [
    "## Bitcoin Popularity Influencing Chain Games Popularity"
   ]
  },
  {
   "cell_type": "code",
   "execution_count": 100,
   "metadata": {},
   "outputs": [],
   "source": [
    "# combined_df = pd.concat(\n",
    "# [df_social, df_price], axis=\"columns\", join=\"inner\"\n",
    "# )\n",
    "\n",
    "# combined_df"
   ]
  },
  {
   "cell_type": "code",
   "execution_count": 101,
   "metadata": {},
   "outputs": [
    {
     "data": {
      "text/html": [
       "<div>\n",
       "<style scoped>\n",
       "    .dataframe tbody tr th:only-of-type {\n",
       "        vertical-align: middle;\n",
       "    }\n",
       "\n",
       "    .dataframe tbody tr th {\n",
       "        vertical-align: top;\n",
       "    }\n",
       "\n",
       "    .dataframe thead th {\n",
       "        text-align: right;\n",
       "    }\n",
       "</style>\n",
       "<table border=\"1\" class=\"dataframe\">\n",
       "  <thead>\n",
       "    <tr style=\"text-align: right;\">\n",
       "      <th></th>\n",
       "      <th>market_data</th>\n",
       "    </tr>\n",
       "  </thead>\n",
       "  <tbody>\n",
       "    <tr>\n",
       "      <th>Dec</th>\n",
       "      <td>19609.521440</td>\n",
       "    </tr>\n",
       "    <tr>\n",
       "      <th>Jan</th>\n",
       "      <td>29022.418395</td>\n",
       "    </tr>\n",
       "    <tr>\n",
       "      <th>Feb</th>\n",
       "      <td>33064.786767</td>\n",
       "    </tr>\n",
       "    <tr>\n",
       "      <th>Mar</th>\n",
       "      <td>44970.163460</td>\n",
       "    </tr>\n",
       "    <tr>\n",
       "      <th>Apr</th>\n",
       "      <td>58817.373888</td>\n",
       "    </tr>\n",
       "  </tbody>\n",
       "</table>\n",
       "</div>"
      ],
      "text/plain": [
       "      market_data\n",
       "Dec  19609.521440\n",
       "Jan  29022.418395\n",
       "Feb  33064.786767\n",
       "Mar  44970.163460\n",
       "Apr  58817.373888"
      ]
     },
     "execution_count": 101,
     "metadata": {},
     "output_type": "execute_result"
    }
   ],
   "source": [
    "df_price_btc"
   ]
  },
  {
   "cell_type": "code",
   "execution_count": 102,
   "metadata": {},
   "outputs": [
    {
     "data": {
      "text/html": [
       "<div>\n",
       "<style scoped>\n",
       "    .dataframe tbody tr th:only-of-type {\n",
       "        vertical-align: middle;\n",
       "    }\n",
       "\n",
       "    .dataframe tbody tr th {\n",
       "        vertical-align: top;\n",
       "    }\n",
       "\n",
       "    .dataframe thead th {\n",
       "        text-align: right;\n",
       "    }\n",
       "</style>\n",
       "<table border=\"1\" class=\"dataframe\">\n",
       "  <thead>\n",
       "    <tr style=\"text-align: right;\">\n",
       "      <th></th>\n",
       "      <th>market_data</th>\n",
       "      <th>market_data</th>\n",
       "    </tr>\n",
       "  </thead>\n",
       "  <tbody>\n",
       "    <tr>\n",
       "      <th>Dec</th>\n",
       "      <td>19609.521440</td>\n",
       "      <td>0.012611</td>\n",
       "    </tr>\n",
       "    <tr>\n",
       "      <th>Jan</th>\n",
       "      <td>29022.418395</td>\n",
       "      <td>0.010611</td>\n",
       "    </tr>\n",
       "    <tr>\n",
       "      <th>Feb</th>\n",
       "      <td>33064.786767</td>\n",
       "      <td>0.015238</td>\n",
       "    </tr>\n",
       "    <tr>\n",
       "      <th>Mar</th>\n",
       "      <td>44970.163460</td>\n",
       "      <td>0.104994</td>\n",
       "    </tr>\n",
       "    <tr>\n",
       "      <th>Apr</th>\n",
       "      <td>58817.373888</td>\n",
       "      <td>0.808517</td>\n",
       "    </tr>\n",
       "  </tbody>\n",
       "</table>\n",
       "</div>"
      ],
      "text/plain": [
       "      market_data  market_data\n",
       "Dec  19609.521440     0.012611\n",
       "Jan  29022.418395     0.010611\n",
       "Feb  33064.786767     0.015238\n",
       "Mar  44970.163460     0.104994\n",
       "Apr  58817.373888     0.808517"
      ]
     },
     "execution_count": 102,
     "metadata": {},
     "output_type": "execute_result"
    }
   ],
   "source": [
    "combined_df = pd.concat(\n",
    "[df_price_btc, df_price_cg], axis=\"columns\", join=\"inner\"\n",
    ")\n",
    "\n",
    "combined_df"
   ]
  },
  {
   "cell_type": "code",
   "execution_count": 105,
   "metadata": {},
   "outputs": [
    {
     "name": "stderr",
     "output_type": "stream",
     "text": [
      "C:\\Users\\alish\\anaconda3\\ANACONDA\\envs\\pyvizenv\\lib\\site-packages\\pandas\\plotting\\_core.py:396: UserWarning: FixedFormatter should only be used together with FixedLocator\n",
      "  ax.set_xticklabels(xticklabels)\n"
     ]
    },
    {
     "data": {
      "text/plain": [
       "<AxesSubplot:>"
      ]
     },
     "execution_count": 105,
     "metadata": {},
     "output_type": "execute_result"
    },
    {
     "data": {
      "image/png": "[encoded data removed]",
      "text/plain": [
       "<Figure size 432x288 with 1 Axes>"
      ]
     },
     "metadata": {
      "needs_background": "light"
     },
     "output_type": "display_data"
    }
   ],
   "source": [
    "combined_df.plot(ylim=(0.000000,60000))"
   ]
  },
  {
   "cell_type": "code",
   "execution_count": 109,
   "metadata": {},
   "outputs": [
    {
     "data": {
      "text/plain": [
       "<AxesSubplot:title={'center':'Chain Games Price'}>"
      ]
     },
     "execution_count": 109,
     "metadata": {},
     "output_type": "execute_result"
    },
    {
     "data": {
      "image/png": "[encoded data removed]",
      "text/plain": [
       "<Figure size 432x288 with 1 Axes>"
      ]
     },
     "metadata": {
      "needs_background": "light"
     },
     "output_type": "display_data"
    }
   ],
   "source": [
    "df_price_cg.plot(kind=\"bar\", title=\"Chain Games Price\")"
   ]
  },
  {
   "cell_type": "code",
   "execution_count": null,
   "metadata": {},
   "outputs": [],
   "source": []
  }
 ],
 "metadata": {
  "kernelspec": {
   "display_name": "Python [conda env:pyvizenv] *",
   "language": "python",
   "name": "conda-env-pyvizenv-py"
  },
  "language_info": {
   "codemirror_mode": {
    "name": "ipython",
    "version": 3
   },
   "file_extension": ".py",
   "mimetype": "text/x-python",
   "name": "python",
   "nbconvert_exporter": "python",
   "pygments_lexer": "ipython3",
   "version": "3.7.9"
  }
 },
 "nbformat": 4,
 "nbformat_minor": 4
}
