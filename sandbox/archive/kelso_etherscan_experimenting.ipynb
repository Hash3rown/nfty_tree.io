{
 "metadata": {
  "language_info": {
   "codemirror_mode": {
    "name": "ipython",
    "version": 3
   },
   "file_extension": ".py",
   "mimetype": "text/x-python",
   "name": "python",
   "nbconvert_exporter": "python",
   "pygments_lexer": "ipython3",
   "version": "3.8.5-final"
  },
  "orig_nbformat": 2,
  "kernelspec": {
   "name": "python385jvsc74a57bd0dc62efafcace05a71f9ea350f95449eeb28c1e5dbe2a642c820fb2c5e5b47a5f",
   "display_name": "Python 3.8.5 64-bit ('base': conda)"
  }
 },
 "nbformat": 4,
 "nbformat_minor": 2,
 "cells": [
  {
   "cell_type": "code",
   "execution_count": 12,
   "metadata": {},
   "outputs": [
    {
     "output_type": "execute_result",
     "data": {
      "text/plain": [
       "True"
      ]
     },
     "metadata": {},
     "execution_count": 12
    }
   ],
   "source": [
    "import requests\n",
    "from dotenv import load_dotenv\n",
    "import os\n",
    "load_dotenv()"
   ]
  },
  {
   "cell_type": "code",
   "execution_count": 13,
   "metadata": {},
   "outputs": [
    {
     "output_type": "execute_result",
     "data": {
      "text/plain": [
       "str"
      ]
     },
     "metadata": {},
     "execution_count": 13
    }
   ],
   "source": [
    "api_key = os.getenv(\"ETHSCAN_API_KEY\")\n",
    "type(api_key)"
   ]
  },
  {
   "source": [
    "** Getting the total supply of ERC20 tokens **\n",
    "____________________________________________________________\n",
    "____________________________________________________________\n",
    "____________________________________________________________"
   ],
   "cell_type": "markdown",
   "metadata": {}
  },
  {
   "cell_type": "code",
   "execution_count": 14,
   "metadata": {},
   "outputs": [
    {
     "output_type": "stream",
     "name": "stdout",
     "text": [
      "https://api.etherscan.io/api?module=stats&action=tokensupply&contractaddress=0x4c11249814f11b9346808179cf06e71ac328c1b5&apikey=I6Q2G3URBE28F26AX621NR3Z39A6ADT2TQ\n"
     ]
    }
   ],
   "source": [
    "orai_contract_address = \"0x4c11249814f11b9346808179cf06e71ac328c1b5\"\n",
    "url = \"https://api.etherscan.io/api?module=stats&action=tokensupply&contractaddress=\" + orai_address + \\\n",
    "    \"&apikey=\" + api_key\n",
    "print (url)"
   ]
  },
  {
   "cell_type": "code",
   "execution_count": 15,
   "metadata": {},
   "outputs": [
    {
     "output_type": "execute_result",
     "data": {
      "text/plain": [
       "{'status': '1', 'message': 'OK', 'result': '86000000000000000000000000'}"
      ]
     },
     "metadata": {},
     "execution_count": 15
    }
   ],
   "source": [
    "response = requests.get(url)\n",
    "response_data = response.json()\n",
    "response_data"
   ]
  },
  {
   "source": [
    "** Get Historical ERC20-Token TotalSupply by ContractAddress & BlockNo **\n",
    "____________________________________________________________\n",
    "____________________________________________________________\n",
    "____________________________________________________________"
   ],
   "cell_type": "markdown",
   "metadata": {}
  },
  {
   "cell_type": "code",
   "execution_count": 24,
   "metadata": {},
   "outputs": [
    {
     "output_type": "execute_result",
     "data": {
      "text/plain": [
       "{'status': '1', 'message': 'OK', 'result': '86000000000000000000000000'}"
      ]
     },
     "metadata": {},
     "execution_count": 24
    }
   ],
   "source": [
    "url_hist = \"https://api.etherscan.io/api?module=stats&action=tokensupplyhistory&contractaddress=\" + orai_address + \\\n",
    "    \"&blockno=1&apikey=\" + api_key\n",
    "\n",
    "response = requests.get(url)\n",
    "response_data = response.json()\n",
    "response_data"
   ]
  },
  {
   "cell_type": "code",
   "execution_count": null,
   "metadata": {},
   "outputs": [],
   "source": []
  }
 ]
}