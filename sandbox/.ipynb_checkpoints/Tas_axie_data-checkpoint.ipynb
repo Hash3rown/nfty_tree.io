{
 "metadata": {
  "language_info": {
   "codemirror_mode": {
    "name": "ipython",
    "version": 3
   },
   "file_extension": ".py",
   "mimetype": "text/x-python",
   "name": "python",
   "nbconvert_exporter": "python",
   "pygments_lexer": "ipython3",
   "version": "3.7.9-final"
  },
  "orig_nbformat": 2,
  "kernelspec": {
   "name": "python379jvsc74a57bd00f5910e32ecd35e540e8a7f4aeb9b6dc2cbfedc879a75ab82a17b255d9311616",
   "display_name": "Python 3.7.9 64-bit ('pyvizenv': conda)"
  }
 },
 "nbformat": 4,
 "nbformat_minor": 2,
 "cells": [
  {
   "cell_type": "code",
   "execution_count": null,
   "metadata": {},
   "outputs": [],
   "source": [
    "import pandas as pd\n",
    "import numpy as np\n",
    "from panel.interact import interact\n",
    "import json\n",
    "from pprint import pprint\n",
    "#import hvplot.pandas\n",
    "\n",
    "import plotly.express as px\n",
    "\n",
    "\n",
    "\n",
    "\n",
    "%matplotlib inline"
   ]
  },
  {
   "source": [
    "# Data collection\n",
    "****\n",
    "## Read CSV's into dataframes\n"
   ],
   "cell_type": "markdown",
   "metadata": {}
  },
  {
   "source": [
    "## Unique holders of Axies"
   ],
   "cell_type": "markdown",
   "metadata": {}
  },
  {
   "cell_type": "code",
   "execution_count": null,
   "metadata": {},
   "outputs": [],
   "source": [
    "#Create dataframes from all csv files\n",
    "axie_holders_df = pd.read_csv(\"../Resources/Axie_csv/holders.csv\", delimiter = ';', index_col = 'Date Parsed', parse_dates=True)\n",
    "axie_holders_df = axie_holders_df.drop([\"Date Raw\"], axis = 1)"
   ]
  },
  {
   "source": [
    "## $AXS token daily close since launch in 2020 (remove all columns except date and price)"
   ],
   "cell_type": "markdown",
   "metadata": {}
  },
  {
   "cell_type": "code",
   "execution_count": null,
   "metadata": {},
   "outputs": [],
   "source": [
    "#daily AXS token price since token launch\n",
    "\n",
    "AXS_price_df = pd.read_csv(\"../Resources/axs-usd-max.csv\", parse_dates=True)\n",
    "#convert datetime (snapped_at) to date\n",
    "AXS_price_df['Date'] = pd.to_datetime(AXS_price_df['snapped_at']).dt.date\n",
    "AXS_price_df = (\n",
    "    AXS_price_df.drop([\"snapped_at\", \"market_cap\", \"total_volume\"], \n",
    "    axis = 1)).set_index([\"Date\"]\n",
    "    ).rename(columns={\"price\":\"$AXS (USD)\"})\n",
    "#AXS_price_df = AXS_price_df.set_index([\"Date\"])"
   ]
  },
  {
   "source": [
    "## Total transaction volume accross the site"
   ],
   "cell_type": "markdown",
   "metadata": {}
  },
  {
   "cell_type": "code",
   "execution_count": null,
   "metadata": {},
   "outputs": [],
   "source": [
    "#total transaction volume inc land and slp etc\n",
    "total_volume_df = pd.read_csv(\"../Resources/Axie_csv/totalVolume.csv\", delimiter = ';', index_col = 'Date Parsed', parse_dates=True).round(1)\n",
    "total_volume_df = total_volume_df.drop([\"Date Raw\"], axis = 1)"
   ]
  },
  {
   "source": [
    "## Average price for one Axie"
   ],
   "cell_type": "markdown",
   "metadata": {}
  },
  {
   "cell_type": "code",
   "execution_count": null,
   "metadata": {},
   "outputs": [],
   "source": [
    "#Average price for one Axie\n",
    "axieAverage_df = pd.read_csv(\n",
    "    \"../Resources/Axie_csv/axieAverage.csv\", delimiter = ';', index_col = 'Date Parsed', parse_dates=True\n",
    "    ).round(1)\n",
    "\n",
    "axieAverage_df = axieAverage_df.drop(\n",
    "    [\"Meo\", \"Meo USD\", \"Meo2\", \"Meo2 USD\", \"Date Raw\", \"Mystic4\", \"Mystic4 USD\"], axis = 1\n",
    "    )\n"
   ]
  },
  {
   "source": [
    "## Sales Volume (Axie only)"
   ],
   "cell_type": "markdown",
   "metadata": {}
  },
  {
   "cell_type": "code",
   "execution_count": null,
   "metadata": {},
   "outputs": [],
   "source": [
    "#Axie only sales volume\n",
    "axie_volume_df = pd.read_csv(\n",
    "    \"../Resources/Axie_csv/axieVolume.csv\", delimiter = ';', index_col = 'Date Parsed', parse_dates=True\n",
    "    ).round(1)\n",
    "axie_volume_df = axie_volume_df.drop([\"Date Raw\"], axis = 1)"
   ]
  },
  {
   "source": [
    "## Revenue collected by the platform"
   ],
   "cell_type": "markdown",
   "metadata": {}
  },
  {
   "cell_type": "code",
   "execution_count": null,
   "metadata": {},
   "outputs": [],
   "source": [
    "#Revenue to founders/ dev team\n",
    "revenue_df = pd.read_csv(\n",
    "    \"../Resources/Axie_csv/revenue.csv\", delimiter = ';', index_col = 'Date Parsed', parse_dates=True\n",
    "    ).round(1)\n",
    "revenue_df = revenue_df.drop(\n",
    "    [\"Date Raw\", \"Axie Presale ETH\", \"Land Presale ETH\", \"Marketplace Fee ETH\", \"Breeding Fee ETH\"], axis = 1\n",
    "    )"
   ]
  },
  {
   "source": [
    "## Joining Dataframes"
   ],
   "cell_type": "markdown",
   "metadata": {}
  },
  {
   "cell_type": "code",
   "execution_count": null,
   "metadata": {},
   "outputs": [],
   "source": [
    "#Join Axie holders table with sales volume and drop nulls\n",
    "\n",
    "df_holders_and_vol = axie_holders_df.join(total_volume_df, how='left').dropna()"
   ]
  },
  {
   "source": [
    "# Visualisations\n",
    "****\n",
    "### $AXS Price"
   ],
   "cell_type": "markdown",
   "metadata": {}
  },
  {
   "cell_type": "code",
   "execution_count": null,
   "metadata": {},
   "outputs": [],
   "source": [
    "#Visualize AXS price\n",
    "fig_AXS = px.line(AXS_price_df, labels={\"value\":\"$AXS (USD)\"})\n",
    "fig_AXS.show()"
   ]
  },
  {
   "source": [
    "## Revenue Streams\n",
    "****\n",
    "### Land, Axies, Breeding Fees, Marketplace resale"
   ],
   "cell_type": "markdown",
   "metadata": {}
  },
  {
   "cell_type": "code",
   "execution_count": null,
   "metadata": {},
   "outputs": [],
   "source": [
    "#Visualise revenue streams\n",
    "rev_fig = px.line(\n",
    "    revenue_df,\n",
    "    labels={\"Date Parsed\": \"Date\", \"value\": \"USD\"},\n",
    "    title= \"Revenue vs Time\",\n",
    "    )\n",
    "rev_fig"
   ]
  },
  {
   "source": [
    "### Revenue composition"
   ],
   "cell_type": "markdown",
   "metadata": {}
  },
  {
   "cell_type": "code",
   "execution_count": null,
   "metadata": {},
   "outputs": [],
   "source": [
    "#Take final row of revenue df and produce pie chart showing composition of total revenue to founders\n",
    "#Shows that Marketplace fees (percentage of resale of in game pets/items/land) have now surpassed all other streams\n",
    "\n",
    "revenue_pie_data = pd.DataFrame(revenue_df.iloc[-1])\n",
    "\n",
    "fig_pie = px.pie(revenue_pie_data, values=\"2021-04-06\", names=revenue_pie_data.index, title='Revenue Composition (to date)')\n",
    "fig_pie.show()\n"
   ]
  },
  {
   "source": [
    "### Unique Players/Owners"
   ],
   "cell_type": "markdown",
   "metadata": {}
  },
  {
   "cell_type": "code",
   "execution_count": null,
   "metadata": {},
   "outputs": [],
   "source": [
    "#axie holders are increasing exponentially\n",
    "\n",
    "fig_holders = px.line(axie_holders_df,\n",
    "    labels={\"Date Parsed\": \"Date\", \"value\": \"Holders\"},\n",
    "    title= \"Unique Axie holders\",\n",
    "    )\n",
    "fig_holders.show()"
   ]
  },
  {
   "source": [
    "### Axie price average (Eth or USD?)"
   ],
   "cell_type": "markdown",
   "metadata": {}
  },
  {
   "cell_type": "code",
   "execution_count": null,
   "metadata": {},
   "outputs": [],
   "source": [
    "#Visualize Average axie price in ETH and USD - shows that the price is consistant in ETH but tends to ignore the USD value\n",
    "\n",
    "\n",
    "ax = axieAverage_df['Normal'].plot(figsize=[20,10])\n",
    "ax2 = axieAverage_df['Normal USD'].plot(secondary_y=True, figsize=[20,10])\n",
    "ax2.set_ylim(0, 400)\n",
    "ax2.set_ylabel(\"USD\")\n",
    "ax.set_ylabel(\"ETH\")\n",
    "ax.set_xlabel(\"DATE\")\n",
    "\n",
    "ax_av_fig = ax.get_figure()\n",
    "ax_av_fig.savefig('AxieAverage price.png')"
   ]
  },
  {
   "source": [
    "## Cumulative Sales volume (including secondary marketplace)"
   ],
   "cell_type": "markdown",
   "metadata": {}
  },
  {
   "cell_type": "code",
   "execution_count": null,
   "metadata": {},
   "outputs": [],
   "source": [
    "# Visualize how Cumulative Sales Volume is also growing exponentially (Only a small portion of these sales generate revenue through a marketplace fee)\n",
    "# Most of this volume is P2P exchange\n",
    "cum_sales_fig = px.line(df_holders_and_vol, y=\"Cummulative Volume USD\",\n",
    "    labels={\"Date Parsed\": \"Date\"},\n",
    "    title= \"Cumulative Sales Volume (Axies)\"\n",
    "    )\n",
    "cum_sales_fig.show()"
   ]
  },
  {
   "source": [
    "## Sales Vol vs Holders"
   ],
   "cell_type": "markdown",
   "metadata": {}
  },
  {
   "cell_type": "code",
   "execution_count": null,
   "metadata": {},
   "outputs": [],
   "source": [
    "#Holders with cum_vol\n",
    "cum_sales_fig = px.line(df_holders_and_vol, y=[\"Cummulative Volume USD\", \"Holders Count\"],\n",
    "    labels={\"Date Parsed\": \"Date\"},\n",
    "    title= \"Cumulative Tx Volume/Holders\"\n",
    "    )\n",
    "cum_sales_fig.show()"
   ]
  },
  {
   "source": [
    "## Scaled to show trend\n",
    "### Using Sci-kit Learn - a machine learning library for Python "
   ],
   "cell_type": "markdown",
   "metadata": {}
  },
  {
   "cell_type": "code",
   "execution_count": null,
   "metadata": {},
   "outputs": [],
   "source": [
    "#Scale data using preprocessing to see trends concurrenlty\n",
    "\n",
    "from sklearn import preprocessing\n",
    "\n",
    "min_max_scaler = preprocessing.MinMaxScaler(feature_range=(0,100))\n",
    "scaled = min_max_scaler.fit_transform(df_holders_and_vol)\n",
    "\n",
    "scaled\n",
    "\n",
    "#Returns numpy array"
   ]
  },
  {
   "cell_type": "code",
   "execution_count": null,
   "metadata": {},
   "outputs": [],
   "source": [
    "#convert array into df with columns set to solumns in original df\n",
    "\n",
    "df_scaled = pd.DataFrame(scaled, columns=df_holders_and_vol.columns)"
   ]
  },
  {
   "cell_type": "code",
   "execution_count": null,
   "metadata": {},
   "outputs": [],
   "source": [
    "#visualize the scaled data\n",
    "\n",
    "fig_scale = px.line(df_scaled, y=[\"Cummulative Volume USD\", \"Holders Count\"],\n",
    "    labels= {\"value\":\"Scaled Value\", \"index\":\"Days Since Launch\"},\n",
    "    title= \"Scaled Volume/Holder numbers\"\n",
    "    )\n",
    "fig_scale.show()\n",
    "# This shows exponential growth in number of holders is aligned with the exponential increase in  the cumulative volume of revenue."
   ]
  },
  {
   "source": [
    "### Add in $AXS chart"
   ],
   "cell_type": "markdown",
   "metadata": {}
  },
  {
   "cell_type": "code",
   "execution_count": null,
   "metadata": {},
   "outputs": [],
   "source": [
    "#Join AXS price to scaled data (first join dataframes)\n",
    "df_holders_and_vol_AXS = df_holders_and_vol.join(AXS_price_df, how='left').dropna()"
   ]
  },
  {
   "cell_type": "code",
   "execution_count": null,
   "metadata": {},
   "outputs": [],
   "source": [
    "#scaled data with axs price\n",
    "scaledAXS = min_max_scaler.fit_transform(df_holders_and_vol_AXS)\n",
    "df_scaledAXS = pd.DataFrame(scaledAXS, columns=df_holders_and_vol_AXS.columns)"
   ]
  },
  {
   "cell_type": "code",
   "execution_count": null,
   "metadata": {},
   "outputs": [],
   "source": [
    "#Visualize all\n",
    "fig_scaleAXS = px.line(df_scaledAXS, y=[\"Cummulative Volume USD\", \"Holders Count\",\"$AXS (USD)\"],\n",
    "    labels= {\"value\":\"Scaled Value\", \"index\":\"Days Since AXS Launch\"},\n",
    "    title= \"Scaled Volume/Holder numbers/AXS price\"\n",
    "    )\n",
    "fig_scaleAXS.show()"
   ]
  },
  {
   "cell_type": "code",
   "execution_count": null,
   "metadata": {},
   "outputs": [],
   "source": [
    "import panel as pn\n",
    "pn.extension(\"plotly\")\n",
    "#PANEL TIME\n",
    "#Figs:\n",
    "#fig_scaleAXS, fig_scale, fig_holders, cum_sales_fig, fig_AXS, fig_pie\n",
    "panelrow = pn.Row(fig_holders, fig_scaleAXS)\n",
    "\n",
    "panelrow2 = pn.Row(rev_fig, fig_pie)\n",
    "\n",
    "column = pn.Column(panelrow, panelrow2)\n",
    "\n",
    "column"
   ]
  },
  {
   "cell_type": "code",
   "execution_count": null,
   "metadata": {},
   "outputs": [],
   "source": []
  }
 ]
}