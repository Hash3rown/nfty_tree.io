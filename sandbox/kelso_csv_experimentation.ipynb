{
 "metadata": {
  "language_info": {
   "codemirror_mode": {
    "name": "ipython",
    "version": 3
   },
   "file_extension": ".py",
   "mimetype": "text/x-python",
   "name": "python",
   "nbconvert_exporter": "python",
   "pygments_lexer": "ipython3",
   "version": "3.8.5-final"
  },
  "orig_nbformat": 2,
  "kernelspec": {
   "name": "python385jvsc74a57bd0dc62efafcace05a71f9ea350f95449eeb28c1e5dbe2a642c820fb2c5e5b47a5f",
   "display_name": "Python 3.8.5 64-bit ('base': conda)"
  }
 },
 "nbformat": 4,
 "nbformat_minor": 2,
 "cells": [
  {
   "cell_type": "code",
   "execution_count": 2,
   "metadata": {},
   "outputs": [],
   "source": [
    "# Initial imports\n",
    "import pandas as pd\n",
    "import datetime as dt\n",
    "from pathlib import Path"
   ]
  },
  {
   "cell_type": "code",
   "execution_count": 3,
   "metadata": {},
   "outputs": [],
   "source": [
    "# Set the path for each CSV file\n",
    "axs_path = Path(\"../Resources/axs-usd-max.csv\")\n",
    "cgg_path = Path(\"../Resources/cgg-usd-max.csv\")\n",
    "chain_path = Path(\"../Resources/chain-usd-max.csv\")\n",
    "mana_path = Path(\"../Resources/mana-usd-max.csv\")\n",
    "mega_path = Path(\"../Resources/mega-usd-max.csv\")\n",
    "sand_path = Path(\"../Resources/sand-usd-max.csv\")\n",
    "\n",
    "# Read in the data into Pandas DataFrames\n",
    "axs_df = pd.read_csv(axs_path, index_col=\"snapped_at\", infer_datetime_format=True, parse_dates=True, )\n",
    "cgg_df = pd.read_csv(cgg_path, index_col=\"snapped_at\", infer_datetime_format=True, parse_dates=True, )\n",
    "chain_df = pd.read_csv(chain_path, index_col=\"snapped_at\", infer_datetime_format=True, parse_dates=True, )\n",
    "mana_df = pd.read_csv(mana_path, index_col=\"snapped_at\", infer_datetime_format=True, parse_dates=True, )\n",
    "mega_df = pd.read_csv(mega_path, index_col=\"snapped_at\", infer_datetime_format=True, parse_dates=True, )\n",
    "sand_df = pd.read_csv(sand_path, index_col=\"snapped_at\", infer_datetime_format=True, parse_dates=True, )"
   ]
  },
  {
   "source": [
    "*** comparing prices ***"
   ],
   "cell_type": "markdown",
   "metadata": {}
  },
  {
   "cell_type": "code",
   "execution_count": 4,
   "metadata": {},
   "outputs": [
    {
     "output_type": "error",
     "ename": "NameError",
     "evalue": "name 'axs_df_prices' is not defined",
     "traceback": [
      "\u001b[0;31m---------------------------------------------------------------------------\u001b[0m",
      "\u001b[0;31mNameError\u001b[0m                                 Traceback (most recent call last)",
      "\u001b[0;32m<ipython-input-4-455cac0056a8>\u001b[0m in \u001b[0;36m<module>\u001b[0;34m\u001b[0m\n\u001b[1;32m      9\u001b[0m \u001b[0;34m\u001b[0m\u001b[0m\n\u001b[1;32m     10\u001b[0m \u001b[0;34m\u001b[0m\u001b[0m\n\u001b[0;32m---> 11\u001b[0;31m \u001b[0maxs_df_prices\u001b[0m \u001b[0;34m=\u001b[0m \u001b[0maxs_df_prices\u001b[0m\u001b[0;34m.\u001b[0m\u001b[0mrename\u001b[0m\u001b[0;34m(\u001b[0m\u001b[0mcolumns\u001b[0m\u001b[0;34m=\u001b[0m\u001b[0;34m{\u001b[0m \u001b[0;34m\"price\"\u001b[0m\u001b[0;34m:\u001b[0m \u001b[0;34m\"axs_price\"\u001b[0m \u001b[0;34m}\u001b[0m\u001b[0;34m)\u001b[0m\u001b[0;34m\u001b[0m\u001b[0;34m\u001b[0m\u001b[0m\n\u001b[0m\u001b[1;32m     12\u001b[0m \u001b[0mcgg_df\u001b[0m \u001b[0;34m=\u001b[0m \u001b[0mcgg_df\u001b[0m\u001b[0;34m.\u001b[0m\u001b[0mrename\u001b[0m\u001b[0;34m(\u001b[0m\u001b[0mcolumns\u001b[0m\u001b[0;34m=\u001b[0m\u001b[0;34m{\u001b[0m \u001b[0;34m\"price\"\u001b[0m\u001b[0;34m:\u001b[0m \u001b[0;34m\"cgg_price\"\u001b[0m \u001b[0;34m}\u001b[0m\u001b[0;34m)\u001b[0m\u001b[0;34m\u001b[0m\u001b[0;34m\u001b[0m\u001b[0m\n\u001b[1;32m     13\u001b[0m \u001b[0mchain_df\u001b[0m \u001b[0;34m=\u001b[0m \u001b[0mchain_df\u001b[0m\u001b[0;34m.\u001b[0m\u001b[0mrename\u001b[0m\u001b[0;34m(\u001b[0m\u001b[0mcolumns\u001b[0m\u001b[0;34m=\u001b[0m\u001b[0;34m{\u001b[0m \u001b[0;34m\"price\"\u001b[0m\u001b[0;34m:\u001b[0m \u001b[0;34m\"chain_price\"\u001b[0m \u001b[0;34m}\u001b[0m\u001b[0;34m)\u001b[0m\u001b[0;34m\u001b[0m\u001b[0;34m\u001b[0m\u001b[0m\n",
      "\u001b[0;31mNameError\u001b[0m: name 'axs_df_prices' is not defined"
     ]
    }
   ],
   "source": [
    "# 1. Convert dfs into price only\n",
    "\n",
    "axs_df = axs_df[['price']]\n",
    "cgg_df = cgg_df[['price']]\n",
    "chain_df = chain_df[['price']]\n",
    "mana_df = mana_df[['price']]\n",
    "mega_df = mega_df[['price']]\n",
    "sand_df = sand_df[['price']]\n",
    "\n",
    "\n",
    "axs_df_prices = axs_df_prices.rename(columns={ \"price\": \"axs_price\" })\n",
    "cgg_df = cgg_df.rename(columns={ \"price\": \"cgg_price\" })\n",
    "chain_df = chain_df.rename(columns={ \"price\": \"chain_price\" })\n",
    "mana_df = mana_df.rename(columns={ \"price\": \"mana_price\" })\n",
    "mega_df = mega_df.rename(columns={ \"price\": \"mega_price\" })\n",
    "sand_df = sand_df.rename(columns={ \"price\": \"sand_price\" })\n"
   ]
  },
  {
   "cell_type": "code",
   "execution_count": 1,
   "metadata": {},
   "outputs": [
    {
     "output_type": "error",
     "ename": "NameError",
     "evalue": "name 'pd' is not defined",
     "traceback": [
      "\u001b[0;31m---------------------------------------------------------------------------\u001b[0m",
      "\u001b[0;31mNameError\u001b[0m                                 Traceback (most recent call last)",
      "\u001b[0;32m<ipython-input-1-a49e98d8d051>\u001b[0m in \u001b[0;36m<module>\u001b[0;34m\u001b[0m\n\u001b[0;32m----> 1\u001b[0;31m combined_df = pd.concat(\n\u001b[0m\u001b[1;32m      2\u001b[0m     \u001b[0;34m[\u001b[0m\u001b[0maxs_df_prices\u001b[0m\u001b[0;34m,\u001b[0m \u001b[0mcgg_df\u001b[0m\u001b[0;34m,\u001b[0m \u001b[0mchain_df\u001b[0m\u001b[0;34m,\u001b[0m \u001b[0mmana_df\u001b[0m\u001b[0;34m,\u001b[0m \u001b[0mmega_df\u001b[0m\u001b[0;34m,\u001b[0m \u001b[0msand_df\u001b[0m\u001b[0;34m]\u001b[0m\u001b[0;34m,\u001b[0m \u001b[0maxis\u001b[0m\u001b[0;34m=\u001b[0m\u001b[0;34m\"columns\"\u001b[0m\u001b[0;34m,\u001b[0m \u001b[0mjoin\u001b[0m\u001b[0;34m=\u001b[0m\u001b[0;34m\"inner\"\u001b[0m\u001b[0;34m\u001b[0m\u001b[0;34m\u001b[0m\u001b[0m\n\u001b[1;32m      3\u001b[0m )\n\u001b[1;32m      4\u001b[0m \u001b[0mcombined_df\u001b[0m\u001b[0;34m\u001b[0m\u001b[0;34m\u001b[0m\u001b[0m\n",
      "\u001b[0;31mNameError\u001b[0m: name 'pd' is not defined"
     ]
    }
   ],
   "source": [
    "combined_df = pd.concat(\n",
    "    [axs_df_prices, cgg_df, chain_df, mana_df, mega_df, sand_df], axis=\"columns\", join=\"inner\"\n",
    ")\n",
    "combined_df"
   ]
  },
  {
   "cell_type": "code",
   "execution_count": null,
   "metadata": {},
   "outputs": [],
   "source": []
  }
 ]
}